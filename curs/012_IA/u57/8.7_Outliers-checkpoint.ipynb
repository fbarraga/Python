{
 "cells": [
  {
   "cell_type": "code",
   "execution_count": null,
   "metadata": {},
   "outputs": [],
   "source": [
    "#### 0.0.1 - 2021 - 01 - 01\n",
    "#### Dr. Marco Aceves \n",
    "#### rev en Jupyter Notebook\n",
    "#### Código como ejemplo como parte del libro:\n",
    "#### Inteligencia Artificial para Programadores con Prisa\n",
    "#### 8.7_Outliers.ipynb\n",
    "# Detección de valores atípicos"
   ]
  },
  {
   "cell_type": "code",
   "execution_count": 5,
   "metadata": {},
   "outputs": [
    {
     "data": {
      "text/html": [
       "<div>\n",
       "<style scoped>\n",
       "    .dataframe tbody tr th:only-of-type {\n",
       "        vertical-align: middle;\n",
       "    }\n",
       "\n",
       "    .dataframe tbody tr th {\n",
       "        vertical-align: top;\n",
       "    }\n",
       "\n",
       "    .dataframe thead th {\n",
       "        text-align: right;\n",
       "    }\n",
       "</style>\n",
       "<table border=\"1\" class=\"dataframe\">\n",
       "  <thead>\n",
       "    <tr style=\"text-align: right;\">\n",
       "      <th></th>\n",
       "      <th>X1</th>\n",
       "      <th>X2</th>\n",
       "      <th>X3</th>\n",
       "      <th>X4</th>\n",
       "      <th>X5</th>\n",
       "      <th>Supervivencia</th>\n",
       "    </tr>\n",
       "  </thead>\n",
       "  <tbody>\n",
       "    <tr>\n",
       "      <th>0</th>\n",
       "      <td>156</td>\n",
       "      <td>245</td>\n",
       "      <td>31.6</td>\n",
       "      <td>18.5</td>\n",
       "      <td>20.5</td>\n",
       "      <td>Superviviente</td>\n",
       "    </tr>\n",
       "    <tr>\n",
       "      <th>1</th>\n",
       "      <td>154</td>\n",
       "      <td>240</td>\n",
       "      <td>30.4</td>\n",
       "      <td>17.9</td>\n",
       "      <td>19.6</td>\n",
       "      <td>No superviviente</td>\n",
       "    </tr>\n",
       "    <tr>\n",
       "      <th>2</th>\n",
       "      <td>153</td>\n",
       "      <td>240</td>\n",
       "      <td>31.0</td>\n",
       "      <td>18.4</td>\n",
       "      <td>20.6</td>\n",
       "      <td>No superviviente</td>\n",
       "    </tr>\n",
       "    <tr>\n",
       "      <th>3</th>\n",
       "      <td>153</td>\n",
       "      <td>236</td>\n",
       "      <td>30.9</td>\n",
       "      <td>17.7</td>\n",
       "      <td>20.2</td>\n",
       "      <td>No superviviente</td>\n",
       "    </tr>\n",
       "    <tr>\n",
       "      <th>4</th>\n",
       "      <td>155</td>\n",
       "      <td>243</td>\n",
       "      <td>31.5</td>\n",
       "      <td>18.6</td>\n",
       "      <td>20.3</td>\n",
       "      <td>Superviviente</td>\n",
       "    </tr>\n",
       "  </tbody>\n",
       "</table>\n",
       "</div>"
      ],
      "text/plain": [
       "    X1   X2    X3    X4    X5     Supervivencia\n",
       "0  156  245  31.6  18.5  20.5     Superviviente\n",
       "1  154  240  30.4  17.9  19.6  No superviviente\n",
       "2  153  240  31.0  18.4  20.6  No superviviente\n",
       "3  153  236  30.9  17.7  20.2  No superviviente\n",
       "4  155  243  31.5  18.6  20.3     Superviviente"
      ]
     },
     "execution_count": 5,
     "metadata": {},
     "output_type": "execute_result"
    }
   ],
   "source": [
    "#Importamos las Librerías\n",
    "import numpy as np\n",
    "import pandas as pd\n",
    "import matplotlib.pyplot as plt\n",
    "df = pd.read_csv('Gorriones.csv')\n",
    "df.head()"
   ]
  },
  {
   "cell_type": "code",
   "execution_count": 6,
   "metadata": {},
   "outputs": [],
   "source": [
    "def graficar(A, limite_inf, limite_sup):\n",
    "# creamos el indice\n",
    "    index = np.arange(0, A.shape[0])\n",
    "    # creamos una lista vacía para agreagar los errores de cardinalidad y/o los outliers\n",
    "    errores = []\n",
    "    # graficamos los datos en una gráfica de dispersión\n",
    "    plt.subplot(1, 2, 1)\n",
    "    plt.scatter(index, A)\n",
    "    plt.title('Scatter')\n",
    "\n",
    "    for ind in index:\n",
    "        plt.annotate(ind, (ind, A[ind]))\n",
    "\n",
    "        if A[ind] < limite_inf or A[ind] > limite_sup:\n",
    "            # graficamos los outliers de color rojo\n",
    "            plt.plot(ind, A[ind], color='red', marker='o')\n",
    "            # agregamos los outliers y/o errores de cardinalidad a la lista de errores\n",
    "            errores.append(str(ind)+':'+str(A[ind]))\n",
    "\n",
    "    # imprimimos los outliers\n",
    "    print(errores)\n",
    "    plt.subplot(1, 2, 2)\n",
    "    plt.boxplot(A)\n",
    "    plt.title('Boxplot')"
   ]
  },
  {
   "cell_type": "code",
   "execution_count": 7,
   "metadata": {},
   "outputs": [],
   "source": [
    "def det_outliers_quantiles(A):\n",
    "    # try/except para evitar tipos de datos no numéricos\n",
    "    try:\n",
    "        # definimos el primer quantile (25%)\n",
    "        Q1 = A.quantile(0.25)\n",
    "        # definimos el tercer quantile (75%)\n",
    "        Q3 = A.quantile(0.75) \n",
    "        # calculamos el IQR\n",
    "        IQR = Q3 - Q1\n",
    "        # calculamos los limites\n",
    "        limite_inf = Q1 - (1.5*IQR)\n",
    "        limite_sup = Q3 + (1.5*IQR)\n",
    "\t# Llamada a la función graficar\n",
    "        graficar(A, limite_inf, limite_sup)\n",
    "    except Exception as e:\n",
    "        print('Tipo de dato no válido.\\nTiene que ser numérico')\n",
    "        print(e.__class__.__name__, e)"
   ]
  },
  {
   "cell_type": "code",
   "execution_count": 1,
   "metadata": {},
   "outputs": [
    {
     "ename": "NameError",
     "evalue": "name 'df' is not defined",
     "output_type": "error",
     "traceback": [
      "\u001b[1;31m---------------------------------------------------------------------------\u001b[0m",
      "\u001b[1;31mNameError\u001b[0m                                 Traceback (most recent call last)",
      "\u001b[1;32mC:\\Users\\ADMINI~1\\AppData\\Local\\Temp/ipykernel_13020/4046287801.py\u001b[0m in \u001b[0;36m<module>\u001b[1;34m\u001b[0m\n\u001b[1;32m----> 1\u001b[1;33m \u001b[0mejeY\u001b[0m \u001b[1;33m=\u001b[0m \u001b[0mdf\u001b[0m\u001b[1;33m[\u001b[0m\u001b[1;34m'X2'\u001b[0m\u001b[1;33m]\u001b[0m\u001b[1;33m\u001b[0m\u001b[1;33m\u001b[0m\u001b[0m\n\u001b[0m\u001b[0;32m      2\u001b[0m \u001b[0mdet_outliers_quantiles\u001b[0m\u001b[1;33m(\u001b[0m\u001b[0mejeY\u001b[0m\u001b[1;33m)\u001b[0m\u001b[1;33m\u001b[0m\u001b[1;33m\u001b[0m\u001b[0m\n",
      "\u001b[1;31mNameError\u001b[0m: name 'df' is not defined"
     ]
    }
   ],
   "source": [
    "ejeY = df['X2']\n",
    "det_outliers_quantiles(ejeY)"
   ]
  },
  {
   "cell_type": "code",
   "execution_count": null,
   "metadata": {},
   "outputs": [],
   "source": []
  },
  {
   "cell_type": "code",
   "execution_count": null,
   "metadata": {},
   "outputs": [],
   "source": []
  }
 ],
 "metadata": {
  "kernelspec": {
   "display_name": "Python 3 (ipykernel)",
   "language": "python",
   "name": "python3"
  },
  "language_info": {
   "codemirror_mode": {
    "name": "ipython",
    "version": 3
   },
   "file_extension": ".py",
   "mimetype": "text/x-python",
   "name": "python",
   "nbconvert_exporter": "python",
   "pygments_lexer": "ipython3",
   "version": "3.9.7"
  }
 },
 "nbformat": 4,
 "nbformat_minor": 4
}
