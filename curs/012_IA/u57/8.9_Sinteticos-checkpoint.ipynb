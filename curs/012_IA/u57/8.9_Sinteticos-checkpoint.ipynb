{
 "cells": [
  {
   "cell_type": "code",
   "execution_count": 1,
   "metadata": {},
   "outputs": [],
   "source": [
    "# Creación de Datos Artificiales (Sintéticos)\n",
    "#### 0.0.1 - 2021 - 01 - 01\n",
    "#### Dr. Marco Aceves \n",
    "#### rev en Jupyter Notebook\n",
    "#### Código como ejemplo como parte del libro:\n",
    "#### Inteligencia Artificial para Programadores con Prisa\n",
    "#### 8.9_Sinteticos.ipynb"
   ]
  },
  {
   "cell_type": "markdown",
   "metadata": {},
   "source": [
    "# Datos Sinteticos"
   ]
  },
  {
   "cell_type": "code",
   "execution_count": 31,
   "metadata": {},
   "outputs": [],
   "source": [
    "#Librerias\n",
    "import os\n",
    "import random\n",
    "import numpy as  np\n",
    "import pandas as pd\n",
    "import matplotlib.pyplot as plt\n",
    "import seaborn as sns\n",
    "import plotly.figure_factory as ff"
   ]
  },
  {
   "cell_type": "markdown",
   "metadata": {},
   "source": [
    "# Importar base de datos"
   ]
  },
  {
   "cell_type": "code",
   "execution_count": 32,
   "metadata": {},
   "outputs": [
    {
     "name": "stdout",
     "output_type": "stream",
     "text": [
      "Ejemplo de la ruta de la Base de Datos  \\Users\\Aceves\\Documents\\Ejercicios\\\n",
      "Teclea la Ruta donde se localiza tu Base de Datos:\n"
     ]
    }
   ],
   "source": [
    "#Pedir al usuario ingresar la ruta donde se encuentra su base de datos\n",
    "print(\"Ejemplo de la ruta de la Base de Datos  \\\\Users\\Aceves\\Documents\\Ejercicios\\\\\")\n",
    "path=str(input(\"Teclea la Ruta donde se localiza tu Base de Datos:\"))\n"
   ]
  },
  {
   "cell_type": "code",
   "execution_count": 34,
   "metadata": {},
   "outputs": [
    {
     "name": "stdout",
     "output_type": "stream",
     "text": [
      "¿Cómo se llama tu Archivo? Gorriones\n"
     ]
    }
   ],
   "source": [
    "file = str(input(\"¿Cómo se llama tu Archivo? \"))\n",
    "if not \".csv\" in file:\n",
    "  file += \".csv\""
   ]
  },
  {
   "cell_type": "code",
   "execution_count": 35,
   "metadata": {},
   "outputs": [],
   "source": [
    "path_file = open(path+file)\n",
    "data= pd.read_csv(path_file)"
   ]
  },
  {
   "cell_type": "code",
   "execution_count": 36,
   "metadata": {},
   "outputs": [
    {
     "name": "stdout",
     "output_type": "stream",
     "text": [
      "     X1   X2     X3    X4    X5     Supervivencia\n",
      "0   156  245  31.60  18.5  20.5     Superviviente\n",
      "1   154  240  30.40  17.9  19.6  No superviviente\n",
      "2   153  240  31.00  18.4  20.6  No superviviente\n",
      "3   153  236  30.90  17.7  20.2  No superviviente\n",
      "4   155  243  31.50  18.6  20.3     Superviviente\n",
      "5   163  247  32.00  19.0  20.9  No superviviente\n",
      "6   157  238  30.90  18.4  20.2  No superviviente\n",
      "7   155  239  32.80  18.6  21.2  No superviviente\n",
      "8   164  248  32.70  19.1  21.1     Superviviente\n",
      "9   158  238  31.00  18.8  22.0  No superviviente\n",
      "10  158  240  31.30  18.6  22.0     Superviviente\n",
      "11  160  244  31.10  18.6  20.5  No superviviente\n",
      "12  161  246  32.32  19.3  21.8     Superviviente\n",
      "13  157  245  32.00  19.1  20.0  No superviviente\n",
      "14  157  235  31.50  18.1  19.8     Superviviente\n",
      "15  156  237  30.90  18.0  20.3  No superviviente\n",
      "16  158  244  31.40  18.5  21.6  No superviviente\n",
      "17  153  238  30.50  18.2  20.9     Superviviente\n",
      "18  155  236  30.30  18.5  20.1  No superviviente\n",
      "19  163  246  32.50  18.6  21.9  No superviviente\n",
      "20  159  236  31.50  18.0  21.5  No superviviente\n",
      "21  155  240  31.40  18.0  20.7     Superviviente\n",
      "22  156  240  31.50  18.2  20.6     Superviviente\n",
      "23  160  242  32.60  18.8  21.7     Superviviente\n",
      "24  152  232  30.30  17.2  19.8     Superviviente\n",
      "25  160  250  31.70  18.8  22.5  No superviviente\n",
      "26  155  237  31.00  18.5  20.0  No superviviente\n",
      "27  157  245  32.20  19.5  21.4     Superviviente\n",
      "28  165  245  33.10  19.8  22.7  No superviviente\n",
      "29  153  231  30.10  17.3  19.8     Superviviente\n",
      "30  162  239  30.30  18.0  23.1  No superviviente\n",
      "31  162  243  31.60  18.8  21.3  No superviviente\n",
      "32  159  245  31.80  18.5  21.7     Superviviente\n",
      "33  159  247  30.90  18.1  19.0  No superviviente\n",
      "34  155  243  30.90  18.5  21.3  No superviviente\n",
      "35  162  252  31.90  19.1  22.2     Superviviente\n",
      "36  152  230  30.40  17.3  18.6  No superviviente\n",
      "37  159  242  30.80  18.2  20.5     Superviviente\n",
      "38  155  238  31.20  17.9  19.3  No superviviente\n",
      "39  163  249  33.40  19.5  22.8     Superviviente\n",
      "40  163  242  31.00  18.1  20.7     Superviviente\n",
      "41  156  237  31.70  18.2  20.3  No superviviente\n",
      "42  159  238  31.50  18.4  20.3  No superviviente\n",
      "43  161  245  32.10  19.1  20.8  No superviviente\n",
      "44  155  235  30.70  17.7  19.6     Superviviente\n",
      "45  162  247  31.90  19.1  20.4  No superviviente\n",
      "46  153  237  30.60  18.6  20.4  No superviviente\n",
      "47  162  245  32.50  18.5  21.1  No superviviente\n",
      "48  164  248  32.30  18.8  20.9     Superviviente\n"
     ]
    }
   ],
   "source": [
    "#Se Muestra la Base de Datos\n",
    "print(data)"
   ]
  },
  {
   "cell_type": "code",
   "execution_count": 37,
   "metadata": {},
   "outputs": [
    {
     "data": {
      "text/plain": [
       "294"
      ]
     },
     "execution_count": 37,
     "metadata": {},
     "output_type": "execute_result"
    }
   ],
   "source": [
    "#Obtener el numero de celdas que tiene la base de datos\n",
    "total_cells = np.product(data.shape)\n",
    "total_cells"
   ]
  },
  {
   "cell_type": "code",
   "execution_count": 39,
   "metadata": {},
   "outputs": [
    {
     "name": "stdout",
     "output_type": "stream",
     "text": [
      "Ingresa el porcentaje de datos sintéticos que quieres generar: 30\n"
     ]
    }
   ],
   "source": [
    "#Pedir al usuario ingresar el porcentaje de datos sinteticos que requiere generar\n",
    "num_data=(input(\"Ingresa el porcentaje de datos sintéticos que quieres generar: \"))"
   ]
  },
  {
   "cell_type": "code",
   "execution_count": 40,
   "metadata": {},
   "outputs": [
    {
     "data": {
      "text/plain": [
       "88"
      ]
     },
     "execution_count": 40,
     "metadata": {},
     "output_type": "execute_result"
    }
   ],
   "source": [
    "#Definir el número de datos a generar con base en el porcentaje indicado \n",
    "N_datos=total_cells*(int(num_data)/100)\n",
    "N_datos=int(N_datos)\n",
    "N_datos"
   ]
  },
  {
   "cell_type": "markdown",
   "metadata": {},
   "source": [
    "Realizar copia de la base de datos"
   ]
  },
  {
   "cell_type": "code",
   "execution_count": 41,
   "metadata": {},
   "outputs": [
    {
     "data": {
      "text/html": [
       "<div>\n",
       "<style scoped>\n",
       "    .dataframe tbody tr th:only-of-type {\n",
       "        vertical-align: middle;\n",
       "    }\n",
       "\n",
       "    .dataframe tbody tr th {\n",
       "        vertical-align: top;\n",
       "    }\n",
       "\n",
       "    .dataframe thead th {\n",
       "        text-align: right;\n",
       "    }\n",
       "</style>\n",
       "<table border=\"1\" class=\"dataframe\">\n",
       "  <thead>\n",
       "    <tr style=\"text-align: right;\">\n",
       "      <th></th>\n",
       "      <th>X1</th>\n",
       "      <th>X2</th>\n",
       "      <th>X3</th>\n",
       "      <th>X4</th>\n",
       "      <th>X5</th>\n",
       "      <th>Supervivencia</th>\n",
       "    </tr>\n",
       "  </thead>\n",
       "  <tbody>\n",
       "    <tr>\n",
       "      <th>0</th>\n",
       "      <td>156</td>\n",
       "      <td>245</td>\n",
       "      <td>31.60</td>\n",
       "      <td>18.5</td>\n",
       "      <td>20.5</td>\n",
       "      <td>Superviviente</td>\n",
       "    </tr>\n",
       "    <tr>\n",
       "      <th>1</th>\n",
       "      <td>154</td>\n",
       "      <td>240</td>\n",
       "      <td>30.40</td>\n",
       "      <td>17.9</td>\n",
       "      <td>19.6</td>\n",
       "      <td>No superviviente</td>\n",
       "    </tr>\n",
       "    <tr>\n",
       "      <th>2</th>\n",
       "      <td>153</td>\n",
       "      <td>240</td>\n",
       "      <td>31.00</td>\n",
       "      <td>18.4</td>\n",
       "      <td>20.6</td>\n",
       "      <td>No superviviente</td>\n",
       "    </tr>\n",
       "    <tr>\n",
       "      <th>3</th>\n",
       "      <td>153</td>\n",
       "      <td>236</td>\n",
       "      <td>30.90</td>\n",
       "      <td>17.7</td>\n",
       "      <td>20.2</td>\n",
       "      <td>No superviviente</td>\n",
       "    </tr>\n",
       "    <tr>\n",
       "      <th>4</th>\n",
       "      <td>155</td>\n",
       "      <td>243</td>\n",
       "      <td>31.50</td>\n",
       "      <td>18.6</td>\n",
       "      <td>20.3</td>\n",
       "      <td>Superviviente</td>\n",
       "    </tr>\n",
       "    <tr>\n",
       "      <th>5</th>\n",
       "      <td>163</td>\n",
       "      <td>247</td>\n",
       "      <td>32.00</td>\n",
       "      <td>19.0</td>\n",
       "      <td>20.9</td>\n",
       "      <td>No superviviente</td>\n",
       "    </tr>\n",
       "    <tr>\n",
       "      <th>6</th>\n",
       "      <td>157</td>\n",
       "      <td>238</td>\n",
       "      <td>30.90</td>\n",
       "      <td>18.4</td>\n",
       "      <td>20.2</td>\n",
       "      <td>No superviviente</td>\n",
       "    </tr>\n",
       "    <tr>\n",
       "      <th>7</th>\n",
       "      <td>155</td>\n",
       "      <td>239</td>\n",
       "      <td>32.80</td>\n",
       "      <td>18.6</td>\n",
       "      <td>21.2</td>\n",
       "      <td>No superviviente</td>\n",
       "    </tr>\n",
       "    <tr>\n",
       "      <th>8</th>\n",
       "      <td>164</td>\n",
       "      <td>248</td>\n",
       "      <td>32.70</td>\n",
       "      <td>19.1</td>\n",
       "      <td>21.1</td>\n",
       "      <td>Superviviente</td>\n",
       "    </tr>\n",
       "    <tr>\n",
       "      <th>9</th>\n",
       "      <td>158</td>\n",
       "      <td>238</td>\n",
       "      <td>31.00</td>\n",
       "      <td>18.8</td>\n",
       "      <td>22.0</td>\n",
       "      <td>No superviviente</td>\n",
       "    </tr>\n",
       "    <tr>\n",
       "      <th>10</th>\n",
       "      <td>158</td>\n",
       "      <td>240</td>\n",
       "      <td>31.30</td>\n",
       "      <td>18.6</td>\n",
       "      <td>22.0</td>\n",
       "      <td>Superviviente</td>\n",
       "    </tr>\n",
       "    <tr>\n",
       "      <th>11</th>\n",
       "      <td>160</td>\n",
       "      <td>244</td>\n",
       "      <td>31.10</td>\n",
       "      <td>18.6</td>\n",
       "      <td>20.5</td>\n",
       "      <td>No superviviente</td>\n",
       "    </tr>\n",
       "    <tr>\n",
       "      <th>12</th>\n",
       "      <td>161</td>\n",
       "      <td>246</td>\n",
       "      <td>32.32</td>\n",
       "      <td>19.3</td>\n",
       "      <td>21.8</td>\n",
       "      <td>Superviviente</td>\n",
       "    </tr>\n",
       "    <tr>\n",
       "      <th>13</th>\n",
       "      <td>157</td>\n",
       "      <td>245</td>\n",
       "      <td>32.00</td>\n",
       "      <td>19.1</td>\n",
       "      <td>20.0</td>\n",
       "      <td>No superviviente</td>\n",
       "    </tr>\n",
       "    <tr>\n",
       "      <th>14</th>\n",
       "      <td>157</td>\n",
       "      <td>235</td>\n",
       "      <td>31.50</td>\n",
       "      <td>18.1</td>\n",
       "      <td>19.8</td>\n",
       "      <td>Superviviente</td>\n",
       "    </tr>\n",
       "    <tr>\n",
       "      <th>15</th>\n",
       "      <td>156</td>\n",
       "      <td>237</td>\n",
       "      <td>30.90</td>\n",
       "      <td>18.0</td>\n",
       "      <td>20.3</td>\n",
       "      <td>No superviviente</td>\n",
       "    </tr>\n",
       "    <tr>\n",
       "      <th>16</th>\n",
       "      <td>158</td>\n",
       "      <td>244</td>\n",
       "      <td>31.40</td>\n",
       "      <td>18.5</td>\n",
       "      <td>21.6</td>\n",
       "      <td>No superviviente</td>\n",
       "    </tr>\n",
       "    <tr>\n",
       "      <th>17</th>\n",
       "      <td>153</td>\n",
       "      <td>238</td>\n",
       "      <td>30.50</td>\n",
       "      <td>18.2</td>\n",
       "      <td>20.9</td>\n",
       "      <td>Superviviente</td>\n",
       "    </tr>\n",
       "    <tr>\n",
       "      <th>18</th>\n",
       "      <td>155</td>\n",
       "      <td>236</td>\n",
       "      <td>30.30</td>\n",
       "      <td>18.5</td>\n",
       "      <td>20.1</td>\n",
       "      <td>No superviviente</td>\n",
       "    </tr>\n",
       "    <tr>\n",
       "      <th>19</th>\n",
       "      <td>163</td>\n",
       "      <td>246</td>\n",
       "      <td>32.50</td>\n",
       "      <td>18.6</td>\n",
       "      <td>21.9</td>\n",
       "      <td>No superviviente</td>\n",
       "    </tr>\n",
       "    <tr>\n",
       "      <th>20</th>\n",
       "      <td>159</td>\n",
       "      <td>236</td>\n",
       "      <td>31.50</td>\n",
       "      <td>18.0</td>\n",
       "      <td>21.5</td>\n",
       "      <td>No superviviente</td>\n",
       "    </tr>\n",
       "    <tr>\n",
       "      <th>21</th>\n",
       "      <td>155</td>\n",
       "      <td>240</td>\n",
       "      <td>31.40</td>\n",
       "      <td>18.0</td>\n",
       "      <td>20.7</td>\n",
       "      <td>Superviviente</td>\n",
       "    </tr>\n",
       "    <tr>\n",
       "      <th>22</th>\n",
       "      <td>156</td>\n",
       "      <td>240</td>\n",
       "      <td>31.50</td>\n",
       "      <td>18.2</td>\n",
       "      <td>20.6</td>\n",
       "      <td>Superviviente</td>\n",
       "    </tr>\n",
       "    <tr>\n",
       "      <th>23</th>\n",
       "      <td>160</td>\n",
       "      <td>242</td>\n",
       "      <td>32.60</td>\n",
       "      <td>18.8</td>\n",
       "      <td>21.7</td>\n",
       "      <td>Superviviente</td>\n",
       "    </tr>\n",
       "    <tr>\n",
       "      <th>24</th>\n",
       "      <td>152</td>\n",
       "      <td>232</td>\n",
       "      <td>30.30</td>\n",
       "      <td>17.2</td>\n",
       "      <td>19.8</td>\n",
       "      <td>Superviviente</td>\n",
       "    </tr>\n",
       "    <tr>\n",
       "      <th>25</th>\n",
       "      <td>160</td>\n",
       "      <td>250</td>\n",
       "      <td>31.70</td>\n",
       "      <td>18.8</td>\n",
       "      <td>22.5</td>\n",
       "      <td>No superviviente</td>\n",
       "    </tr>\n",
       "    <tr>\n",
       "      <th>26</th>\n",
       "      <td>155</td>\n",
       "      <td>237</td>\n",
       "      <td>31.00</td>\n",
       "      <td>18.5</td>\n",
       "      <td>20.0</td>\n",
       "      <td>No superviviente</td>\n",
       "    </tr>\n",
       "    <tr>\n",
       "      <th>27</th>\n",
       "      <td>157</td>\n",
       "      <td>245</td>\n",
       "      <td>32.20</td>\n",
       "      <td>19.5</td>\n",
       "      <td>21.4</td>\n",
       "      <td>Superviviente</td>\n",
       "    </tr>\n",
       "    <tr>\n",
       "      <th>28</th>\n",
       "      <td>165</td>\n",
       "      <td>245</td>\n",
       "      <td>33.10</td>\n",
       "      <td>19.8</td>\n",
       "      <td>22.7</td>\n",
       "      <td>No superviviente</td>\n",
       "    </tr>\n",
       "    <tr>\n",
       "      <th>29</th>\n",
       "      <td>153</td>\n",
       "      <td>231</td>\n",
       "      <td>30.10</td>\n",
       "      <td>17.3</td>\n",
       "      <td>19.8</td>\n",
       "      <td>Superviviente</td>\n",
       "    </tr>\n",
       "    <tr>\n",
       "      <th>30</th>\n",
       "      <td>162</td>\n",
       "      <td>239</td>\n",
       "      <td>30.30</td>\n",
       "      <td>18.0</td>\n",
       "      <td>23.1</td>\n",
       "      <td>No superviviente</td>\n",
       "    </tr>\n",
       "    <tr>\n",
       "      <th>31</th>\n",
       "      <td>162</td>\n",
       "      <td>243</td>\n",
       "      <td>31.60</td>\n",
       "      <td>18.8</td>\n",
       "      <td>21.3</td>\n",
       "      <td>No superviviente</td>\n",
       "    </tr>\n",
       "    <tr>\n",
       "      <th>32</th>\n",
       "      <td>159</td>\n",
       "      <td>245</td>\n",
       "      <td>31.80</td>\n",
       "      <td>18.5</td>\n",
       "      <td>21.7</td>\n",
       "      <td>Superviviente</td>\n",
       "    </tr>\n",
       "    <tr>\n",
       "      <th>33</th>\n",
       "      <td>159</td>\n",
       "      <td>247</td>\n",
       "      <td>30.90</td>\n",
       "      <td>18.1</td>\n",
       "      <td>19.0</td>\n",
       "      <td>No superviviente</td>\n",
       "    </tr>\n",
       "    <tr>\n",
       "      <th>34</th>\n",
       "      <td>155</td>\n",
       "      <td>243</td>\n",
       "      <td>30.90</td>\n",
       "      <td>18.5</td>\n",
       "      <td>21.3</td>\n",
       "      <td>No superviviente</td>\n",
       "    </tr>\n",
       "    <tr>\n",
       "      <th>35</th>\n",
       "      <td>162</td>\n",
       "      <td>252</td>\n",
       "      <td>31.90</td>\n",
       "      <td>19.1</td>\n",
       "      <td>22.2</td>\n",
       "      <td>Superviviente</td>\n",
       "    </tr>\n",
       "    <tr>\n",
       "      <th>36</th>\n",
       "      <td>152</td>\n",
       "      <td>230</td>\n",
       "      <td>30.40</td>\n",
       "      <td>17.3</td>\n",
       "      <td>18.6</td>\n",
       "      <td>No superviviente</td>\n",
       "    </tr>\n",
       "    <tr>\n",
       "      <th>37</th>\n",
       "      <td>159</td>\n",
       "      <td>242</td>\n",
       "      <td>30.80</td>\n",
       "      <td>18.2</td>\n",
       "      <td>20.5</td>\n",
       "      <td>Superviviente</td>\n",
       "    </tr>\n",
       "    <tr>\n",
       "      <th>38</th>\n",
       "      <td>155</td>\n",
       "      <td>238</td>\n",
       "      <td>31.20</td>\n",
       "      <td>17.9</td>\n",
       "      <td>19.3</td>\n",
       "      <td>No superviviente</td>\n",
       "    </tr>\n",
       "    <tr>\n",
       "      <th>39</th>\n",
       "      <td>163</td>\n",
       "      <td>249</td>\n",
       "      <td>33.40</td>\n",
       "      <td>19.5</td>\n",
       "      <td>22.8</td>\n",
       "      <td>Superviviente</td>\n",
       "    </tr>\n",
       "    <tr>\n",
       "      <th>40</th>\n",
       "      <td>163</td>\n",
       "      <td>242</td>\n",
       "      <td>31.00</td>\n",
       "      <td>18.1</td>\n",
       "      <td>20.7</td>\n",
       "      <td>Superviviente</td>\n",
       "    </tr>\n",
       "    <tr>\n",
       "      <th>41</th>\n",
       "      <td>156</td>\n",
       "      <td>237</td>\n",
       "      <td>31.70</td>\n",
       "      <td>18.2</td>\n",
       "      <td>20.3</td>\n",
       "      <td>No superviviente</td>\n",
       "    </tr>\n",
       "    <tr>\n",
       "      <th>42</th>\n",
       "      <td>159</td>\n",
       "      <td>238</td>\n",
       "      <td>31.50</td>\n",
       "      <td>18.4</td>\n",
       "      <td>20.3</td>\n",
       "      <td>No superviviente</td>\n",
       "    </tr>\n",
       "    <tr>\n",
       "      <th>43</th>\n",
       "      <td>161</td>\n",
       "      <td>245</td>\n",
       "      <td>32.10</td>\n",
       "      <td>19.1</td>\n",
       "      <td>20.8</td>\n",
       "      <td>No superviviente</td>\n",
       "    </tr>\n",
       "    <tr>\n",
       "      <th>44</th>\n",
       "      <td>155</td>\n",
       "      <td>235</td>\n",
       "      <td>30.70</td>\n",
       "      <td>17.7</td>\n",
       "      <td>19.6</td>\n",
       "      <td>Superviviente</td>\n",
       "    </tr>\n",
       "    <tr>\n",
       "      <th>45</th>\n",
       "      <td>162</td>\n",
       "      <td>247</td>\n",
       "      <td>31.90</td>\n",
       "      <td>19.1</td>\n",
       "      <td>20.4</td>\n",
       "      <td>No superviviente</td>\n",
       "    </tr>\n",
       "    <tr>\n",
       "      <th>46</th>\n",
       "      <td>153</td>\n",
       "      <td>237</td>\n",
       "      <td>30.60</td>\n",
       "      <td>18.6</td>\n",
       "      <td>20.4</td>\n",
       "      <td>No superviviente</td>\n",
       "    </tr>\n",
       "    <tr>\n",
       "      <th>47</th>\n",
       "      <td>162</td>\n",
       "      <td>245</td>\n",
       "      <td>32.50</td>\n",
       "      <td>18.5</td>\n",
       "      <td>21.1</td>\n",
       "      <td>No superviviente</td>\n",
       "    </tr>\n",
       "    <tr>\n",
       "      <th>48</th>\n",
       "      <td>164</td>\n",
       "      <td>248</td>\n",
       "      <td>32.30</td>\n",
       "      <td>18.8</td>\n",
       "      <td>20.9</td>\n",
       "      <td>Superviviente</td>\n",
       "    </tr>\n",
       "  </tbody>\n",
       "</table>\n",
       "</div>"
      ],
      "text/plain": [
       "     X1   X2     X3    X4    X5     Supervivencia\n",
       "0   156  245  31.60  18.5  20.5     Superviviente\n",
       "1   154  240  30.40  17.9  19.6  No superviviente\n",
       "2   153  240  31.00  18.4  20.6  No superviviente\n",
       "3   153  236  30.90  17.7  20.2  No superviviente\n",
       "4   155  243  31.50  18.6  20.3     Superviviente\n",
       "5   163  247  32.00  19.0  20.9  No superviviente\n",
       "6   157  238  30.90  18.4  20.2  No superviviente\n",
       "7   155  239  32.80  18.6  21.2  No superviviente\n",
       "8   164  248  32.70  19.1  21.1     Superviviente\n",
       "9   158  238  31.00  18.8  22.0  No superviviente\n",
       "10  158  240  31.30  18.6  22.0     Superviviente\n",
       "11  160  244  31.10  18.6  20.5  No superviviente\n",
       "12  161  246  32.32  19.3  21.8     Superviviente\n",
       "13  157  245  32.00  19.1  20.0  No superviviente\n",
       "14  157  235  31.50  18.1  19.8     Superviviente\n",
       "15  156  237  30.90  18.0  20.3  No superviviente\n",
       "16  158  244  31.40  18.5  21.6  No superviviente\n",
       "17  153  238  30.50  18.2  20.9     Superviviente\n",
       "18  155  236  30.30  18.5  20.1  No superviviente\n",
       "19  163  246  32.50  18.6  21.9  No superviviente\n",
       "20  159  236  31.50  18.0  21.5  No superviviente\n",
       "21  155  240  31.40  18.0  20.7     Superviviente\n",
       "22  156  240  31.50  18.2  20.6     Superviviente\n",
       "23  160  242  32.60  18.8  21.7     Superviviente\n",
       "24  152  232  30.30  17.2  19.8     Superviviente\n",
       "25  160  250  31.70  18.8  22.5  No superviviente\n",
       "26  155  237  31.00  18.5  20.0  No superviviente\n",
       "27  157  245  32.20  19.5  21.4     Superviviente\n",
       "28  165  245  33.10  19.8  22.7  No superviviente\n",
       "29  153  231  30.10  17.3  19.8     Superviviente\n",
       "30  162  239  30.30  18.0  23.1  No superviviente\n",
       "31  162  243  31.60  18.8  21.3  No superviviente\n",
       "32  159  245  31.80  18.5  21.7     Superviviente\n",
       "33  159  247  30.90  18.1  19.0  No superviviente\n",
       "34  155  243  30.90  18.5  21.3  No superviviente\n",
       "35  162  252  31.90  19.1  22.2     Superviviente\n",
       "36  152  230  30.40  17.3  18.6  No superviviente\n",
       "37  159  242  30.80  18.2  20.5     Superviviente\n",
       "38  155  238  31.20  17.9  19.3  No superviviente\n",
       "39  163  249  33.40  19.5  22.8     Superviviente\n",
       "40  163  242  31.00  18.1  20.7     Superviviente\n",
       "41  156  237  31.70  18.2  20.3  No superviviente\n",
       "42  159  238  31.50  18.4  20.3  No superviviente\n",
       "43  161  245  32.10  19.1  20.8  No superviviente\n",
       "44  155  235  30.70  17.7  19.6     Superviviente\n",
       "45  162  247  31.90  19.1  20.4  No superviviente\n",
       "46  153  237  30.60  18.6  20.4  No superviviente\n",
       "47  162  245  32.50  18.5  21.1  No superviviente\n",
       "48  164  248  32.30  18.8  20.9     Superviviente"
      ]
     },
     "execution_count": 41,
     "metadata": {},
     "output_type": "execute_result"
    }
   ],
   "source": [
    "datos=data.copy()\n",
    "datos"
   ]
  },
  {
   "cell_type": "markdown",
   "metadata": {},
   "source": [
    "# Revision de la base de datos"
   ]
  },
  {
   "cell_type": "code",
   "execution_count": 42,
   "metadata": {},
   "outputs": [
    {
     "data": {
      "text/html": [
       "<div>\n",
       "<style scoped>\n",
       "    .dataframe tbody tr th:only-of-type {\n",
       "        vertical-align: middle;\n",
       "    }\n",
       "\n",
       "    .dataframe tbody tr th {\n",
       "        vertical-align: top;\n",
       "    }\n",
       "\n",
       "    .dataframe thead th {\n",
       "        text-align: right;\n",
       "    }\n",
       "</style>\n",
       "<table border=\"1\" class=\"dataframe\">\n",
       "  <thead>\n",
       "    <tr style=\"text-align: right;\">\n",
       "      <th></th>\n",
       "      <th>X1</th>\n",
       "      <th>X2</th>\n",
       "      <th>X3</th>\n",
       "      <th>X4</th>\n",
       "      <th>X5</th>\n",
       "      <th>Supervivencia</th>\n",
       "    </tr>\n",
       "  </thead>\n",
       "  <tbody>\n",
       "    <tr>\n",
       "      <th>count</th>\n",
       "      <td>49.000000</td>\n",
       "      <td>49.000000</td>\n",
       "      <td>49.000000</td>\n",
       "      <td>49.000000</td>\n",
       "      <td>49.000000</td>\n",
       "      <td>49</td>\n",
       "    </tr>\n",
       "    <tr>\n",
       "      <th>unique</th>\n",
       "      <td>NaN</td>\n",
       "      <td>NaN</td>\n",
       "      <td>NaN</td>\n",
       "      <td>NaN</td>\n",
       "      <td>NaN</td>\n",
       "      <td>2</td>\n",
       "    </tr>\n",
       "    <tr>\n",
       "      <th>top</th>\n",
       "      <td>NaN</td>\n",
       "      <td>NaN</td>\n",
       "      <td>NaN</td>\n",
       "      <td>NaN</td>\n",
       "      <td>NaN</td>\n",
       "      <td>No superviviente</td>\n",
       "    </tr>\n",
       "    <tr>\n",
       "      <th>freq</th>\n",
       "      <td>NaN</td>\n",
       "      <td>NaN</td>\n",
       "      <td>NaN</td>\n",
       "      <td>NaN</td>\n",
       "      <td>NaN</td>\n",
       "      <td>29</td>\n",
       "    </tr>\n",
       "    <tr>\n",
       "      <th>mean</th>\n",
       "      <td>157.979592</td>\n",
       "      <td>241.326531</td>\n",
       "      <td>31.459592</td>\n",
       "      <td>18.469388</td>\n",
       "      <td>20.826531</td>\n",
       "      <td>NaN</td>\n",
       "    </tr>\n",
       "    <tr>\n",
       "      <th>std</th>\n",
       "      <td>3.654277</td>\n",
       "      <td>5.067822</td>\n",
       "      <td>0.795199</td>\n",
       "      <td>0.564286</td>\n",
       "      <td>0.991374</td>\n",
       "      <td>NaN</td>\n",
       "    </tr>\n",
       "    <tr>\n",
       "      <th>min</th>\n",
       "      <td>152.000000</td>\n",
       "      <td>230.000000</td>\n",
       "      <td>30.100000</td>\n",
       "      <td>17.200000</td>\n",
       "      <td>18.600000</td>\n",
       "      <td>NaN</td>\n",
       "    </tr>\n",
       "    <tr>\n",
       "      <th>25%</th>\n",
       "      <td>155.000000</td>\n",
       "      <td>238.000000</td>\n",
       "      <td>30.900000</td>\n",
       "      <td>18.100000</td>\n",
       "      <td>20.200000</td>\n",
       "      <td>NaN</td>\n",
       "    </tr>\n",
       "    <tr>\n",
       "      <th>50%</th>\n",
       "      <td>158.000000</td>\n",
       "      <td>242.000000</td>\n",
       "      <td>31.500000</td>\n",
       "      <td>18.500000</td>\n",
       "      <td>20.700000</td>\n",
       "      <td>NaN</td>\n",
       "    </tr>\n",
       "    <tr>\n",
       "      <th>75%</th>\n",
       "      <td>161.000000</td>\n",
       "      <td>245.000000</td>\n",
       "      <td>32.000000</td>\n",
       "      <td>18.800000</td>\n",
       "      <td>21.500000</td>\n",
       "      <td>NaN</td>\n",
       "    </tr>\n",
       "    <tr>\n",
       "      <th>max</th>\n",
       "      <td>165.000000</td>\n",
       "      <td>252.000000</td>\n",
       "      <td>33.400000</td>\n",
       "      <td>19.800000</td>\n",
       "      <td>23.100000</td>\n",
       "      <td>NaN</td>\n",
       "    </tr>\n",
       "  </tbody>\n",
       "</table>\n",
       "</div>"
      ],
      "text/plain": [
       "                X1          X2         X3         X4         X5  \\\n",
       "count    49.000000   49.000000  49.000000  49.000000  49.000000   \n",
       "unique         NaN         NaN        NaN        NaN        NaN   \n",
       "top            NaN         NaN        NaN        NaN        NaN   \n",
       "freq           NaN         NaN        NaN        NaN        NaN   \n",
       "mean    157.979592  241.326531  31.459592  18.469388  20.826531   \n",
       "std       3.654277    5.067822   0.795199   0.564286   0.991374   \n",
       "min     152.000000  230.000000  30.100000  17.200000  18.600000   \n",
       "25%     155.000000  238.000000  30.900000  18.100000  20.200000   \n",
       "50%     158.000000  242.000000  31.500000  18.500000  20.700000   \n",
       "75%     161.000000  245.000000  32.000000  18.800000  21.500000   \n",
       "max     165.000000  252.000000  33.400000  19.800000  23.100000   \n",
       "\n",
       "           Supervivencia  \n",
       "count                 49  \n",
       "unique                 2  \n",
       "top     No superviviente  \n",
       "freq                  29  \n",
       "mean                 NaN  \n",
       "std                  NaN  \n",
       "min                  NaN  \n",
       "25%                  NaN  \n",
       "50%                  NaN  \n",
       "75%                  NaN  \n",
       "max                  NaN  "
      ]
     },
     "execution_count": 42,
     "metadata": {},
     "output_type": "execute_result"
    }
   ],
   "source": [
    "#Conocer los datos que estan ingresando\n",
    "datos.describe(include = 'all')"
   ]
  },
  {
   "cell_type": "code",
   "execution_count": 43,
   "metadata": {},
   "outputs": [],
   "source": [
    "#Definir la desviación estándar de los datos originales\n",
    "data_std=datos.std()"
   ]
  },
  {
   "cell_type": "code",
   "execution_count": 44,
   "metadata": {},
   "outputs": [
    {
     "data": {
      "text/plain": [
       "['X1', 'X2', 'X3', 'X4', 'X5', 'Supervivencia']"
      ]
     },
     "execution_count": 44,
     "metadata": {},
     "output_type": "execute_result"
    }
   ],
   "source": [
    "#Definir los atributos\n",
    "columns_df=list(datos.columns)\n",
    "columns_df"
   ]
  },
  {
   "cell_type": "code",
   "execution_count": 45,
   "metadata": {},
   "outputs": [
    {
     "data": {
      "image/png": "[encoded data removed]",
      "text/plain": [
       "<Figure size 409.25x360 with 1 Axes>"
      ]
     },
     "metadata": {
      "needs_background": "light"
     },
     "output_type": "display_data"
    },
    {
     "data": {
      "image/png": "[encoded data removed]",
      "text/plain": [
       "<Figure size 360x360 with 1 Axes>"
      ]
     },
     "metadata": {
      "needs_background": "light"
     },
     "output_type": "display_data"
    },
    {
     "data": {
      "image/png": "[encoded data removed]",
      "text/plain": [
       "<Figure size 360x360 with 1 Axes>"
      ]
     },
     "metadata": {
      "needs_background": "light"
     },
     "output_type": "display_data"
    },
    {
     "data": {
      "image/png": "[encoded data removed]",
      "text/plain": [
       "<Figure size 360x360 with 1 Axes>"
      ]
     },
     "metadata": {
      "needs_background": "light"
     },
     "output_type": "display_data"
    },
    {
     "data": {
      "image/png": "[encoded data removed]",
      "text/plain": [
       "<Figure size 360x360 with 1 Axes>"
      ]
     },
     "metadata": {
      "needs_background": "light"
     },
     "output_type": "display_data"
    },
    {
     "data": {
      "image/png": "[encoded data removed]",
      "text/plain": [
       "<Figure size 360x360 with 1 Axes>"
      ]
     },
     "metadata": {
      "needs_background": "light"
     },
     "output_type": "display_data"
    },
    {
     "data": {
      "image/png": "[encoded data removed]",
      "text/plain": [
       "<Figure size 360x360 with 1 Axes>"
      ]
     },
     "metadata": {
      "needs_background": "light"
     },
     "output_type": "display_data"
    }
   ],
   "source": [
    "#Obtener la distribución de datos\n",
    "sns.displot(datos,kde=True)\n",
    "for i in range(len(columns_df)):\n",
    "    colum=columns_df[i]\n",
    "    sns.displot(datos[colum],kde=True)\n",
    "    plt.title('Distribución')"
   ]
  },
  {
   "cell_type": "code",
   "execution_count": 46,
   "metadata": {},
   "outputs": [
    {
     "name": "stdout",
     "output_type": "stream",
     "text": [
      "<class 'pandas.core.frame.DataFrame'>\n",
      "RangeIndex: 49 entries, 0 to 48\n",
      "Data columns (total 6 columns):\n",
      " #   Column         Non-Null Count  Dtype  \n",
      "---  ------         --------------  -----  \n",
      " 0   X1             49 non-null     int64  \n",
      " 1   X2             49 non-null     int64  \n",
      " 2   X3             49 non-null     float64\n",
      " 3   X4             49 non-null     float64\n",
      " 4   X5             49 non-null     float64\n",
      " 5   Supervivencia  49 non-null     object \n",
      "dtypes: float64(3), int64(2), object(1)\n",
      "memory usage: 2.4+ KB\n"
     ]
    }
   ],
   "source": [
    "#Inspeccionar si hay datos faltantes\n",
    "datos.info()"
   ]
  },
  {
   "cell_type": "code",
   "execution_count": 47,
   "metadata": {},
   "outputs": [],
   "source": [
    "datos=datos.drop_duplicates() #eliminar atributos duplicados"
   ]
  },
  {
   "cell_type": "markdown",
   "metadata": {},
   "source": [
    "# Pre-procesamiento de datos"
   ]
  },
  {
   "cell_type": "code",
   "execution_count": 48,
   "metadata": {},
   "outputs": [
    {
     "data": {
      "text/plain": [
       "X1               0\n",
       "X2               0\n",
       "X3               0\n",
       "X4               0\n",
       "X5               0\n",
       "Supervivencia    0\n",
       "dtype: int64"
      ]
     },
     "execution_count": 48,
     "metadata": {},
     "output_type": "execute_result"
    }
   ],
   "source": [
    "#contar valores faltantes\n",
    "missing_values_count = datos.isnull().sum()\n",
    "missing_values_count"
   ]
  },
  {
   "cell_type": "code",
   "execution_count": 49,
   "metadata": {},
   "outputs": [
    {
     "data": {
      "text/plain": [
       "X1               0\n",
       "X2               0\n",
       "X3               0\n",
       "X4               0\n",
       "X5               0\n",
       "Supervivencia    0\n",
       "dtype: int64"
      ]
     },
     "execution_count": 49,
     "metadata": {},
     "output_type": "execute_result"
    }
   ],
   "source": [
    "#contar valores Nan\n",
    "nan_values_count = datos.isna().sum()\n",
    "nan_values_count"
   ]
  },
  {
   "cell_type": "code",
   "execution_count": 50,
   "metadata": {},
   "outputs": [
    {
     "name": "stdout",
     "output_type": "stream",
     "text": [
      "0.0\n",
      "0.0\n"
     ]
    }
   ],
   "source": [
    "#Obtener el porcentaje de datos faltantes en la base de datos\n",
    "total_missing = missing_values_count.sum()\n",
    "total_nan = nan_values_count.sum()\n",
    "\n",
    "#porcentaje de datos faltantes\n",
    "total_missing_porcent = total_missing/total_cells*100\n",
    "print(total_missing_porcent) \n",
    "\n",
    "#porcentaje de datos no numéricos (nan)\n",
    "total_nan_porcent = total_nan/total_cells*100 \n",
    "print(total_nan_porcent) "
   ]
  },
  {
   "cell_type": "code",
   "execution_count": 51,
   "metadata": {},
   "outputs": [
    {
     "name": "stdout",
     "output_type": "stream",
     "text": [
      "X1 - 0%\n",
      "X2 - 0%\n",
      "X3 - 0%\n",
      "X4 - 0%\n",
      "X5 - 0%\n",
      "Supervivencia - 0%\n"
     ]
    }
   ],
   "source": [
    "#Porcentaje de datos nulos por columna\n",
    "for col in datos.columns:\n",
    "    pct_missing = np.mean(datos[col].isnull())\n",
    "    print('{} - {}%'.format(col, round(pct_missing*100)))"
   ]
  },
  {
   "cell_type": "code",
   "execution_count": 52,
   "metadata": {},
   "outputs": [],
   "source": [
    "# crear indicador para las características con datos faltantes\n",
    "for col in datos.columns:\n",
    "    missing = datos[col].isnull()\n",
    "    num_missing = np.sum(missing)\n",
    "    \n",
    "    #Indicador de atributo donde es necesario imputar\n",
    "    if num_missing > 0:  \n",
    "        print('Indicador de Dato Faltante para: {}'.format(col))"
   ]
  },
  {
   "cell_type": "code",
   "execution_count": 53,
   "metadata": {},
   "outputs": [],
   "source": [
    "# imputar los valores perdidos y crear las variables indicadoras \n",
    "# de valores perdidos para cada columna numérica..\n",
    "datos_numeric = datos.select_dtypes(include=[np.number])\n",
    "numeric_cols = datos_numeric.columns.values\n",
    "\n",
    "for col in numeric_cols:\n",
    "    missing = datos[col].isnull()\n",
    "    num_missing = np.sum(missing)\n",
    "    \n",
    "    if num_missing > 0:  #imputación a celdas nulas\n",
    "        print('imputing missing values for: {}'.format(col))\n",
    "        med = datos[col].median()\n",
    "        datos[col] = datos[col].fillna(med)"
   ]
  },
  {
   "cell_type": "code",
   "execution_count": 54,
   "metadata": {},
   "outputs": [],
   "source": [
    "# imputar los valores perdidos y crear las variables indicadoras \n",
    "#de valores perdidos para cada columna no numérica.\n",
    "datos_non_numeric = datos.select_dtypes(exclude=[np.number])\n",
    "non_numeric_cols = datos_non_numeric.columns.values\n",
    "\n",
    "for col in non_numeric_cols:\n",
    "    missing = datos[col].isnull()\n",
    "    num_missing = np.sum(missing)\n",
    "    \n",
    "    if num_missing > 0:  # imputación para las columnas que tienen valores perdidos.\n",
    "        print('imputing missing values for: {}'.format(col))\n",
    "        top = datos[col].describe()['top'] # imputar con el valor más frecuente.\n",
    "        datos[col] = datos[col].fillna(top)\n",
    "        "
   ]
  },
  {
   "cell_type": "code",
   "execution_count": 55,
   "metadata": {},
   "outputs": [
    {
     "data": {
      "text/html": [
       "<div>\n",
       "<style scoped>\n",
       "    .dataframe tbody tr th:only-of-type {\n",
       "        vertical-align: middle;\n",
       "    }\n",
       "\n",
       "    .dataframe tbody tr th {\n",
       "        vertical-align: top;\n",
       "    }\n",
       "\n",
       "    .dataframe thead th {\n",
       "        text-align: right;\n",
       "    }\n",
       "</style>\n",
       "<table border=\"1\" class=\"dataframe\">\n",
       "  <thead>\n",
       "    <tr style=\"text-align: right;\">\n",
       "      <th></th>\n",
       "      <th>X1</th>\n",
       "      <th>X2</th>\n",
       "      <th>X3</th>\n",
       "      <th>X4</th>\n",
       "      <th>X5</th>\n",
       "      <th>Supervivencia</th>\n",
       "    </tr>\n",
       "  </thead>\n",
       "  <tbody>\n",
       "    <tr>\n",
       "      <th>0</th>\n",
       "      <td>156</td>\n",
       "      <td>245</td>\n",
       "      <td>31.60</td>\n",
       "      <td>18.5</td>\n",
       "      <td>20.5</td>\n",
       "      <td>Superviviente</td>\n",
       "    </tr>\n",
       "    <tr>\n",
       "      <th>1</th>\n",
       "      <td>154</td>\n",
       "      <td>240</td>\n",
       "      <td>30.40</td>\n",
       "      <td>17.9</td>\n",
       "      <td>19.6</td>\n",
       "      <td>No superviviente</td>\n",
       "    </tr>\n",
       "    <tr>\n",
       "      <th>2</th>\n",
       "      <td>153</td>\n",
       "      <td>240</td>\n",
       "      <td>31.00</td>\n",
       "      <td>18.4</td>\n",
       "      <td>20.6</td>\n",
       "      <td>No superviviente</td>\n",
       "    </tr>\n",
       "    <tr>\n",
       "      <th>3</th>\n",
       "      <td>153</td>\n",
       "      <td>236</td>\n",
       "      <td>30.90</td>\n",
       "      <td>17.7</td>\n",
       "      <td>20.2</td>\n",
       "      <td>No superviviente</td>\n",
       "    </tr>\n",
       "    <tr>\n",
       "      <th>4</th>\n",
       "      <td>155</td>\n",
       "      <td>243</td>\n",
       "      <td>31.50</td>\n",
       "      <td>18.6</td>\n",
       "      <td>20.3</td>\n",
       "      <td>Superviviente</td>\n",
       "    </tr>\n",
       "    <tr>\n",
       "      <th>5</th>\n",
       "      <td>163</td>\n",
       "      <td>247</td>\n",
       "      <td>32.00</td>\n",
       "      <td>19.0</td>\n",
       "      <td>20.9</td>\n",
       "      <td>No superviviente</td>\n",
       "    </tr>\n",
       "    <tr>\n",
       "      <th>6</th>\n",
       "      <td>157</td>\n",
       "      <td>238</td>\n",
       "      <td>30.90</td>\n",
       "      <td>18.4</td>\n",
       "      <td>20.2</td>\n",
       "      <td>No superviviente</td>\n",
       "    </tr>\n",
       "    <tr>\n",
       "      <th>7</th>\n",
       "      <td>155</td>\n",
       "      <td>239</td>\n",
       "      <td>32.80</td>\n",
       "      <td>18.6</td>\n",
       "      <td>21.2</td>\n",
       "      <td>No superviviente</td>\n",
       "    </tr>\n",
       "    <tr>\n",
       "      <th>8</th>\n",
       "      <td>164</td>\n",
       "      <td>248</td>\n",
       "      <td>32.70</td>\n",
       "      <td>19.1</td>\n",
       "      <td>21.1</td>\n",
       "      <td>Superviviente</td>\n",
       "    </tr>\n",
       "    <tr>\n",
       "      <th>9</th>\n",
       "      <td>158</td>\n",
       "      <td>238</td>\n",
       "      <td>31.00</td>\n",
       "      <td>18.8</td>\n",
       "      <td>22.0</td>\n",
       "      <td>No superviviente</td>\n",
       "    </tr>\n",
       "    <tr>\n",
       "      <th>10</th>\n",
       "      <td>158</td>\n",
       "      <td>240</td>\n",
       "      <td>31.30</td>\n",
       "      <td>18.6</td>\n",
       "      <td>22.0</td>\n",
       "      <td>Superviviente</td>\n",
       "    </tr>\n",
       "    <tr>\n",
       "      <th>11</th>\n",
       "      <td>160</td>\n",
       "      <td>244</td>\n",
       "      <td>31.10</td>\n",
       "      <td>18.6</td>\n",
       "      <td>20.5</td>\n",
       "      <td>No superviviente</td>\n",
       "    </tr>\n",
       "    <tr>\n",
       "      <th>12</th>\n",
       "      <td>161</td>\n",
       "      <td>246</td>\n",
       "      <td>32.32</td>\n",
       "      <td>19.3</td>\n",
       "      <td>21.8</td>\n",
       "      <td>Superviviente</td>\n",
       "    </tr>\n",
       "    <tr>\n",
       "      <th>13</th>\n",
       "      <td>157</td>\n",
       "      <td>245</td>\n",
       "      <td>32.00</td>\n",
       "      <td>19.1</td>\n",
       "      <td>20.0</td>\n",
       "      <td>No superviviente</td>\n",
       "    </tr>\n",
       "    <tr>\n",
       "      <th>14</th>\n",
       "      <td>157</td>\n",
       "      <td>235</td>\n",
       "      <td>31.50</td>\n",
       "      <td>18.1</td>\n",
       "      <td>19.8</td>\n",
       "      <td>Superviviente</td>\n",
       "    </tr>\n",
       "    <tr>\n",
       "      <th>15</th>\n",
       "      <td>156</td>\n",
       "      <td>237</td>\n",
       "      <td>30.90</td>\n",
       "      <td>18.0</td>\n",
       "      <td>20.3</td>\n",
       "      <td>No superviviente</td>\n",
       "    </tr>\n",
       "    <tr>\n",
       "      <th>16</th>\n",
       "      <td>158</td>\n",
       "      <td>244</td>\n",
       "      <td>31.40</td>\n",
       "      <td>18.5</td>\n",
       "      <td>21.6</td>\n",
       "      <td>No superviviente</td>\n",
       "    </tr>\n",
       "    <tr>\n",
       "      <th>17</th>\n",
       "      <td>153</td>\n",
       "      <td>238</td>\n",
       "      <td>30.50</td>\n",
       "      <td>18.2</td>\n",
       "      <td>20.9</td>\n",
       "      <td>Superviviente</td>\n",
       "    </tr>\n",
       "    <tr>\n",
       "      <th>18</th>\n",
       "      <td>155</td>\n",
       "      <td>236</td>\n",
       "      <td>30.30</td>\n",
       "      <td>18.5</td>\n",
       "      <td>20.1</td>\n",
       "      <td>No superviviente</td>\n",
       "    </tr>\n",
       "    <tr>\n",
       "      <th>19</th>\n",
       "      <td>163</td>\n",
       "      <td>246</td>\n",
       "      <td>32.50</td>\n",
       "      <td>18.6</td>\n",
       "      <td>21.9</td>\n",
       "      <td>No superviviente</td>\n",
       "    </tr>\n",
       "    <tr>\n",
       "      <th>20</th>\n",
       "      <td>159</td>\n",
       "      <td>236</td>\n",
       "      <td>31.50</td>\n",
       "      <td>18.0</td>\n",
       "      <td>21.5</td>\n",
       "      <td>No superviviente</td>\n",
       "    </tr>\n",
       "    <tr>\n",
       "      <th>21</th>\n",
       "      <td>155</td>\n",
       "      <td>240</td>\n",
       "      <td>31.40</td>\n",
       "      <td>18.0</td>\n",
       "      <td>20.7</td>\n",
       "      <td>Superviviente</td>\n",
       "    </tr>\n",
       "    <tr>\n",
       "      <th>22</th>\n",
       "      <td>156</td>\n",
       "      <td>240</td>\n",
       "      <td>31.50</td>\n",
       "      <td>18.2</td>\n",
       "      <td>20.6</td>\n",
       "      <td>Superviviente</td>\n",
       "    </tr>\n",
       "    <tr>\n",
       "      <th>23</th>\n",
       "      <td>160</td>\n",
       "      <td>242</td>\n",
       "      <td>32.60</td>\n",
       "      <td>18.8</td>\n",
       "      <td>21.7</td>\n",
       "      <td>Superviviente</td>\n",
       "    </tr>\n",
       "    <tr>\n",
       "      <th>24</th>\n",
       "      <td>152</td>\n",
       "      <td>232</td>\n",
       "      <td>30.30</td>\n",
       "      <td>17.2</td>\n",
       "      <td>19.8</td>\n",
       "      <td>Superviviente</td>\n",
       "    </tr>\n",
       "    <tr>\n",
       "      <th>25</th>\n",
       "      <td>160</td>\n",
       "      <td>250</td>\n",
       "      <td>31.70</td>\n",
       "      <td>18.8</td>\n",
       "      <td>22.5</td>\n",
       "      <td>No superviviente</td>\n",
       "    </tr>\n",
       "    <tr>\n",
       "      <th>26</th>\n",
       "      <td>155</td>\n",
       "      <td>237</td>\n",
       "      <td>31.00</td>\n",
       "      <td>18.5</td>\n",
       "      <td>20.0</td>\n",
       "      <td>No superviviente</td>\n",
       "    </tr>\n",
       "    <tr>\n",
       "      <th>27</th>\n",
       "      <td>157</td>\n",
       "      <td>245</td>\n",
       "      <td>32.20</td>\n",
       "      <td>19.5</td>\n",
       "      <td>21.4</td>\n",
       "      <td>Superviviente</td>\n",
       "    </tr>\n",
       "    <tr>\n",
       "      <th>28</th>\n",
       "      <td>165</td>\n",
       "      <td>245</td>\n",
       "      <td>33.10</td>\n",
       "      <td>19.8</td>\n",
       "      <td>22.7</td>\n",
       "      <td>No superviviente</td>\n",
       "    </tr>\n",
       "    <tr>\n",
       "      <th>29</th>\n",
       "      <td>153</td>\n",
       "      <td>231</td>\n",
       "      <td>30.10</td>\n",
       "      <td>17.3</td>\n",
       "      <td>19.8</td>\n",
       "      <td>Superviviente</td>\n",
       "    </tr>\n",
       "    <tr>\n",
       "      <th>30</th>\n",
       "      <td>162</td>\n",
       "      <td>239</td>\n",
       "      <td>30.30</td>\n",
       "      <td>18.0</td>\n",
       "      <td>23.1</td>\n",
       "      <td>No superviviente</td>\n",
       "    </tr>\n",
       "    <tr>\n",
       "      <th>31</th>\n",
       "      <td>162</td>\n",
       "      <td>243</td>\n",
       "      <td>31.60</td>\n",
       "      <td>18.8</td>\n",
       "      <td>21.3</td>\n",
       "      <td>No superviviente</td>\n",
       "    </tr>\n",
       "    <tr>\n",
       "      <th>32</th>\n",
       "      <td>159</td>\n",
       "      <td>245</td>\n",
       "      <td>31.80</td>\n",
       "      <td>18.5</td>\n",
       "      <td>21.7</td>\n",
       "      <td>Superviviente</td>\n",
       "    </tr>\n",
       "    <tr>\n",
       "      <th>33</th>\n",
       "      <td>159</td>\n",
       "      <td>247</td>\n",
       "      <td>30.90</td>\n",
       "      <td>18.1</td>\n",
       "      <td>19.0</td>\n",
       "      <td>No superviviente</td>\n",
       "    </tr>\n",
       "    <tr>\n",
       "      <th>34</th>\n",
       "      <td>155</td>\n",
       "      <td>243</td>\n",
       "      <td>30.90</td>\n",
       "      <td>18.5</td>\n",
       "      <td>21.3</td>\n",
       "      <td>No superviviente</td>\n",
       "    </tr>\n",
       "    <tr>\n",
       "      <th>35</th>\n",
       "      <td>162</td>\n",
       "      <td>252</td>\n",
       "      <td>31.90</td>\n",
       "      <td>19.1</td>\n",
       "      <td>22.2</td>\n",
       "      <td>Superviviente</td>\n",
       "    </tr>\n",
       "    <tr>\n",
       "      <th>36</th>\n",
       "      <td>152</td>\n",
       "      <td>230</td>\n",
       "      <td>30.40</td>\n",
       "      <td>17.3</td>\n",
       "      <td>18.6</td>\n",
       "      <td>No superviviente</td>\n",
       "    </tr>\n",
       "    <tr>\n",
       "      <th>37</th>\n",
       "      <td>159</td>\n",
       "      <td>242</td>\n",
       "      <td>30.80</td>\n",
       "      <td>18.2</td>\n",
       "      <td>20.5</td>\n",
       "      <td>Superviviente</td>\n",
       "    </tr>\n",
       "    <tr>\n",
       "      <th>38</th>\n",
       "      <td>155</td>\n",
       "      <td>238</td>\n",
       "      <td>31.20</td>\n",
       "      <td>17.9</td>\n",
       "      <td>19.3</td>\n",
       "      <td>No superviviente</td>\n",
       "    </tr>\n",
       "    <tr>\n",
       "      <th>39</th>\n",
       "      <td>163</td>\n",
       "      <td>249</td>\n",
       "      <td>33.40</td>\n",
       "      <td>19.5</td>\n",
       "      <td>22.8</td>\n",
       "      <td>Superviviente</td>\n",
       "    </tr>\n",
       "    <tr>\n",
       "      <th>40</th>\n",
       "      <td>163</td>\n",
       "      <td>242</td>\n",
       "      <td>31.00</td>\n",
       "      <td>18.1</td>\n",
       "      <td>20.7</td>\n",
       "      <td>Superviviente</td>\n",
       "    </tr>\n",
       "    <tr>\n",
       "      <th>41</th>\n",
       "      <td>156</td>\n",
       "      <td>237</td>\n",
       "      <td>31.70</td>\n",
       "      <td>18.2</td>\n",
       "      <td>20.3</td>\n",
       "      <td>No superviviente</td>\n",
       "    </tr>\n",
       "    <tr>\n",
       "      <th>42</th>\n",
       "      <td>159</td>\n",
       "      <td>238</td>\n",
       "      <td>31.50</td>\n",
       "      <td>18.4</td>\n",
       "      <td>20.3</td>\n",
       "      <td>No superviviente</td>\n",
       "    </tr>\n",
       "    <tr>\n",
       "      <th>43</th>\n",
       "      <td>161</td>\n",
       "      <td>245</td>\n",
       "      <td>32.10</td>\n",
       "      <td>19.1</td>\n",
       "      <td>20.8</td>\n",
       "      <td>No superviviente</td>\n",
       "    </tr>\n",
       "    <tr>\n",
       "      <th>44</th>\n",
       "      <td>155</td>\n",
       "      <td>235</td>\n",
       "      <td>30.70</td>\n",
       "      <td>17.7</td>\n",
       "      <td>19.6</td>\n",
       "      <td>Superviviente</td>\n",
       "    </tr>\n",
       "    <tr>\n",
       "      <th>45</th>\n",
       "      <td>162</td>\n",
       "      <td>247</td>\n",
       "      <td>31.90</td>\n",
       "      <td>19.1</td>\n",
       "      <td>20.4</td>\n",
       "      <td>No superviviente</td>\n",
       "    </tr>\n",
       "    <tr>\n",
       "      <th>46</th>\n",
       "      <td>153</td>\n",
       "      <td>237</td>\n",
       "      <td>30.60</td>\n",
       "      <td>18.6</td>\n",
       "      <td>20.4</td>\n",
       "      <td>No superviviente</td>\n",
       "    </tr>\n",
       "    <tr>\n",
       "      <th>47</th>\n",
       "      <td>162</td>\n",
       "      <td>245</td>\n",
       "      <td>32.50</td>\n",
       "      <td>18.5</td>\n",
       "      <td>21.1</td>\n",
       "      <td>No superviviente</td>\n",
       "    </tr>\n",
       "    <tr>\n",
       "      <th>48</th>\n",
       "      <td>164</td>\n",
       "      <td>248</td>\n",
       "      <td>32.30</td>\n",
       "      <td>18.8</td>\n",
       "      <td>20.9</td>\n",
       "      <td>Superviviente</td>\n",
       "    </tr>\n",
       "  </tbody>\n",
       "</table>\n",
       "</div>"
      ],
      "text/plain": [
       "     X1   X2     X3    X4    X5     Supervivencia\n",
       "0   156  245  31.60  18.5  20.5     Superviviente\n",
       "1   154  240  30.40  17.9  19.6  No superviviente\n",
       "2   153  240  31.00  18.4  20.6  No superviviente\n",
       "3   153  236  30.90  17.7  20.2  No superviviente\n",
       "4   155  243  31.50  18.6  20.3     Superviviente\n",
       "5   163  247  32.00  19.0  20.9  No superviviente\n",
       "6   157  238  30.90  18.4  20.2  No superviviente\n",
       "7   155  239  32.80  18.6  21.2  No superviviente\n",
       "8   164  248  32.70  19.1  21.1     Superviviente\n",
       "9   158  238  31.00  18.8  22.0  No superviviente\n",
       "10  158  240  31.30  18.6  22.0     Superviviente\n",
       "11  160  244  31.10  18.6  20.5  No superviviente\n",
       "12  161  246  32.32  19.3  21.8     Superviviente\n",
       "13  157  245  32.00  19.1  20.0  No superviviente\n",
       "14  157  235  31.50  18.1  19.8     Superviviente\n",
       "15  156  237  30.90  18.0  20.3  No superviviente\n",
       "16  158  244  31.40  18.5  21.6  No superviviente\n",
       "17  153  238  30.50  18.2  20.9     Superviviente\n",
       "18  155  236  30.30  18.5  20.1  No superviviente\n",
       "19  163  246  32.50  18.6  21.9  No superviviente\n",
       "20  159  236  31.50  18.0  21.5  No superviviente\n",
       "21  155  240  31.40  18.0  20.7     Superviviente\n",
       "22  156  240  31.50  18.2  20.6     Superviviente\n",
       "23  160  242  32.60  18.8  21.7     Superviviente\n",
       "24  152  232  30.30  17.2  19.8     Superviviente\n",
       "25  160  250  31.70  18.8  22.5  No superviviente\n",
       "26  155  237  31.00  18.5  20.0  No superviviente\n",
       "27  157  245  32.20  19.5  21.4     Superviviente\n",
       "28  165  245  33.10  19.8  22.7  No superviviente\n",
       "29  153  231  30.10  17.3  19.8     Superviviente\n",
       "30  162  239  30.30  18.0  23.1  No superviviente\n",
       "31  162  243  31.60  18.8  21.3  No superviviente\n",
       "32  159  245  31.80  18.5  21.7     Superviviente\n",
       "33  159  247  30.90  18.1  19.0  No superviviente\n",
       "34  155  243  30.90  18.5  21.3  No superviviente\n",
       "35  162  252  31.90  19.1  22.2     Superviviente\n",
       "36  152  230  30.40  17.3  18.6  No superviviente\n",
       "37  159  242  30.80  18.2  20.5     Superviviente\n",
       "38  155  238  31.20  17.9  19.3  No superviviente\n",
       "39  163  249  33.40  19.5  22.8     Superviviente\n",
       "40  163  242  31.00  18.1  20.7     Superviviente\n",
       "41  156  237  31.70  18.2  20.3  No superviviente\n",
       "42  159  238  31.50  18.4  20.3  No superviviente\n",
       "43  161  245  32.10  19.1  20.8  No superviviente\n",
       "44  155  235  30.70  17.7  19.6     Superviviente\n",
       "45  162  247  31.90  19.1  20.4  No superviviente\n",
       "46  153  237  30.60  18.6  20.4  No superviviente\n",
       "47  162  245  32.50  18.5  21.1  No superviviente\n",
       "48  164  248  32.30  18.8  20.9     Superviviente"
      ]
     },
     "execution_count": 55,
     "metadata": {},
     "output_type": "execute_result"
    }
   ],
   "source": [
    "#Datos resultantes al concluir la limpieza de la base de datos\n",
    "datos"
   ]
  },
  {
   "cell_type": "code",
   "execution_count": 56,
   "metadata": {},
   "outputs": [
    {
     "data": {
      "image/png": "[encoded data removed]",
      "text/plain": [
       "<Figure size 409.25x360 with 1 Axes>"
      ]
     },
     "metadata": {
      "needs_background": "light"
     },
     "output_type": "display_data"
    },
    {
     "data": {
      "image/png": "[encoded data removed]",
      "text/plain": [
       "<Figure size 360x360 with 1 Axes>"
      ]
     },
     "metadata": {
      "needs_background": "light"
     },
     "output_type": "display_data"
    },
    {
     "data": {
      "image/png": "[encoded data removed]",
      "text/plain": [
       "<Figure size 360x360 with 1 Axes>"
      ]
     },
     "metadata": {
      "needs_background": "light"
     },
     "output_type": "display_data"
    },
    {
     "data": {
      "image/png": "[encoded data removed]",
      "text/plain": [
       "<Figure size 360x360 with 1 Axes>"
      ]
     },
     "metadata": {
      "needs_background": "light"
     },
     "output_type": "display_data"
    },
    {
     "data": {
      "image/png": "[encoded data removed]",
      "text/plain": [
       "<Figure size 360x360 with 1 Axes>"
      ]
     },
     "metadata": {
      "needs_background": "light"
     },
     "output_type": "display_data"
    },
    {
     "data": {
      "image/png": "[encoded data removed]",
      "text/plain": [
       "<Figure size 360x360 with 1 Axes>"
      ]
     },
     "metadata": {
      "needs_background": "light"
     },
     "output_type": "display_data"
    },
    {
     "data": {
      "image/png": "[encoded data removed]",
      "text/plain": [
       "<Figure size 360x360 with 1 Axes>"
      ]
     },
     "metadata": {
      "needs_background": "light"
     },
     "output_type": "display_data"
    }
   ],
   "source": [
    "#Obtener la distribución de los datos\n",
    "sns.displot(datos,kde=True) #Distribución general\n",
    "for i in range(len(columns_df)): #Distribución por atributo\n",
    "    colum=columns_df[i]\n",
    "    sns.displot(datos[colum],kde=True)\n",
    "    plt.title('Distribución')"
   ]
  },
  {
   "cell_type": "code",
   "execution_count": 57,
   "metadata": {},
   "outputs": [
    {
     "data": {
      "text/plain": [
       "X1    3.654277\n",
       "X2    5.067822\n",
       "X3    0.795199\n",
       "X4    0.564286\n",
       "X5    0.991374\n",
       "dtype: float64"
      ]
     },
     "execution_count": 57,
     "metadata": {},
     "output_type": "execute_result"
    }
   ],
   "source": [
    "# Revisar la desviacion estandar original\n",
    "data_std"
   ]
  },
  {
   "cell_type": "code",
   "execution_count": 58,
   "metadata": {},
   "outputs": [
    {
     "data": {
      "text/plain": [
       "X1    3.654277\n",
       "X2    5.067822\n",
       "X3    0.795199\n",
       "X4    0.564286\n",
       "X5    0.991374\n",
       "dtype: float64"
      ]
     },
     "execution_count": 58,
     "metadata": {},
     "output_type": "execute_result"
    }
   ],
   "source": [
    "#Obtener desviación despues de realizar imputación, para comprobar que esta sea correcta\n",
    "datos.std()"
   ]
  },
  {
   "cell_type": "markdown",
   "metadata": {},
   "source": [
    "# DATOS SINTETICOS"
   ]
  },
  {
   "cell_type": "code",
   "execution_count": 59,
   "metadata": {},
   "outputs": [
    {
     "data": {
      "text/plain": [
       "X1               14\n",
       "X2               19\n",
       "X3               29\n",
       "X4               16\n",
       "X5               30\n",
       "Supervivencia     2\n",
       "dtype: int64"
      ]
     },
     "execution_count": 59,
     "metadata": {},
     "output_type": "execute_result"
    }
   ],
   "source": [
    "datos.nunique(axis=0) #Cantidad de datos únicos en cada atributo"
   ]
  },
  {
   "cell_type": "code",
   "execution_count": 60,
   "metadata": {
    "scrolled": true
   },
   "outputs": [
    {
     "data": {
      "text/plain": [
       "[array([156, 154, 153, 155, 163, 157, 164, 158, 160, 161, 159, 152, 165,\n",
       "        162]),\n",
       " array([245, 240, 236, 243, 247, 238, 239, 248, 244, 246, 235, 237, 242,\n",
       "        232, 250, 231, 252, 230, 249]),\n",
       " array([31.6 , 30.4 , 31.  , 30.9 , 31.5 , 32.  , 32.8 , 32.7 , 31.3 ,\n",
       "        31.1 , 32.32, 31.4 , 30.5 , 30.3 , 32.5 , 32.6 , 31.7 , 32.2 ,\n",
       "        33.1 , 30.1 , 31.8 , 31.9 , 30.8 , 31.2 , 33.4 , 32.1 , 30.7 ,\n",
       "        30.6 , 32.3 ]),\n",
       " array([18.5, 17.9, 18.4, 17.7, 18.6, 19. , 19.1, 18.8, 19.3, 18.1, 18. ,\n",
       "        18.2, 17.2, 19.5, 19.8, 17.3]),\n",
       " array([20.5, 19.6, 20.6, 20.2, 20.3, 20.9, 21.2, 21.1, 22. , 21.8, 20. ,\n",
       "        19.8, 21.6, 20.1, 21.9, 21.5, 20.7, 21.7, 22.5, 21.4, 22.7, 23.1,\n",
       "        21.3, 19. , 22.2, 18.6, 19.3, 22.8, 20.8, 20.4]),\n",
       " array(['Superviviente', 'No superviviente'], dtype=object)]"
      ]
     },
     "execution_count": 60,
     "metadata": {},
     "output_type": "execute_result"
    }
   ],
   "source": [
    "#Obtener los datos únicos por atributo \n",
    "uniq_data_clums=[]\n",
    "for i in range(len(columns_df)):\n",
    "    variables = datos[columns_df[i]].unique() \n",
    "    uniq_data_clums.append(variables)\n",
    "uniq_data_clums"
   ]
  },
  {
   "cell_type": "code",
   "execution_count": 63,
   "metadata": {},
   "outputs": [],
   "source": [
    "#Generar datos sintéticos a partir de método ruleta\n",
    "bd=[]\n",
    "for j in range(N_datos):\n",
    "    row=[]\n",
    "    for i in range(len(columns_df)):\n",
    "        #Valor unico\n",
    "        item_counts_key = datos[columns_df[i]].value_counts().index.tolist() \n",
    "        \n",
    "        #Probabilidad de que este valor aparezca en la base de datos\n",
    "        item_counts = datos[columns_df[i]].value_counts(normalize=True)         \n",
    "        \n",
    "        #Suma acumulativa de la probabilidad para priorizar valores\n",
    "        cumsumP=item_counts.cumsum() \n",
    "        w=cumsumP.to_numpy() \n",
    "        \n",
    "        #Generar un porcentaje aleatorio\n",
    "        r=random.random() \n",
    "        \n",
    "        #Buscar el porcentaje mas cercano alcanzado por los valores unicos\n",
    "        magico=np.argwhere(r <= w) \n",
    "        \n",
    "        #Obtener el índice de cada valor\n",
    "        x=int(magico[0]) \n",
    "        \n",
    "        #Obtener el valor para generar dato sintético\n",
    "        dato=item_counts_key[x] #Obtener el valor para generar dato sintético\n",
    "        row.append(dato) \n",
    "    \n",
    "    #Agregar el valor creado sintéticamente a la BD\n",
    "    bd.append(row) \n"
   ]
  },
  {
   "cell_type": "code",
   "execution_count": 62,
   "metadata": {},
   "outputs": [
    {
     "data": {
      "text/html": [
       "<div>\n",
       "<style scoped>\n",
       "    .dataframe tbody tr th:only-of-type {\n",
       "        vertical-align: middle;\n",
       "    }\n",
       "\n",
       "    .dataframe tbody tr th {\n",
       "        vertical-align: top;\n",
       "    }\n",
       "\n",
       "    .dataframe thead th {\n",
       "        text-align: right;\n",
       "    }\n",
       "</style>\n",
       "<table border=\"1\" class=\"dataframe\">\n",
       "  <thead>\n",
       "    <tr style=\"text-align: right;\">\n",
       "      <th></th>\n",
       "      <th>X1</th>\n",
       "      <th>X2</th>\n",
       "      <th>X3</th>\n",
       "      <th>X4</th>\n",
       "      <th>X5</th>\n",
       "      <th>Supervivencia</th>\n",
       "    </tr>\n",
       "  </thead>\n",
       "  <tbody>\n",
       "    <tr>\n",
       "      <th>0</th>\n",
       "      <td>163</td>\n",
       "      <td>246</td>\n",
       "      <td>30.6</td>\n",
       "      <td>18.6</td>\n",
       "      <td>20.3</td>\n",
       "      <td>Superviviente</td>\n",
       "    </tr>\n",
       "    <tr>\n",
       "      <th>1</th>\n",
       "      <td>153</td>\n",
       "      <td>237</td>\n",
       "      <td>31.5</td>\n",
       "      <td>19.3</td>\n",
       "      <td>20.2</td>\n",
       "      <td>Superviviente</td>\n",
       "    </tr>\n",
       "    <tr>\n",
       "      <th>2</th>\n",
       "      <td>156</td>\n",
       "      <td>245</td>\n",
       "      <td>31.4</td>\n",
       "      <td>18.6</td>\n",
       "      <td>21.2</td>\n",
       "      <td>No superviviente</td>\n",
       "    </tr>\n",
       "    <tr>\n",
       "      <th>3</th>\n",
       "      <td>158</td>\n",
       "      <td>250</td>\n",
       "      <td>32.0</td>\n",
       "      <td>17.7</td>\n",
       "      <td>19.6</td>\n",
       "      <td>No superviviente</td>\n",
       "    </tr>\n",
       "    <tr>\n",
       "      <th>4</th>\n",
       "      <td>162</td>\n",
       "      <td>238</td>\n",
       "      <td>32.1</td>\n",
       "      <td>17.7</td>\n",
       "      <td>21.9</td>\n",
       "      <td>Superviviente</td>\n",
       "    </tr>\n",
       "    <tr>\n",
       "      <th>...</th>\n",
       "      <td>...</td>\n",
       "      <td>...</td>\n",
       "      <td>...</td>\n",
       "      <td>...</td>\n",
       "      <td>...</td>\n",
       "      <td>...</td>\n",
       "    </tr>\n",
       "    <tr>\n",
       "      <th>83</th>\n",
       "      <td>164</td>\n",
       "      <td>249</td>\n",
       "      <td>31.4</td>\n",
       "      <td>19.1</td>\n",
       "      <td>20.1</td>\n",
       "      <td>No superviviente</td>\n",
       "    </tr>\n",
       "    <tr>\n",
       "      <th>84</th>\n",
       "      <td>163</td>\n",
       "      <td>244</td>\n",
       "      <td>30.6</td>\n",
       "      <td>17.2</td>\n",
       "      <td>19.0</td>\n",
       "      <td>No superviviente</td>\n",
       "    </tr>\n",
       "    <tr>\n",
       "      <th>85</th>\n",
       "      <td>155</td>\n",
       "      <td>246</td>\n",
       "      <td>33.4</td>\n",
       "      <td>19.1</td>\n",
       "      <td>20.1</td>\n",
       "      <td>No superviviente</td>\n",
       "    </tr>\n",
       "    <tr>\n",
       "      <th>86</th>\n",
       "      <td>153</td>\n",
       "      <td>232</td>\n",
       "      <td>30.4</td>\n",
       "      <td>18.6</td>\n",
       "      <td>22.5</td>\n",
       "      <td>Superviviente</td>\n",
       "    </tr>\n",
       "    <tr>\n",
       "      <th>87</th>\n",
       "      <td>155</td>\n",
       "      <td>248</td>\n",
       "      <td>31.6</td>\n",
       "      <td>19.1</td>\n",
       "      <td>21.1</td>\n",
       "      <td>Superviviente</td>\n",
       "    </tr>\n",
       "  </tbody>\n",
       "</table>\n",
       "<p>88 rows × 6 columns</p>\n",
       "</div>"
      ],
      "text/plain": [
       "     X1   X2    X3    X4    X5     Supervivencia\n",
       "0   163  246  30.6  18.6  20.3     Superviviente\n",
       "1   153  237  31.5  19.3  20.2     Superviviente\n",
       "2   156  245  31.4  18.6  21.2  No superviviente\n",
       "3   158  250  32.0  17.7  19.6  No superviviente\n",
       "4   162  238  32.1  17.7  21.9     Superviviente\n",
       "..  ...  ...   ...   ...   ...               ...\n",
       "83  164  249  31.4  19.1  20.1  No superviviente\n",
       "84  163  244  30.6  17.2  19.0  No superviviente\n",
       "85  155  246  33.4  19.1  20.1  No superviviente\n",
       "86  153  232  30.4  18.6  22.5     Superviviente\n",
       "87  155  248  31.6  19.1  21.1     Superviviente\n",
       "\n",
       "[88 rows x 6 columns]"
      ]
     },
     "execution_count": 62,
     "metadata": {},
     "output_type": "execute_result"
    }
   ],
   "source": [
    "#Crear un macro de datos de los datos sintéticos\n",
    "d_syn=pd.DataFrame(bd, columns=columns_df)\n",
    "d_syn"
   ]
  },
  {
   "cell_type": "code",
   "execution_count": 65,
   "metadata": {},
   "outputs": [
    {
     "data": {
      "text/html": [
       "<div>\n",
       "<style scoped>\n",
       "    .dataframe tbody tr th:only-of-type {\n",
       "        vertical-align: middle;\n",
       "    }\n",
       "\n",
       "    .dataframe tbody tr th {\n",
       "        vertical-align: top;\n",
       "    }\n",
       "\n",
       "    .dataframe thead th {\n",
       "        text-align: right;\n",
       "    }\n",
       "</style>\n",
       "<table border=\"1\" class=\"dataframe\">\n",
       "  <thead>\n",
       "    <tr style=\"text-align: right;\">\n",
       "      <th></th>\n",
       "      <th>X1</th>\n",
       "      <th>X2</th>\n",
       "      <th>X3</th>\n",
       "      <th>X4</th>\n",
       "      <th>X5</th>\n",
       "      <th>Supervivencia</th>\n",
       "    </tr>\n",
       "  </thead>\n",
       "  <tbody>\n",
       "    <tr>\n",
       "      <th>0</th>\n",
       "      <td>156</td>\n",
       "      <td>245</td>\n",
       "      <td>31.6</td>\n",
       "      <td>18.5</td>\n",
       "      <td>20.5</td>\n",
       "      <td>Superviviente</td>\n",
       "    </tr>\n",
       "    <tr>\n",
       "      <th>1</th>\n",
       "      <td>154</td>\n",
       "      <td>240</td>\n",
       "      <td>30.4</td>\n",
       "      <td>17.9</td>\n",
       "      <td>19.6</td>\n",
       "      <td>No superviviente</td>\n",
       "    </tr>\n",
       "    <tr>\n",
       "      <th>2</th>\n",
       "      <td>153</td>\n",
       "      <td>240</td>\n",
       "      <td>31.0</td>\n",
       "      <td>18.4</td>\n",
       "      <td>20.6</td>\n",
       "      <td>No superviviente</td>\n",
       "    </tr>\n",
       "    <tr>\n",
       "      <th>3</th>\n",
       "      <td>153</td>\n",
       "      <td>236</td>\n",
       "      <td>30.9</td>\n",
       "      <td>17.7</td>\n",
       "      <td>20.2</td>\n",
       "      <td>No superviviente</td>\n",
       "    </tr>\n",
       "    <tr>\n",
       "      <th>4</th>\n",
       "      <td>155</td>\n",
       "      <td>243</td>\n",
       "      <td>31.5</td>\n",
       "      <td>18.6</td>\n",
       "      <td>20.3</td>\n",
       "      <td>Superviviente</td>\n",
       "    </tr>\n",
       "    <tr>\n",
       "      <th>...</th>\n",
       "      <td>...</td>\n",
       "      <td>...</td>\n",
       "      <td>...</td>\n",
       "      <td>...</td>\n",
       "      <td>...</td>\n",
       "      <td>...</td>\n",
       "    </tr>\n",
       "    <tr>\n",
       "      <th>132</th>\n",
       "      <td>164</td>\n",
       "      <td>249</td>\n",
       "      <td>31.4</td>\n",
       "      <td>19.1</td>\n",
       "      <td>20.1</td>\n",
       "      <td>No superviviente</td>\n",
       "    </tr>\n",
       "    <tr>\n",
       "      <th>133</th>\n",
       "      <td>163</td>\n",
       "      <td>244</td>\n",
       "      <td>30.6</td>\n",
       "      <td>17.2</td>\n",
       "      <td>19.0</td>\n",
       "      <td>No superviviente</td>\n",
       "    </tr>\n",
       "    <tr>\n",
       "      <th>134</th>\n",
       "      <td>155</td>\n",
       "      <td>246</td>\n",
       "      <td>33.4</td>\n",
       "      <td>19.1</td>\n",
       "      <td>20.1</td>\n",
       "      <td>No superviviente</td>\n",
       "    </tr>\n",
       "    <tr>\n",
       "      <th>135</th>\n",
       "      <td>153</td>\n",
       "      <td>232</td>\n",
       "      <td>30.4</td>\n",
       "      <td>18.6</td>\n",
       "      <td>22.5</td>\n",
       "      <td>Superviviente</td>\n",
       "    </tr>\n",
       "    <tr>\n",
       "      <th>136</th>\n",
       "      <td>155</td>\n",
       "      <td>248</td>\n",
       "      <td>31.6</td>\n",
       "      <td>19.1</td>\n",
       "      <td>21.1</td>\n",
       "      <td>Superviviente</td>\n",
       "    </tr>\n",
       "  </tbody>\n",
       "</table>\n",
       "<p>137 rows × 6 columns</p>\n",
       "</div>"
      ],
      "text/plain": [
       "      X1   X2    X3    X4    X5     Supervivencia\n",
       "0    156  245  31.6  18.5  20.5     Superviviente\n",
       "1    154  240  30.4  17.9  19.6  No superviviente\n",
       "2    153  240  31.0  18.4  20.6  No superviviente\n",
       "3    153  236  30.9  17.7  20.2  No superviviente\n",
       "4    155  243  31.5  18.6  20.3     Superviviente\n",
       "..   ...  ...   ...   ...   ...               ...\n",
       "132  164  249  31.4  19.1  20.1  No superviviente\n",
       "133  163  244  30.6  17.2  19.0  No superviviente\n",
       "134  155  246  33.4  19.1  20.1  No superviviente\n",
       "135  153  232  30.4  18.6  22.5     Superviviente\n",
       "136  155  248  31.6  19.1  21.1     Superviviente\n",
       "\n",
       "[137 rows x 6 columns]"
      ]
     },
     "execution_count": 65,
     "metadata": {},
     "output_type": "execute_result"
    }
   ],
   "source": [
    "#Agregar datos sinteticos a la copia de los datos originales\n",
    "d_final=pd.concat([datos, d_syn], ignore_index=True)\n",
    "d_final"
   ]
  },
  {
   "cell_type": "code",
   "execution_count": 66,
   "metadata": {},
   "outputs": [
    {
     "data": {
      "image/png": "[encoded data removed]",
      "text/plain": [
       "<Figure size 409.25x360 with 1 Axes>"
      ]
     },
     "metadata": {
      "needs_background": "light"
     },
     "output_type": "display_data"
    },
    {
     "data": {
      "image/png": "[encoded data removed]",
      "text/plain": [
       "<Figure size 360x360 with 1 Axes>"
      ]
     },
     "metadata": {
      "needs_background": "light"
     },
     "output_type": "display_data"
    },
    {
     "data": {
      "image/png": "[encoded data removed]",
      "text/plain": [
       "<Figure size 360x360 with 1 Axes>"
      ]
     },
     "metadata": {
      "needs_background": "light"
     },
     "output_type": "display_data"
    },
    {
     "data": {
      "image/png": "[encoded data removed]",
      "text/plain": [
       "<Figure size 360x360 with 1 Axes>"
      ]
     },
     "metadata": {
      "needs_background": "light"
     },
     "output_type": "display_data"
    },
    {
     "data": {
      "image/png": "[encoded data removed]",
      "text/plain": [
       "<Figure size 360x360 with 1 Axes>"
      ]
     },
     "metadata": {
      "needs_background": "light"
     },
     "output_type": "display_data"
    },
    {
     "data": {
      "image/png": "[encoded data removed]",
      "text/plain": [
       "<Figure size 360x360 with 1 Axes>"
      ]
     },
     "metadata": {
      "needs_background": "light"
     },
     "output_type": "display_data"
    },
    {
     "data": {
      "image/png": "[encoded data removed]",
      "text/plain": [
       "<Figure size 360x360 with 1 Axes>"
      ]
     },
     "metadata": {
      "needs_background": "light"
     },
     "output_type": "display_data"
    }
   ],
   "source": [
    "#Obtener la distribución de datos \n",
    "sns.displot(d_final,kde=True)\n",
    "for i in range(len(columns_df)):\n",
    "    colum=columns_df[i]\n",
    "    sns.displot(d_final[colum],kde=True)\n",
    "    plt.title('Distribucion')"
   ]
  },
  {
   "cell_type": "markdown",
   "metadata": {},
   "source": [
    "# Comparacion de la distribucion de cada atributo"
   ]
  },
  {
   "cell_type": "code",
   "execution_count": 67,
   "metadata": {},
   "outputs": [
    {
     "data": {
      "text/plain": [
       "X1    3.637016\n",
       "X2    5.211242\n",
       "X3    0.740612\n",
       "X4    0.528803\n",
       "X5    1.072508\n",
       "dtype: float64"
      ]
     },
     "execution_count": 67,
     "metadata": {},
     "output_type": "execute_result"
    }
   ],
   "source": [
    "#Desviación estándar de los datos sintéticos\n",
    "d_final.std()"
   ]
  },
  {
   "cell_type": "code",
   "execution_count": 68,
   "metadata": {},
   "outputs": [
    {
     "data": {
      "text/plain": [
       "X1    3.654277\n",
       "X2    5.067822\n",
       "X3    0.795199\n",
       "X4    0.564286\n",
       "X5    0.991374\n",
       "dtype: float64"
      ]
     },
     "execution_count": 68,
     "metadata": {},
     "output_type": "execute_result"
    }
   ],
   "source": [
    "#Desviación estándar original\n",
    "data_std"
   ]
  },
  {
   "cell_type": "code",
   "execution_count": 69,
   "metadata": {},
   "outputs": [
    {
     "data": {
      "image/png": "[encoded data removed]",
      "text/plain": [
       "<Figure size 432x288 with 1 Axes>"
      ]
     },
     "metadata": {
      "needs_background": "light"
     },
     "output_type": "display_data"
    },
    {
     "data": {
      "image/png": "[encoded data removed]",
      "text/plain": [
       "<Figure size 432x288 with 1 Axes>"
      ]
     },
     "metadata": {
      "needs_background": "light"
     },
     "output_type": "display_data"
    },
    {
     "data": {
      "image/png": "[encoded data removed]",
      "text/plain": [
       "<Figure size 432x288 with 1 Axes>"
      ]
     },
     "metadata": {
      "needs_background": "light"
     },
     "output_type": "display_data"
    },
    {
     "data": {
      "image/png": "[encoded data removed]",
      "text/plain": [
       "<Figure size 432x288 with 1 Axes>"
      ]
     },
     "metadata": {
      "needs_background": "light"
     },
     "output_type": "display_data"
    },
    {
     "data": {
      "image/png": "[encoded data removed]",
      "text/plain": [
       "<Figure size 432x288 with 1 Axes>"
      ]
     },
     "metadata": {
      "needs_background": "light"
     },
     "output_type": "display_data"
    },
    {
     "ename": "TypeError",
     "evalue": "no numeric data to plot",
     "output_type": "error",
     "traceback": [
      "\u001b[0;31m---------------------------------------------------------------------------\u001b[0m",
      "\u001b[0;31mTypeError\u001b[0m                                 Traceback (most recent call last)",
      "\u001b[0;32m<ipython-input-69-14a7cea4c65f>\u001b[0m in \u001b[0;36m<module>\u001b[0;34m\u001b[0m\n\u001b[1;32m      1\u001b[0m \u001b[0;32mfor\u001b[0m \u001b[0mi\u001b[0m \u001b[0;32min\u001b[0m \u001b[0mrange\u001b[0m\u001b[0;34m(\u001b[0m\u001b[0mlen\u001b[0m\u001b[0;34m(\u001b[0m\u001b[0mcolumns_df\u001b[0m\u001b[0;34m)\u001b[0m\u001b[0;34m)\u001b[0m\u001b[0;34m:\u001b[0m\u001b[0;34m\u001b[0m\u001b[0;34m\u001b[0m\u001b[0m\n\u001b[1;32m      2\u001b[0m     \u001b[0mcolum\u001b[0m\u001b[0;34m=\u001b[0m\u001b[0mcolumns_df\u001b[0m\u001b[0;34m[\u001b[0m\u001b[0mi\u001b[0m\u001b[0;34m]\u001b[0m\u001b[0;34m\u001b[0m\u001b[0;34m\u001b[0m\u001b[0m\n\u001b[0;32m----> 3\u001b[0;31m     \u001b[0mdatos\u001b[0m\u001b[0;34m[\u001b[0m\u001b[0mcolum\u001b[0m\u001b[0;34m]\u001b[0m\u001b[0;34m.\u001b[0m\u001b[0mplot\u001b[0m\u001b[0;34m.\u001b[0m\u001b[0mkde\u001b[0m\u001b[0;34m(\u001b[0m\u001b[0;34m)\u001b[0m\u001b[0;34m\u001b[0m\u001b[0;34m\u001b[0m\u001b[0m\n\u001b[0m\u001b[1;32m      4\u001b[0m     \u001b[0md_final\u001b[0m\u001b[0;34m[\u001b[0m\u001b[0mcolum\u001b[0m\u001b[0;34m]\u001b[0m\u001b[0;34m.\u001b[0m\u001b[0mplot\u001b[0m\u001b[0;34m.\u001b[0m\u001b[0mkde\u001b[0m\u001b[0;34m(\u001b[0m\u001b[0;34m)\u001b[0m\u001b[0;34m\u001b[0m\u001b[0;34m\u001b[0m\u001b[0m\n\u001b[1;32m      5\u001b[0m     \u001b[0mplt\u001b[0m\u001b[0;34m.\u001b[0m\u001b[0mtitle\u001b[0m\u001b[0;34m(\u001b[0m\u001b[0;34m'Distribucion'\u001b[0m\u001b[0;34m)\u001b[0m\u001b[0;34m\u001b[0m\u001b[0;34m\u001b[0m\u001b[0m\n",
      "\u001b[0;32m~/opt/anaconda3/lib/python3.7/site-packages/pandas/plotting/_core.py\u001b[0m in \u001b[0;36mkde\u001b[0;34m(self, bw_method, ind, **kwargs)\u001b[0m\n\u001b[1;32m   1402\u001b[0m             \u001b[0;34m>>\u001b[0m\u001b[0;34m>\u001b[0m \u001b[0max\u001b[0m \u001b[0;34m=\u001b[0m \u001b[0mdf\u001b[0m\u001b[0;34m.\u001b[0m\u001b[0mplot\u001b[0m\u001b[0;34m.\u001b[0m\u001b[0mkde\u001b[0m\u001b[0;34m(\u001b[0m\u001b[0mind\u001b[0m\u001b[0;34m=\u001b[0m\u001b[0;34m[\u001b[0m\u001b[0;36m1\u001b[0m\u001b[0;34m,\u001b[0m \u001b[0;36m2\u001b[0m\u001b[0;34m,\u001b[0m \u001b[0;36m3\u001b[0m\u001b[0;34m,\u001b[0m \u001b[0;36m4\u001b[0m\u001b[0;34m,\u001b[0m \u001b[0;36m5\u001b[0m\u001b[0;34m,\u001b[0m \u001b[0;36m6\u001b[0m\u001b[0;34m]\u001b[0m\u001b[0;34m)\u001b[0m\u001b[0;34m\u001b[0m\u001b[0;34m\u001b[0m\u001b[0m\n\u001b[1;32m   1403\u001b[0m         \"\"\"\n\u001b[0;32m-> 1404\u001b[0;31m         \u001b[0;32mreturn\u001b[0m \u001b[0mself\u001b[0m\u001b[0;34m(\u001b[0m\u001b[0mkind\u001b[0m\u001b[0;34m=\u001b[0m\u001b[0;34m\"kde\"\u001b[0m\u001b[0;34m,\u001b[0m \u001b[0mbw_method\u001b[0m\u001b[0;34m=\u001b[0m\u001b[0mbw_method\u001b[0m\u001b[0;34m,\u001b[0m \u001b[0mind\u001b[0m\u001b[0;34m=\u001b[0m\u001b[0mind\u001b[0m\u001b[0;34m,\u001b[0m \u001b[0;34m**\u001b[0m\u001b[0mkwargs\u001b[0m\u001b[0;34m)\u001b[0m\u001b[0;34m\u001b[0m\u001b[0;34m\u001b[0m\u001b[0m\n\u001b[0m\u001b[1;32m   1405\u001b[0m \u001b[0;34m\u001b[0m\u001b[0m\n\u001b[1;32m   1406\u001b[0m     \u001b[0mdensity\u001b[0m \u001b[0;34m=\u001b[0m \u001b[0mkde\u001b[0m\u001b[0;34m\u001b[0m\u001b[0;34m\u001b[0m\u001b[0m\n",
      "\u001b[0;32m~/opt/anaconda3/lib/python3.7/site-packages/pandas/plotting/_core.py\u001b[0m in \u001b[0;36m__call__\u001b[0;34m(self, *args, **kwargs)\u001b[0m\n\u001b[1;32m    953\u001b[0m                     \u001b[0mdata\u001b[0m\u001b[0;34m.\u001b[0m\u001b[0mcolumns\u001b[0m \u001b[0;34m=\u001b[0m \u001b[0mlabel_name\u001b[0m\u001b[0;34m\u001b[0m\u001b[0;34m\u001b[0m\u001b[0m\n\u001b[1;32m    954\u001b[0m \u001b[0;34m\u001b[0m\u001b[0m\n\u001b[0;32m--> 955\u001b[0;31m         \u001b[0;32mreturn\u001b[0m \u001b[0mplot_backend\u001b[0m\u001b[0;34m.\u001b[0m\u001b[0mplot\u001b[0m\u001b[0;34m(\u001b[0m\u001b[0mdata\u001b[0m\u001b[0;34m,\u001b[0m \u001b[0mkind\u001b[0m\u001b[0;34m=\u001b[0m\u001b[0mkind\u001b[0m\u001b[0;34m,\u001b[0m \u001b[0;34m**\u001b[0m\u001b[0mkwargs\u001b[0m\u001b[0;34m)\u001b[0m\u001b[0;34m\u001b[0m\u001b[0;34m\u001b[0m\u001b[0m\n\u001b[0m\u001b[1;32m    956\u001b[0m \u001b[0;34m\u001b[0m\u001b[0m\n\u001b[1;32m    957\u001b[0m     \u001b[0m__call__\u001b[0m\u001b[0;34m.\u001b[0m\u001b[0m__doc__\u001b[0m \u001b[0;34m=\u001b[0m \u001b[0m__doc__\u001b[0m\u001b[0;34m\u001b[0m\u001b[0;34m\u001b[0m\u001b[0m\n",
      "\u001b[0;32m~/opt/anaconda3/lib/python3.7/site-packages/pandas/plotting/_matplotlib/__init__.py\u001b[0m in \u001b[0;36mplot\u001b[0;34m(data, kind, **kwargs)\u001b[0m\n\u001b[1;32m     59\u001b[0m             \u001b[0mkwargs\u001b[0m\u001b[0;34m[\u001b[0m\u001b[0;34m\"ax\"\u001b[0m\u001b[0;34m]\u001b[0m \u001b[0;34m=\u001b[0m \u001b[0mgetattr\u001b[0m\u001b[0;34m(\u001b[0m\u001b[0max\u001b[0m\u001b[0;34m,\u001b[0m \u001b[0;34m\"left_ax\"\u001b[0m\u001b[0;34m,\u001b[0m \u001b[0max\u001b[0m\u001b[0;34m)\u001b[0m\u001b[0;34m\u001b[0m\u001b[0;34m\u001b[0m\u001b[0m\n\u001b[1;32m     60\u001b[0m     \u001b[0mplot_obj\u001b[0m \u001b[0;34m=\u001b[0m \u001b[0mPLOT_CLASSES\u001b[0m\u001b[0;34m[\u001b[0m\u001b[0mkind\u001b[0m\u001b[0;34m]\u001b[0m\u001b[0;34m(\u001b[0m\u001b[0mdata\u001b[0m\u001b[0;34m,\u001b[0m \u001b[0;34m**\u001b[0m\u001b[0mkwargs\u001b[0m\u001b[0;34m)\u001b[0m\u001b[0;34m\u001b[0m\u001b[0;34m\u001b[0m\u001b[0m\n\u001b[0;32m---> 61\u001b[0;31m     \u001b[0mplot_obj\u001b[0m\u001b[0;34m.\u001b[0m\u001b[0mgenerate\u001b[0m\u001b[0;34m(\u001b[0m\u001b[0;34m)\u001b[0m\u001b[0;34m\u001b[0m\u001b[0;34m\u001b[0m\u001b[0m\n\u001b[0m\u001b[1;32m     62\u001b[0m     \u001b[0mplot_obj\u001b[0m\u001b[0;34m.\u001b[0m\u001b[0mdraw\u001b[0m\u001b[0;34m(\u001b[0m\u001b[0;34m)\u001b[0m\u001b[0;34m\u001b[0m\u001b[0;34m\u001b[0m\u001b[0m\n\u001b[1;32m     63\u001b[0m     \u001b[0;32mreturn\u001b[0m \u001b[0mplot_obj\u001b[0m\u001b[0;34m.\u001b[0m\u001b[0mresult\u001b[0m\u001b[0;34m\u001b[0m\u001b[0;34m\u001b[0m\u001b[0m\n",
      "\u001b[0;32m~/opt/anaconda3/lib/python3.7/site-packages/pandas/plotting/_matplotlib/core.py\u001b[0m in \u001b[0;36mgenerate\u001b[0;34m(self)\u001b[0m\n\u001b[1;32m    276\u001b[0m     \u001b[0;32mdef\u001b[0m \u001b[0mgenerate\u001b[0m\u001b[0;34m(\u001b[0m\u001b[0mself\u001b[0m\u001b[0;34m)\u001b[0m\u001b[0;34m:\u001b[0m\u001b[0;34m\u001b[0m\u001b[0;34m\u001b[0m\u001b[0m\n\u001b[1;32m    277\u001b[0m         \u001b[0mself\u001b[0m\u001b[0;34m.\u001b[0m\u001b[0m_args_adjust\u001b[0m\u001b[0;34m(\u001b[0m\u001b[0;34m)\u001b[0m\u001b[0;34m\u001b[0m\u001b[0;34m\u001b[0m\u001b[0m\n\u001b[0;32m--> 278\u001b[0;31m         \u001b[0mself\u001b[0m\u001b[0;34m.\u001b[0m\u001b[0m_compute_plot_data\u001b[0m\u001b[0;34m(\u001b[0m\u001b[0;34m)\u001b[0m\u001b[0;34m\u001b[0m\u001b[0;34m\u001b[0m\u001b[0m\n\u001b[0m\u001b[1;32m    279\u001b[0m         \u001b[0mself\u001b[0m\u001b[0;34m.\u001b[0m\u001b[0m_setup_subplots\u001b[0m\u001b[0;34m(\u001b[0m\u001b[0;34m)\u001b[0m\u001b[0;34m\u001b[0m\u001b[0;34m\u001b[0m\u001b[0m\n\u001b[1;32m    280\u001b[0m         \u001b[0mself\u001b[0m\u001b[0;34m.\u001b[0m\u001b[0m_make_plot\u001b[0m\u001b[0;34m(\u001b[0m\u001b[0;34m)\u001b[0m\u001b[0;34m\u001b[0m\u001b[0;34m\u001b[0m\u001b[0m\n",
      "\u001b[0;32m~/opt/anaconda3/lib/python3.7/site-packages/pandas/plotting/_matplotlib/core.py\u001b[0m in \u001b[0;36m_compute_plot_data\u001b[0;34m(self)\u001b[0m\n\u001b[1;32m    439\u001b[0m         \u001b[0;31m# no non-numeric frames or series allowed\u001b[0m\u001b[0;34m\u001b[0m\u001b[0;34m\u001b[0m\u001b[0;34m\u001b[0m\u001b[0m\n\u001b[1;32m    440\u001b[0m         \u001b[0;32mif\u001b[0m \u001b[0mis_empty\u001b[0m\u001b[0;34m:\u001b[0m\u001b[0;34m\u001b[0m\u001b[0;34m\u001b[0m\u001b[0m\n\u001b[0;32m--> 441\u001b[0;31m             \u001b[0;32mraise\u001b[0m \u001b[0mTypeError\u001b[0m\u001b[0;34m(\u001b[0m\u001b[0;34m\"no numeric data to plot\"\u001b[0m\u001b[0;34m)\u001b[0m\u001b[0;34m\u001b[0m\u001b[0;34m\u001b[0m\u001b[0m\n\u001b[0m\u001b[1;32m    442\u001b[0m \u001b[0;34m\u001b[0m\u001b[0m\n\u001b[1;32m    443\u001b[0m         \u001b[0mself\u001b[0m\u001b[0;34m.\u001b[0m\u001b[0mdata\u001b[0m \u001b[0;34m=\u001b[0m \u001b[0mnumeric_data\u001b[0m\u001b[0;34m.\u001b[0m\u001b[0mapply\u001b[0m\u001b[0;34m(\u001b[0m\u001b[0mself\u001b[0m\u001b[0;34m.\u001b[0m\u001b[0m_convert_to_ndarray\u001b[0m\u001b[0;34m)\u001b[0m\u001b[0;34m\u001b[0m\u001b[0;34m\u001b[0m\u001b[0m\n",
      "\u001b[0;31mTypeError\u001b[0m: no numeric data to plot"
     ]
    }
   ],
   "source": [
    "\n",
    "for i in range(len(columns_df)):\n",
    "    colum=columns_df[i]\n",
    "    datos[colum].plot.kde()\n",
    "    d_final[colum].plot.kde()\n",
    "    plt.title('Distribucion')\n",
    "    plt.show()\n",
    "    "
   ]
  },
  {
   "cell_type": "code",
   "execution_count": null,
   "metadata": {},
   "outputs": [],
   "source": []
  }
 ],
 "metadata": {
  "kernelspec": {
   "display_name": "Python 3 (ipykernel)",
   "language": "python",
   "name": "python3"
  },
  "language_info": {
   "codemirror_mode": {
    "name": "ipython",
    "version": 3
   },
   "file_extension": ".py",
   "mimetype": "text/x-python",
   "name": "python",
   "nbconvert_exporter": "python",
   "pygments_lexer": "ipython3",
   "version": "3.9.7"
  }
 },
 "nbformat": 4,
 "nbformat_minor": 4
}
