{
 "cells": [
  {
   "cell_type": "code",
   "execution_count": null,
   "metadata": {},
   "outputs": [],
   "source": [
    "# Análisis de Componentes Principales (PCA)\n",
    "#### 0.0.1 - 2021 - 01 - 01\n",
    "#### Dr. Marco Aceves \n",
    "#### rev en Jupyter Notebook\n",
    "#### Código como ejemplo como parte del libro:\n",
    "#### Inteligencia Artificial para Programadores con Prisa\n",
    "#### 8.8_PCA.ipynb"
   ]
  },
  {
   "cell_type": "markdown",
   "metadata": {},
   "source": [
    "## Análisis de componentes principales: PCA"
   ]
  },
  {
   "cell_type": "code",
   "execution_count": 2,
   "metadata": {},
   "outputs": [],
   "source": [
    "#Importamos las librerías\n",
    "import numpy as np\n",
    "import pandas as pd\n",
    "import math\n",
    "import matplotlib.pyplot as plt\n",
    "import time\n",
    "from collections import Counter"
   ]
  },
  {
   "cell_type": "code",
   "execution_count": 5,
   "metadata": {},
   "outputs": [
    {
     "data": {
      "text/html": [
       "<div>\n",
       "<style scoped>\n",
       "    .dataframe tbody tr th:only-of-type {\n",
       "        vertical-align: middle;\n",
       "    }\n",
       "\n",
       "    .dataframe tbody tr th {\n",
       "        vertical-align: top;\n",
       "    }\n",
       "\n",
       "    .dataframe thead th {\n",
       "        text-align: right;\n",
       "    }\n",
       "</style>\n",
       "<table border=\"1\" class=\"dataframe\">\n",
       "  <thead>\n",
       "    <tr style=\"text-align: right;\">\n",
       "      <th></th>\n",
       "      <th>Survived</th>\n",
       "      <th>Pclass</th>\n",
       "      <th>Gender</th>\n",
       "      <th>Age</th>\n",
       "      <th>SibSp</th>\n",
       "      <th>Parch</th>\n",
       "      <th>Fare</th>\n",
       "    </tr>\n",
       "  </thead>\n",
       "  <tbody>\n",
       "    <tr>\n",
       "      <th>0</th>\n",
       "      <td>0</td>\n",
       "      <td>3</td>\n",
       "      <td>male</td>\n",
       "      <td>22.0</td>\n",
       "      <td>1</td>\n",
       "      <td>0</td>\n",
       "      <td>7.2500</td>\n",
       "    </tr>\n",
       "    <tr>\n",
       "      <th>1</th>\n",
       "      <td>1</td>\n",
       "      <td>1</td>\n",
       "      <td>female</td>\n",
       "      <td>38.0</td>\n",
       "      <td>1</td>\n",
       "      <td>0</td>\n",
       "      <td>71.2833</td>\n",
       "    </tr>\n",
       "    <tr>\n",
       "      <th>2</th>\n",
       "      <td>1</td>\n",
       "      <td>3</td>\n",
       "      <td>female</td>\n",
       "      <td>26.0</td>\n",
       "      <td>0</td>\n",
       "      <td>0</td>\n",
       "      <td>7.9250</td>\n",
       "    </tr>\n",
       "    <tr>\n",
       "      <th>3</th>\n",
       "      <td>1</td>\n",
       "      <td>1</td>\n",
       "      <td>female</td>\n",
       "      <td>35.0</td>\n",
       "      <td>1</td>\n",
       "      <td>0</td>\n",
       "      <td>53.1000</td>\n",
       "    </tr>\n",
       "    <tr>\n",
       "      <th>4</th>\n",
       "      <td>0</td>\n",
       "      <td>3</td>\n",
       "      <td>male</td>\n",
       "      <td>35.0</td>\n",
       "      <td>0</td>\n",
       "      <td>0</td>\n",
       "      <td>8.0500</td>\n",
       "    </tr>\n",
       "  </tbody>\n",
       "</table>\n",
       "</div>"
      ],
      "text/plain": [
       "   Survived  Pclass  Gender   Age  SibSp  Parch     Fare\n",
       "0         0       3    male  22.0      1      0   7.2500\n",
       "1         1       1  female  38.0      1      0  71.2833\n",
       "2         1       3  female  26.0      0      0   7.9250\n",
       "3         1       1  female  35.0      1      0  53.1000\n",
       "4         0       3    male  35.0      0      0   8.0500"
      ]
     },
     "execution_count": 5,
     "metadata": {},
     "output_type": "execute_result"
    }
   ],
   "source": [
    "#se lee el archivo\n",
    "#Tiene que estar importado en el entorno de Jupyter\n",
    "df = pd.read_csv(\"Titanic.csv\", sep=',');\n",
    "df = df.drop(['Name','PassengerId','Ticket','Cabin','Embarked'],axis = 1) \n",
    "df.head()"
   ]
  },
  {
   "cell_type": "code",
   "execution_count": 6,
   "metadata": {},
   "outputs": [],
   "source": [
    "#Preprocesamiento de los datos\n",
    "#Primeramente, se codifican los datos categóricos \n",
    "#para poder trabajar con ellos de manera numérica"
   ]
  },
  {
   "cell_type": "markdown",
   "metadata": {},
   "source": [
    "0 - male \n",
    "1 - female"
   ]
  },
  {
   "cell_type": "code",
   "execution_count": 11,
   "metadata": {},
   "outputs": [
    {
     "data": {
      "text/html": [
       "<div>\n",
       "<style scoped>\n",
       "    .dataframe tbody tr th:only-of-type {\n",
       "        vertical-align: middle;\n",
       "    }\n",
       "\n",
       "    .dataframe tbody tr th {\n",
       "        vertical-align: top;\n",
       "    }\n",
       "\n",
       "    .dataframe thead th {\n",
       "        text-align: right;\n",
       "    }\n",
       "</style>\n",
       "<table border=\"1\" class=\"dataframe\">\n",
       "  <thead>\n",
       "    <tr style=\"text-align: right;\">\n",
       "      <th></th>\n",
       "      <th>Survived</th>\n",
       "      <th>Pclass</th>\n",
       "      <th>Gender</th>\n",
       "      <th>Age</th>\n",
       "      <th>SibSp</th>\n",
       "      <th>Parch</th>\n",
       "      <th>Fare</th>\n",
       "    </tr>\n",
       "  </thead>\n",
       "  <tbody>\n",
       "    <tr>\n",
       "      <th>0</th>\n",
       "      <td>0</td>\n",
       "      <td>3</td>\n",
       "      <td>0</td>\n",
       "      <td>22.0</td>\n",
       "      <td>1</td>\n",
       "      <td>0</td>\n",
       "      <td>7.2500</td>\n",
       "    </tr>\n",
       "    <tr>\n",
       "      <th>1</th>\n",
       "      <td>1</td>\n",
       "      <td>1</td>\n",
       "      <td>1</td>\n",
       "      <td>38.0</td>\n",
       "      <td>1</td>\n",
       "      <td>0</td>\n",
       "      <td>71.2833</td>\n",
       "    </tr>\n",
       "    <tr>\n",
       "      <th>2</th>\n",
       "      <td>1</td>\n",
       "      <td>3</td>\n",
       "      <td>1</td>\n",
       "      <td>26.0</td>\n",
       "      <td>0</td>\n",
       "      <td>0</td>\n",
       "      <td>7.9250</td>\n",
       "    </tr>\n",
       "    <tr>\n",
       "      <th>3</th>\n",
       "      <td>1</td>\n",
       "      <td>1</td>\n",
       "      <td>1</td>\n",
       "      <td>35.0</td>\n",
       "      <td>1</td>\n",
       "      <td>0</td>\n",
       "      <td>53.1000</td>\n",
       "    </tr>\n",
       "    <tr>\n",
       "      <th>4</th>\n",
       "      <td>0</td>\n",
       "      <td>3</td>\n",
       "      <td>0</td>\n",
       "      <td>35.0</td>\n",
       "      <td>0</td>\n",
       "      <td>0</td>\n",
       "      <td>8.0500</td>\n",
       "    </tr>\n",
       "    <tr>\n",
       "      <th>...</th>\n",
       "      <td>...</td>\n",
       "      <td>...</td>\n",
       "      <td>...</td>\n",
       "      <td>...</td>\n",
       "      <td>...</td>\n",
       "      <td>...</td>\n",
       "      <td>...</td>\n",
       "    </tr>\n",
       "    <tr>\n",
       "      <th>886</th>\n",
       "      <td>0</td>\n",
       "      <td>2</td>\n",
       "      <td>0</td>\n",
       "      <td>27.0</td>\n",
       "      <td>0</td>\n",
       "      <td>0</td>\n",
       "      <td>13.0000</td>\n",
       "    </tr>\n",
       "    <tr>\n",
       "      <th>887</th>\n",
       "      <td>1</td>\n",
       "      <td>1</td>\n",
       "      <td>1</td>\n",
       "      <td>19.0</td>\n",
       "      <td>0</td>\n",
       "      <td>0</td>\n",
       "      <td>30.0000</td>\n",
       "    </tr>\n",
       "    <tr>\n",
       "      <th>888</th>\n",
       "      <td>0</td>\n",
       "      <td>3</td>\n",
       "      <td>1</td>\n",
       "      <td>NaN</td>\n",
       "      <td>1</td>\n",
       "      <td>2</td>\n",
       "      <td>23.4500</td>\n",
       "    </tr>\n",
       "    <tr>\n",
       "      <th>889</th>\n",
       "      <td>1</td>\n",
       "      <td>1</td>\n",
       "      <td>0</td>\n",
       "      <td>26.0</td>\n",
       "      <td>0</td>\n",
       "      <td>0</td>\n",
       "      <td>30.0000</td>\n",
       "    </tr>\n",
       "    <tr>\n",
       "      <th>890</th>\n",
       "      <td>0</td>\n",
       "      <td>3</td>\n",
       "      <td>0</td>\n",
       "      <td>32.0</td>\n",
       "      <td>0</td>\n",
       "      <td>0</td>\n",
       "      <td>7.7500</td>\n",
       "    </tr>\n",
       "  </tbody>\n",
       "</table>\n",
       "<p>891 rows × 7 columns</p>\n",
       "</div>"
      ],
      "text/plain": [
       "     Survived  Pclass Gender   Age  SibSp  Parch     Fare\n",
       "0           0       3      0  22.0      1      0   7.2500\n",
       "1           1       1      1  38.0      1      0  71.2833\n",
       "2           1       3      1  26.0      0      0   7.9250\n",
       "3           1       1      1  35.0      1      0  53.1000\n",
       "4           0       3      0  35.0      0      0   8.0500\n",
       "..        ...     ...    ...   ...    ...    ...      ...\n",
       "886         0       2      0  27.0      0      0  13.0000\n",
       "887         1       1      1  19.0      0      0  30.0000\n",
       "888         0       3      1   NaN      1      2  23.4500\n",
       "889         1       1      0  26.0      0      0  30.0000\n",
       "890         0       3      0  32.0      0      0   7.7500\n",
       "\n",
       "[891 rows x 7 columns]"
      ]
     },
     "execution_count": 11,
     "metadata": {},
     "output_type": "execute_result"
    }
   ],
   "source": [
    "datos = df.where(~df.isin(['male']),0)\n",
    "datos = datos.where(~datos.isin(['female']),1)\n",
    "datos"
   ]
  },
  {
   "cell_type": "markdown",
   "metadata": {},
   "source": [
    "- Imputación de datos faltantes\n",
    "\n",
    "Método utilizado media"
   ]
  },
  {
   "cell_type": "code",
   "execution_count": 12,
   "metadata": {},
   "outputs": [
    {
     "data": {
      "text/plain": [
       "Survived      0\n",
       "Pclass        0\n",
       "Gender        0\n",
       "Age         177\n",
       "SibSp         0\n",
       "Parch         0\n",
       "Fare          0\n",
       "dtype: int64"
      ]
     },
     "execution_count": 12,
     "metadata": {},
     "output_type": "execute_result"
    }
   ],
   "source": [
    "#Revisar datos nulos \n",
    "datos.isnull().sum()"
   ]
  },
  {
   "cell_type": "code",
   "execution_count": 13,
   "metadata": {},
   "outputs": [
    {
     "data": {
      "image/png": "[encoded data removed]",
      "text/plain": [
       "<Figure size 864x288 with 2 Axes>"
      ]
     },
     "metadata": {
      "needs_background": "light"
     },
     "output_type": "display_data"
    }
   ],
   "source": [
    "#Graficar antes de la imputación por media\n",
    "fig, axes = plt.subplots(1,2,figsize=(12,4))\n",
    "plt.ylabel(\"Frecuencia\")\n",
    "plt.xlabel(\"Age\")\n",
    "datosAI = datos['Age'].dropna()\n",
    "axes[0].hist(datosAI,bins=20)\n",
    "axes[1].boxplot(datosAI)\n",
    "axes[1].grid(True)\n",
    "plt.show()"
   ]
  },
  {
   "cell_type": "code",
   "execution_count": 14,
   "metadata": {},
   "outputs": [],
   "source": [
    "#Imputación simple por media\n",
    "x = datos['Age'].mean()\n",
    "datos = datos.fillna(x)"
   ]
  },
  {
   "cell_type": "code",
   "execution_count": 15,
   "metadata": {},
   "outputs": [
    {
     "data": {
      "image/png": "[encoded data removed]",
      "text/plain": [
       "<Figure size 864x288 with 2 Axes>"
      ]
     },
     "metadata": {
      "needs_background": "light"
     },
     "output_type": "display_data"
    }
   ],
   "source": [
    "#Graficar después de la imputación por media\n",
    "fig, axes = plt.subplots(1,2,figsize=(12,4))\n",
    "plt.ylabel(\"Frecuencia\")\n",
    "plt.xlabel(\"Age\")\n",
    "axes[0].hist(datos['Age'],bins=20)\n",
    "axes[1].boxplot(datos['Age'])\n",
    "axes[1].grid(True)\n",
    "plt.show()"
   ]
  },
  {
   "cell_type": "code",
   "execution_count": 16,
   "metadata": {},
   "outputs": [
    {
     "data": {
      "text/plain": [
       "Survived    0\n",
       "Pclass      0\n",
       "Gender      0\n",
       "Age         0\n",
       "SibSp       0\n",
       "Parch       0\n",
       "Fare        0\n",
       "dtype: int64"
      ]
     },
     "execution_count": 16,
     "metadata": {},
     "output_type": "execute_result"
    }
   ],
   "source": [
    "#Se observa si aún hay datos nulos\n",
    "datos.isnull().sum()"
   ]
  },
  {
   "cell_type": "markdown",
   "metadata": {},
   "source": [
    " - Normalización \n",
    " \n",
    " Min - max normalization"
   ]
  },
  {
   "cell_type": "code",
   "execution_count": 17,
   "metadata": {},
   "outputs": [],
   "source": [
    "#Guardar los valores máximo y mínimo y rango de cada atributo\n",
    "maxDatos = []\n",
    "minDatos = []\n",
    "rangoDatos = []\n",
    "maxNorm = 1\n",
    "minNorm = 0\n",
    "rangoNorm = maxNorm - minNorm\n",
    "\n",
    "for i in range (0,datos.columns.size):  \n",
    "    maxDatos.append(datos.iloc[:,i].max())\n",
    "    minDatos.append(datos.iloc[:,i].min())\n",
    "    rangoDatos.append(maxDatos[i] - minDatos[i])"
   ]
  },
  {
   "cell_type": "code",
   "execution_count": 19,
   "metadata": {},
   "outputs": [
    {
     "data": {
      "text/html": [
       "<div>\n",
       "<style scoped>\n",
       "    .dataframe tbody tr th:only-of-type {\n",
       "        vertical-align: middle;\n",
       "    }\n",
       "\n",
       "    .dataframe tbody tr th {\n",
       "        vertical-align: top;\n",
       "    }\n",
       "\n",
       "    .dataframe thead th {\n",
       "        text-align: right;\n",
       "    }\n",
       "</style>\n",
       "<table border=\"1\" class=\"dataframe\">\n",
       "  <thead>\n",
       "    <tr style=\"text-align: right;\">\n",
       "      <th></th>\n",
       "      <th>Survived</th>\n",
       "      <th>Pclass</th>\n",
       "      <th>Gender</th>\n",
       "      <th>Age</th>\n",
       "      <th>SibSp</th>\n",
       "      <th>Parch</th>\n",
       "      <th>Fare</th>\n",
       "    </tr>\n",
       "  </thead>\n",
       "  <tbody>\n",
       "  </tbody>\n",
       "</table>\n",
       "</div>"
      ],
      "text/plain": [
       "Empty DataFrame\n",
       "Columns: [Survived, Pclass, Gender, Age, SibSp, Parch, Fare]\n",
       "Index: []"
      ]
     },
     "execution_count": 19,
     "metadata": {},
     "output_type": "execute_result"
    }
   ],
   "source": [
    "nombres =  datos.columns.values.tolist()\n",
    "datosNorm = pd.DataFrame(columns=nombres)\n",
    "datosNorm"
   ]
  },
  {
   "cell_type": "code",
   "execution_count": 20,
   "metadata": {},
   "outputs": [],
   "source": [
    "for j in range (len(datos.columns)):\n",
    "    varNorm = []\n",
    "    #Se selecciona uno de los atributos\n",
    "    var = datos.iloc[:,j] \n",
    "    for i in range (len(datos)):\n",
    "       # Se obtiene el valor normalizado \n",
    "        D = var[i] - minDatos[j] \n",
    "        Dpet = D/rangoDatos[j]\n",
    "        dNorm = rangoNorm*Dpet\n",
    "        varNorm.append(minNorm+dNorm)\n",
    "    datosNorm.iloc[:,j] = varNorm"
   ]
  },
  {
   "cell_type": "code",
   "execution_count": 21,
   "metadata": {},
   "outputs": [
    {
     "data": {
      "text/html": [
       "<div>\n",
       "<style scoped>\n",
       "    .dataframe tbody tr th:only-of-type {\n",
       "        vertical-align: middle;\n",
       "    }\n",
       "\n",
       "    .dataframe tbody tr th {\n",
       "        vertical-align: top;\n",
       "    }\n",
       "\n",
       "    .dataframe thead th {\n",
       "        text-align: right;\n",
       "    }\n",
       "</style>\n",
       "<table border=\"1\" class=\"dataframe\">\n",
       "  <thead>\n",
       "    <tr style=\"text-align: right;\">\n",
       "      <th></th>\n",
       "      <th>Survived</th>\n",
       "      <th>Pclass</th>\n",
       "      <th>Gender</th>\n",
       "      <th>Age</th>\n",
       "      <th>SibSp</th>\n",
       "      <th>Parch</th>\n",
       "      <th>Fare</th>\n",
       "    </tr>\n",
       "  </thead>\n",
       "  <tbody>\n",
       "    <tr>\n",
       "      <th>0</th>\n",
       "      <td>0.0</td>\n",
       "      <td>1.0</td>\n",
       "      <td>0.0</td>\n",
       "      <td>0.271174</td>\n",
       "      <td>0.125</td>\n",
       "      <td>0.000000</td>\n",
       "      <td>0.014151</td>\n",
       "    </tr>\n",
       "    <tr>\n",
       "      <th>1</th>\n",
       "      <td>1.0</td>\n",
       "      <td>0.0</td>\n",
       "      <td>1.0</td>\n",
       "      <td>0.472229</td>\n",
       "      <td>0.125</td>\n",
       "      <td>0.000000</td>\n",
       "      <td>0.139136</td>\n",
       "    </tr>\n",
       "    <tr>\n",
       "      <th>2</th>\n",
       "      <td>1.0</td>\n",
       "      <td>1.0</td>\n",
       "      <td>1.0</td>\n",
       "      <td>0.321438</td>\n",
       "      <td>0.000</td>\n",
       "      <td>0.000000</td>\n",
       "      <td>0.015469</td>\n",
       "    </tr>\n",
       "    <tr>\n",
       "      <th>3</th>\n",
       "      <td>1.0</td>\n",
       "      <td>0.0</td>\n",
       "      <td>1.0</td>\n",
       "      <td>0.434531</td>\n",
       "      <td>0.125</td>\n",
       "      <td>0.000000</td>\n",
       "      <td>0.103644</td>\n",
       "    </tr>\n",
       "    <tr>\n",
       "      <th>4</th>\n",
       "      <td>0.0</td>\n",
       "      <td>1.0</td>\n",
       "      <td>0.0</td>\n",
       "      <td>0.434531</td>\n",
       "      <td>0.000</td>\n",
       "      <td>0.000000</td>\n",
       "      <td>0.015713</td>\n",
       "    </tr>\n",
       "    <tr>\n",
       "      <th>...</th>\n",
       "      <td>...</td>\n",
       "      <td>...</td>\n",
       "      <td>...</td>\n",
       "      <td>...</td>\n",
       "      <td>...</td>\n",
       "      <td>...</td>\n",
       "      <td>...</td>\n",
       "    </tr>\n",
       "    <tr>\n",
       "      <th>886</th>\n",
       "      <td>0.0</td>\n",
       "      <td>0.5</td>\n",
       "      <td>0.0</td>\n",
       "      <td>0.334004</td>\n",
       "      <td>0.000</td>\n",
       "      <td>0.000000</td>\n",
       "      <td>0.025374</td>\n",
       "    </tr>\n",
       "    <tr>\n",
       "      <th>887</th>\n",
       "      <td>1.0</td>\n",
       "      <td>0.0</td>\n",
       "      <td>1.0</td>\n",
       "      <td>0.233476</td>\n",
       "      <td>0.000</td>\n",
       "      <td>0.000000</td>\n",
       "      <td>0.058556</td>\n",
       "    </tr>\n",
       "    <tr>\n",
       "      <th>888</th>\n",
       "      <td>0.0</td>\n",
       "      <td>1.0</td>\n",
       "      <td>1.0</td>\n",
       "      <td>0.367921</td>\n",
       "      <td>0.125</td>\n",
       "      <td>0.333333</td>\n",
       "      <td>0.045771</td>\n",
       "    </tr>\n",
       "    <tr>\n",
       "      <th>889</th>\n",
       "      <td>1.0</td>\n",
       "      <td>0.0</td>\n",
       "      <td>0.0</td>\n",
       "      <td>0.321438</td>\n",
       "      <td>0.000</td>\n",
       "      <td>0.000000</td>\n",
       "      <td>0.058556</td>\n",
       "    </tr>\n",
       "    <tr>\n",
       "      <th>890</th>\n",
       "      <td>0.0</td>\n",
       "      <td>1.0</td>\n",
       "      <td>0.0</td>\n",
       "      <td>0.396833</td>\n",
       "      <td>0.000</td>\n",
       "      <td>0.000000</td>\n",
       "      <td>0.015127</td>\n",
       "    </tr>\n",
       "  </tbody>\n",
       "</table>\n",
       "<p>891 rows × 7 columns</p>\n",
       "</div>"
      ],
      "text/plain": [
       "     Survived  Pclass  Gender       Age  SibSp     Parch      Fare\n",
       "0         0.0     1.0     0.0  0.271174  0.125  0.000000  0.014151\n",
       "1         1.0     0.0     1.0  0.472229  0.125  0.000000  0.139136\n",
       "2         1.0     1.0     1.0  0.321438  0.000  0.000000  0.015469\n",
       "3         1.0     0.0     1.0  0.434531  0.125  0.000000  0.103644\n",
       "4         0.0     1.0     0.0  0.434531  0.000  0.000000  0.015713\n",
       "..        ...     ...     ...       ...    ...       ...       ...\n",
       "886       0.0     0.5     0.0  0.334004  0.000  0.000000  0.025374\n",
       "887       1.0     0.0     1.0  0.233476  0.000  0.000000  0.058556\n",
       "888       0.0     1.0     1.0  0.367921  0.125  0.333333  0.045771\n",
       "889       1.0     0.0     0.0  0.321438  0.000  0.000000  0.058556\n",
       "890       0.0     1.0     0.0  0.396833  0.000  0.000000  0.015127\n",
       "\n",
       "[891 rows x 7 columns]"
      ]
     },
     "execution_count": 21,
     "metadata": {},
     "output_type": "execute_result"
    }
   ],
   "source": [
    "datos =  datosNorm\n",
    "datos"
   ]
  },
  {
   "cell_type": "markdown",
   "metadata": {},
   "source": [
    "### PCA  "
   ]
  },
  {
   "cell_type": "markdown",
   "metadata": {},
   "source": [
    "Definición de las funciones"
   ]
  },
  {
   "cell_type": "code",
   "execution_count": 13,
   "metadata": {},
   "outputs": [],
   "source": [
    "#Se define la covarianza y matriz de covarianza\n",
    "def covarianza(X,Y):\n",
    "    x_mean = X.mean()\n",
    "    y_mean = Y.mean()\n",
    "    n = len(X)\n",
    "    cov = (((X-x_mean)*(Y-y_mean)).sum())/(n-1)\n",
    "    return cov"
   ]
  },
  {
   "cell_type": "code",
   "execution_count": 14,
   "metadata": {},
   "outputs": [],
   "source": [
    "def matriz_cov(data):\n",
    "    atributos = data.columns \n",
    "    n = len(atributos)\n",
    "    m = np.zeros((n,n))\n",
    "    for i in range(n):\n",
    "        for j in range(n):\n",
    "            X = data[atributos[i]]\n",
    "            Y = data[atributos[j]]\n",
    "            m[i][j] = covarianza(X,Y)\n",
    "    return m"
   ]
  },
  {
   "cell_type": "markdown",
   "metadata": {},
   "source": [
    "Encontrar la matriz de covarianza y sus respectivos eigenvectores y eigenvalores "
   ]
  },
  {
   "cell_type": "code",
   "execution_count": 15,
   "metadata": {},
   "outputs": [
    {
     "data": {
      "text/html": [
       "<div>\n",
       "<style scoped>\n",
       "    .dataframe tbody tr th:only-of-type {\n",
       "        vertical-align: middle;\n",
       "    }\n",
       "\n",
       "    .dataframe tbody tr th {\n",
       "        vertical-align: top;\n",
       "    }\n",
       "\n",
       "    .dataframe thead th {\n",
       "        text-align: right;\n",
       "    }\n",
       "</style>\n",
       "<table border=\"1\" class=\"dataframe\">\n",
       "  <thead>\n",
       "    <tr style=\"text-align: right;\">\n",
       "      <th></th>\n",
       "      <th>Pclass</th>\n",
       "      <th>Gender</th>\n",
       "      <th>Age</th>\n",
       "      <th>SibSp</th>\n",
       "      <th>Parch</th>\n",
       "      <th>Fare</th>\n",
       "    </tr>\n",
       "  </thead>\n",
       "  <tbody>\n",
       "    <tr>\n",
       "      <th>0</th>\n",
       "      <td>0.345679</td>\n",
       "      <td>-0.352413</td>\n",
       "      <td>-9.674689e-02</td>\n",
       "      <td>0.059624</td>\n",
       "      <td>-0.063599</td>\n",
       "      <td>-0.048707</td>\n",
       "    </tr>\n",
       "    <tr>\n",
       "      <th>1</th>\n",
       "      <td>-0.654321</td>\n",
       "      <td>0.647587</td>\n",
       "      <td>1.043086e-01</td>\n",
       "      <td>0.059624</td>\n",
       "      <td>-0.063599</td>\n",
       "      <td>0.076277</td>\n",
       "    </tr>\n",
       "    <tr>\n",
       "      <th>2</th>\n",
       "      <td>0.345679</td>\n",
       "      <td>0.647587</td>\n",
       "      <td>-4.648301e-02</td>\n",
       "      <td>-0.065376</td>\n",
       "      <td>-0.063599</td>\n",
       "      <td>-0.047390</td>\n",
       "    </tr>\n",
       "    <tr>\n",
       "      <th>3</th>\n",
       "      <td>-0.654321</td>\n",
       "      <td>0.647587</td>\n",
       "      <td>6.661074e-02</td>\n",
       "      <td>0.059624</td>\n",
       "      <td>-0.063599</td>\n",
       "      <td>0.040786</td>\n",
       "    </tr>\n",
       "    <tr>\n",
       "      <th>4</th>\n",
       "      <td>0.345679</td>\n",
       "      <td>-0.352413</td>\n",
       "      <td>6.661074e-02</td>\n",
       "      <td>-0.065376</td>\n",
       "      <td>-0.063599</td>\n",
       "      <td>-0.047146</td>\n",
       "    </tr>\n",
       "    <tr>\n",
       "      <th>...</th>\n",
       "      <td>...</td>\n",
       "      <td>...</td>\n",
       "      <td>...</td>\n",
       "      <td>...</td>\n",
       "      <td>...</td>\n",
       "      <td>...</td>\n",
       "    </tr>\n",
       "    <tr>\n",
       "      <th>886</th>\n",
       "      <td>-0.154321</td>\n",
       "      <td>-0.352413</td>\n",
       "      <td>-3.391704e-02</td>\n",
       "      <td>-0.065376</td>\n",
       "      <td>-0.063599</td>\n",
       "      <td>-0.037484</td>\n",
       "    </tr>\n",
       "    <tr>\n",
       "      <th>887</th>\n",
       "      <td>-0.654321</td>\n",
       "      <td>0.647587</td>\n",
       "      <td>-1.344448e-01</td>\n",
       "      <td>-0.065376</td>\n",
       "      <td>-0.063599</td>\n",
       "      <td>-0.004302</td>\n",
       "    </tr>\n",
       "    <tr>\n",
       "      <th>888</th>\n",
       "      <td>0.345679</td>\n",
       "      <td>0.647587</td>\n",
       "      <td>1.110223e-16</td>\n",
       "      <td>0.059624</td>\n",
       "      <td>0.269734</td>\n",
       "      <td>-0.017087</td>\n",
       "    </tr>\n",
       "    <tr>\n",
       "      <th>889</th>\n",
       "      <td>-0.654321</td>\n",
       "      <td>-0.352413</td>\n",
       "      <td>-4.648301e-02</td>\n",
       "      <td>-0.065376</td>\n",
       "      <td>-0.063599</td>\n",
       "      <td>-0.004302</td>\n",
       "    </tr>\n",
       "    <tr>\n",
       "      <th>890</th>\n",
       "      <td>0.345679</td>\n",
       "      <td>-0.352413</td>\n",
       "      <td>2.891282e-02</td>\n",
       "      <td>-0.065376</td>\n",
       "      <td>-0.063599</td>\n",
       "      <td>-0.047731</td>\n",
       "    </tr>\n",
       "  </tbody>\n",
       "</table>\n",
       "<p>891 rows × 6 columns</p>\n",
       "</div>"
      ],
      "text/plain": [
       "       Pclass    Gender           Age     SibSp     Parch      Fare\n",
       "0    0.345679 -0.352413 -9.674689e-02  0.059624 -0.063599 -0.048707\n",
       "1   -0.654321  0.647587  1.043086e-01  0.059624 -0.063599  0.076277\n",
       "2    0.345679  0.647587 -4.648301e-02 -0.065376 -0.063599 -0.047390\n",
       "3   -0.654321  0.647587  6.661074e-02  0.059624 -0.063599  0.040786\n",
       "4    0.345679 -0.352413  6.661074e-02 -0.065376 -0.063599 -0.047146\n",
       "..        ...       ...           ...       ...       ...       ...\n",
       "886 -0.154321 -0.352413 -3.391704e-02 -0.065376 -0.063599 -0.037484\n",
       "887 -0.654321  0.647587 -1.344448e-01 -0.065376 -0.063599 -0.004302\n",
       "888  0.345679  0.647587  1.110223e-16  0.059624  0.269734 -0.017087\n",
       "889 -0.654321 -0.352413 -4.648301e-02 -0.065376 -0.063599 -0.004302\n",
       "890  0.345679 -0.352413  2.891282e-02 -0.065376 -0.063599 -0.047731\n",
       "\n",
       "[891 rows x 6 columns]"
      ]
     },
     "execution_count": 15,
     "metadata": {},
     "output_type": "execute_result"
    }
   ],
   "source": [
    "#Eliminando el atributo de decisión \n",
    "datos1 = datos.drop(['Survived'],axis=1)\n",
    "#Ajustar los datos restando la media a cada atributo\n",
    "datosAjustados = pd.DataFrame(columns=datos1.columns,index=range(len(datos1)))\n",
    "for i in datosAjustados.columns:\n",
    "    datosAjustados[i] = datos1[i] - datos1[i].mean()    \n",
    "datosAjustados"
   ]
  },
  {
   "cell_type": "code",
   "execution_count": 16,
   "metadata": {},
   "outputs": [
    {
     "data": {
      "text/plain": [
       "array([[ 0.17475378, -0.02635594, -0.0226304 ,  0.00478742,  0.00103574,\n",
       "        -0.02228079],\n",
       "       [-0.02635594,  0.22847451, -0.006572  ,  0.00755274,  0.01576397,\n",
       "         0.00845344],\n",
       "       [-0.0226304 , -0.006572  ,  0.02669399, -0.00523898, -0.00393312,\n",
       "         0.00145108],\n",
       "       [ 0.00478742,  0.00755274, -0.00523898,  0.01900067,  0.00768205,\n",
       "         0.00213455],\n",
       "       [ 0.00103574,  0.01576397, -0.00393312,  0.00768205,  0.01804801,\n",
       "         0.00281754],\n",
       "       [-0.02228079,  0.00845344,  0.00145108,  0.00213455,  0.00281754,\n",
       "         0.00940805]])"
      ]
     },
     "execution_count": 16,
     "metadata": {},
     "output_type": "execute_result"
    }
   ],
   "source": [
    "m = matriz_cov(datosAjustados)\n",
    "m"
   ]
  },
  {
   "cell_type": "code",
   "execution_count": 17,
   "metadata": {},
   "outputs": [],
   "source": [
    "L,V =  np.linalg.eig(m)"
   ]
  },
  {
   "cell_type": "code",
   "execution_count": 18,
   "metadata": {},
   "outputs": [
    {
     "data": {
      "text/plain": [
       "array([0.24149631, 0.17052017, 0.02933831, 0.01877799, 0.00564765,\n",
       "       0.01059858])"
      ]
     },
     "execution_count": 18,
     "metadata": {},
     "output_type": "execute_result"
    }
   ],
   "source": [
    "#Eigenvalores\n",
    "L"
   ]
  },
  {
   "cell_type": "code",
   "execution_count": 19,
   "metadata": {},
   "outputs": [
    {
     "data": {
      "text/plain": [
       "array([50.69415454, 35.79506432,  6.15860724,  3.94181685,  1.18553662,\n",
       "        2.22482043])"
      ]
     },
     "execution_count": 19,
     "metadata": {},
     "output_type": "execute_result"
    }
   ],
   "source": [
    "#Obtener el porcentaje de covarianza de cada uno de los atributos\n",
    "total = L.sum()\n",
    "p = (L/total)*100\n",
    "p"
   ]
  },
  {
   "cell_type": "markdown",
   "metadata": {},
   "source": [
    "El algoritmo PCA demuestra que los únicos atributos que aportan mayor información son  Pclass, Gender y Age por lo que son los que serán usados para la clasificación de los datos, dando una ganancia mayor al 90%"
   ]
  },
  {
   "cell_type": "markdown",
   "metadata": {},
   "source": [
    "###  Datos de entrenamiento y prueba  "
   ]
  },
  {
   "cell_type": "code",
   "execution_count": 20,
   "metadata": {},
   "outputs": [],
   "source": [
    "#Separación de los datos 80 / 20 para entrenamiento y validación \n",
    "o = len(datos.columns)\n",
    "n = len(datos)\n",
    "p = int((80 * n)/100) #obtener una muestra del 80% de los datos de manera aleatoria\n",
    "m = np.arange(n) \n",
    "train = np.random.choice(m,p,replace = False) \n",
    "\n",
    "test = []\n",
    "#Todos aquellos indices que no estan en train se utilizarán para testing\n",
    "for i in m: \n",
    "    if i not in train:\n",
    "        test.append(i)\n",
    "\n",
    "#Se seleccionan los datos de entrenamiento\n",
    "X_train = datos.iloc[train,[1,2,3,4,5,6]]\n",
    "true_train = datos.iloc[train,0]\n",
    "\n",
    "#Se seleccionan los datos de prueba\n",
    "X_test = datos.iloc[test,[1,2,3,4,5,6]]\n",
    "true_test = datos.iloc[test,0]"
   ]
  },
  {
   "cell_type": "markdown",
   "metadata": {},
   "source": [
    "#### Matriz de confusión y métricas de evaluación"
   ]
  },
  {
   "cell_type": "code",
   "execution_count": 21,
   "metadata": {},
   "outputs": [],
   "source": [
    "#Función que obtiene las métricas del algoritmo para su validación\n",
    "def metricas(claseP,true_train):\n",
    "    TP = 0\n",
    "    FP = 0\n",
    "    TN = 0\n",
    "    FN = 0\n",
    "    #Determinar los TP,TN,FP y FN para la matriz de confusión del entrenamiento \n",
    "    for i in range(len(claseP)):\n",
    "        if (true_train[i] == claseP[i]) and true_train[i] == 1:\n",
    "            TP += 1\n",
    "        elif (true_train[i] == claseP[i]) and true_train[i] == 0:\n",
    "            TN += 1\n",
    "        elif (true_train[i] != claseP[i]) and true_train[i] == 0:\n",
    "            FP += 1\n",
    "        else:\n",
    "            FN += 1\n",
    "            \n",
    "    accuracy = ((TP+TN)/(TP+TN+FP+FN))\n",
    "   \n",
    "    if TP + FP != 0:\n",
    "        precision = TP/(TP+FP)\n",
    "    else:\n",
    "        precision = 0\n",
    "    if TP + FN != 0:\n",
    "        sensitividad = TP/(TP+FN)\n",
    "    else:\n",
    "        sensitividad = 0\n",
    "    if precision != 0 and sensitividad != 0:\n",
    "        f1 = (2*TP)/(2*TP+FP+FN)\n",
    "    else:\n",
    "        f1 = 0\n",
    "    return [accuracy, precision, sensitividad, f1]"
   ]
  },
  {
   "cell_type": "code",
   "execution_count": 22,
   "metadata": {},
   "outputs": [],
   "source": [
    "#entrenamiento del modelo\n",
    "def knn(data,labels, k):\n",
    "    predict = []\n",
    "    for i in range(0,len(data)):\n",
    "        # Inicializacion de las distancias.\n",
    "        coleccion_distancias = []\n",
    "        data = np.array(data)\n",
    "        for index ,example in enumerate(data):\n",
    "            distance = np.linalg.norm(example - data[i]) #Obtener distancia euclidiana entre dos puntos de n dimensiones\n",
    "            coleccion_distancias.append((distance, index))\n",
    "        coleccion_distancias.pop(i)\n",
    "        coleccion_ordenada = sorted(coleccion_distancias)\n",
    "        # Se toman las primeras k muestras del arreglo ordenado.\n",
    "        k_muestras = coleccion_ordenada[:k] #para k = 1\n",
    "        # Se obtiene el valor de los k vecinos mas cercanos \n",
    "        indices = []\n",
    "        for i in (k_muestras):\n",
    "            indices.append(i[1])\n",
    "        k_muestras_labels = labels.iloc[indices]\n",
    "        predict.append(Counter(k_muestras_labels).most_common(1)[0][0])\n",
    "    return predict\n"
   ]
  },
  {
   "cell_type": "markdown",
   "metadata": {},
   "source": [
    "### Clasificación de sobrevivientes utilizando todos los atributos"
   ]
  },
  {
   "cell_type": "code",
   "execution_count": 23,
   "metadata": {},
   "outputs": [],
   "source": [
    "error_rate = []\n",
    "\n",
    "n = int(len(X_train)/20)\n",
    "for k in range(2,n):\n",
    "    pred_i = knn(X_train.values.tolist(),true_train,k) \n",
    "    error_rate.append(np.mean(pred_i != true_train))"
   ]
  },
  {
   "cell_type": "code",
   "execution_count": 24,
   "metadata": {},
   "outputs": [
    {
     "data": {
      "text/plain": [
       "Text(0, 0.5, 'Error Rate')"
      ]
     },
     "execution_count": 24,
     "metadata": {},
     "output_type": "execute_result"
    },
    {
     "data": {
      "image/png": "[encoded data removed]",
      "text/plain": [
       "<Figure size 720x432 with 1 Axes>"
      ]
     },
     "metadata": {
      "needs_background": "light"
     },
     "output_type": "display_data"
    }
   ],
   "source": [
    "plt.figure(figsize=(10,6))\n",
    "plt.plot(range(2,n),error_rate,color='blue', linestyle='dashed', marker='o',\n",
    "markerfacecolor='red', markersize=10)\n",
    "plt.title('Error Rate vs. K Value')\n",
    "plt.xlabel('K')\n",
    "plt.ylabel('Error Rate')"
   ]
  },
  {
   "cell_type": "markdown",
   "metadata": {},
   "source": [
    "##### Entrenamiento "
   ]
  },
  {
   "cell_type": "code",
   "execution_count": 25,
   "metadata": {},
   "outputs": [
    {
     "name": "stdout",
     "output_type": "stream",
     "text": [
      "Tiempo de entrenamiento:8.092412948608398\n"
     ]
    }
   ],
   "source": [
    "#Se toma el tiempo de entrenamiento de KNN\n",
    "inicio = time.time()\n",
    "train_pred = knn(X_train.values.tolist(),true_train,9)\n",
    "final = time.time()\n",
    "print('Tiempo de entrenamiento:' + str(final-inicio))"
   ]
  },
  {
   "cell_type": "code",
   "execution_count": 26,
   "metadata": {},
   "outputs": [
    {
     "name": "stdout",
     "output_type": "stream",
     "text": [
      "Exactitud: 0.7837078651685393\n",
      "Precisión: 0.6423357664233577\n",
      "Sensitividad: 0.7586206896551724\n",
      "f1 Score: 0.6956521739130435\n"
     ]
    }
   ],
   "source": [
    "#Se calculan las métricas de error\n",
    "accuracy, precision, sensitividad, f1 = metricas(train_pred,np.array(true_train))\n",
    "\n",
    "print('Exactitud: ' + str(accuracy))\n",
    "print('Precisión: ' + str(precision))\n",
    "print('Sensitividad: ' + str(sensitividad))\n",
    "print('f1 Score: ' + str(f1))"
   ]
  },
  {
   "cell_type": "markdown",
   "metadata": {},
   "source": [
    "#### Prueba del algoritmo "
   ]
  },
  {
   "cell_type": "code",
   "execution_count": 27,
   "metadata": {},
   "outputs": [],
   "source": [
    "y_pred= knn(X_test.values.tolist(),true_test,9)"
   ]
  },
  {
   "cell_type": "code",
   "execution_count": 28,
   "metadata": {},
   "outputs": [
    {
     "name": "stdout",
     "output_type": "stream",
     "text": [
      "Exactitud: 0.8268156424581006\n",
      "Precisión: 0.6911764705882353\n",
      "Sensitividad: 0.8245614035087719\n",
      "f1 Score: 0.752\n"
     ]
    }
   ],
   "source": [
    "accuracy, precision, sensitividad, f1 = metricas(y_pred,np.array(true_test))\n",
    "\n",
    "print('Exactitud: ' + str(accuracy))\n",
    "print('Precisión: ' + str(precision))\n",
    "print('Sensitividad: ' + str(sensitividad))\n",
    "print('f1 Score: ' + str(f1))"
   ]
  },
  {
   "cell_type": "markdown",
   "metadata": {},
   "source": [
    "### Clasificación de Survived utilizando sólo Pclass, Gender y Age "
   ]
  },
  {
   "cell_type": "code",
   "execution_count": 29,
   "metadata": {},
   "outputs": [],
   "source": [
    "error_rate = []\n",
    "\n",
    "n = int(len(X_train)/20)\n",
    "for k in range(2,n):\n",
    "    pred_i = knn(X_train.iloc[:,[0,1,2]].values.tolist(),true_train,k) #checar función\n",
    "    error_rate.append(np.mean(pred_i != true_train))"
   ]
  },
  {
   "cell_type": "code",
   "execution_count": 30,
   "metadata": {},
   "outputs": [
    {
     "data": {
      "text/plain": [
       "Text(0, 0.5, 'Error Rate')"
      ]
     },
     "execution_count": 30,
     "metadata": {},
     "output_type": "execute_result"
    },
    {
     "data": {
      "image/png": "[encoded data removed]",
      "text/plain": [
       "<Figure size 720x432 with 1 Axes>"
      ]
     },
     "metadata": {
      "needs_background": "light"
     },
     "output_type": "display_data"
    }
   ],
   "source": [
    "plt.figure(figsize=(10,6))\n",
    "plt.plot(range(2,n),error_rate,color='blue', linestyle='dashed', marker='o',\n",
    "markerfacecolor='red', markersize=10)\n",
    "plt.title('Error Rate vs. K Value')\n",
    "plt.xlabel('K')\n",
    "plt.ylabel('Error Rate')"
   ]
  },
  {
   "cell_type": "markdown",
   "metadata": {},
   "source": [
    "#### Entrenamiento"
   ]
  },
  {
   "cell_type": "code",
   "execution_count": 31,
   "metadata": {},
   "outputs": [
    {
     "name": "stdout",
     "output_type": "stream",
     "text": [
      "Tiempo de entrenamiento:5.917385101318359\n"
     ]
    }
   ],
   "source": [
    "x = X_train.iloc[:,[0,1,2]].values.tolist()\n",
    "inicio = time.time()\n",
    "train_pred = knn(x,true_train,8)\n",
    "final = time.time()\n",
    "print('Tiempo de entrenamiento:' + str(final-inicio))"
   ]
  },
  {
   "cell_type": "code",
   "execution_count": 32,
   "metadata": {},
   "outputs": [
    {
     "name": "stdout",
     "output_type": "stream",
     "text": [
      "Exactitud: 0.7893258426966292\n",
      "Precisión: 0.6094890510948905\n",
      "Sensitividad: 0.7952380952380952\n",
      "f1 Score: 0.6900826446280992\n"
     ]
    }
   ],
   "source": [
    "accuracy, precision, sensitividad, f1 = metricas(train_pred,np.array(true_train))\n",
    "\n",
    "print('Exactitud: ' + str(accuracy))\n",
    "print('Precisión: ' + str(precision))\n",
    "print('Sensitividad: ' + str(sensitividad))\n",
    "print('f1 Score: ' + str(f1))"
   ]
  },
  {
   "cell_type": "markdown",
   "metadata": {},
   "source": [
    "#### Testing "
   ]
  },
  {
   "cell_type": "code",
   "execution_count": 33,
   "metadata": {},
   "outputs": [],
   "source": [
    "y_pred2= knn(X_test.iloc[:,[0,1,2]],true_test,8)"
   ]
  },
  {
   "cell_type": "code",
   "execution_count": 34,
   "metadata": {},
   "outputs": [
    {
     "name": "stdout",
     "output_type": "stream",
     "text": [
      "Exactitud: 0.8324022346368715\n",
      "Precisión: 0.7058823529411765\n",
      "Sensitividad: 0.8275862068965517\n",
      "f1 Score: 0.7619047619047619\n"
     ]
    }
   ],
   "source": [
    "accuracy, precision, sensitividad, f1 = metricas(y_pred2,np.array(true_test))\n",
    "\n",
    "print('Exactitud: ' + str(accuracy))\n",
    "print('Precisión: ' + str(precision))\n",
    "print('Sensitividad: ' + str(sensitividad))\n",
    "print('f1 Score: ' + str(f1))"
   ]
  },
  {
   "cell_type": "code",
   "execution_count": null,
   "metadata": {},
   "outputs": [],
   "source": []
  },
  {
   "cell_type": "code",
   "execution_count": null,
   "metadata": {},
   "outputs": [],
   "source": []
  }
 ],
 "metadata": {
  "kernelspec": {
   "display_name": "Python 3 (ipykernel)",
   "language": "python",
   "name": "python3"
  },
  "language_info": {
   "codemirror_mode": {
    "name": "ipython",
    "version": 3
   },
   "file_extension": ".py",
   "mimetype": "text/x-python",
   "name": "python",
   "nbconvert_exporter": "python",
   "pygments_lexer": "ipython3",
   "version": "3.9.7"
  }
 },
 "nbformat": 4,
 "nbformat_minor": 4
}
