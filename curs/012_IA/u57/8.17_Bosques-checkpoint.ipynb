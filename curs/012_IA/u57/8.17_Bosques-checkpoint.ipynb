{
 "cells": [
  {
   "cell_type": "code",
   "execution_count": null,
   "id": "68c2dad7",
   "metadata": {},
   "outputs": [],
   "source": [
    "# Bosques Aleatorios\n",
    "#### 0.0.1 - 2021 - 01 - 01\n",
    "#### Dr. MArco Aceves \n",
    "#### rev en Jupyter Notebook\n",
    "#### Código como ejemplo como parte del libro:\n",
    "#### Inteligencia Artificial para Programadores con Prisa\n",
    "#### 8.18_Bosques.ipynb"
   ]
  },
  {
   "cell_type": "markdown",
   "id": "ee2cfffd",
   "metadata": {},
   "source": [
    "Como ya hemos visto, los bosques aleatorios son un algoritmo utilizado para problemas de clasificación y regresión. Este algoritmo crea subconjuntos de datos aleatorios a partir del conjunto de datos original y con cada uno de esos subconjuntos crea un árbol cuyos nodos selecciona de manera aleatoria también."
   ]
  },
  {
   "cell_type": "markdown",
   "id": "3c214d43",
   "metadata": {},
   "source": [
    "Para ejemplicar este algoritmo, haremos una clasificación de los pasajeros del Titanic, los clasificaremos en supervivientes y no supervivientes.\n",
    "\n",
    "Para la construcción del algoritmo usaremos la librería **scikit-learn (sklearn)**. Especificamente, la clase **RandomForestClassifier**. Esta clase trabaja únicamente con valores numéricos (*sklearn* también cuenta con una clase para realizar modelos de regresión que se llama *RandomForestRegressor*).\n",
    "\n",
    "Si no tenemos instalado **scikit-learn** podemos usar el siguiente comando:<br>\n",
    "pip install -U scikit-learn\n",
    "\n",
    "Ahora procedemos a realizar el código."
   ]
  },
  {
   "cell_type": "markdown",
   "id": "1e5860d9",
   "metadata": {},
   "source": [
    "Importamos las librerías."
   ]
  },
  {
   "cell_type": "code",
   "execution_count": 1,
   "id": "d4a34bfe",
   "metadata": {},
   "outputs": [],
   "source": [
    "import numpy as np\n",
    "import pandas as pd\n",
    "from sklearn.ensemble import RandomForestClassifier"
   ]
  },
  {
   "cell_type": "markdown",
   "id": "8d467186",
   "metadata": {},
   "source": [
    "Abrimos el archivo que contiene los datos del Titanic."
   ]
  },
  {
   "cell_type": "code",
   "execution_count": 2,
   "id": "d056cac9",
   "metadata": {
    "scrolled": true
   },
   "outputs": [
    {
     "data": {
      "text/html": [
       "<div>\n",
       "<style scoped>\n",
       "    .dataframe tbody tr th:only-of-type {\n",
       "        vertical-align: middle;\n",
       "    }\n",
       "\n",
       "    .dataframe tbody tr th {\n",
       "        vertical-align: top;\n",
       "    }\n",
       "\n",
       "    .dataframe thead th {\n",
       "        text-align: right;\n",
       "    }\n",
       "</style>\n",
       "<table border=\"1\" class=\"dataframe\">\n",
       "  <thead>\n",
       "    <tr style=\"text-align: right;\">\n",
       "      <th></th>\n",
       "      <th>PassengerId</th>\n",
       "      <th>Survived</th>\n",
       "      <th>Pclass</th>\n",
       "      <th>Name</th>\n",
       "      <th>Sex</th>\n",
       "      <th>Age</th>\n",
       "      <th>SibSp</th>\n",
       "      <th>Parch</th>\n",
       "      <th>Ticket</th>\n",
       "      <th>Fare</th>\n",
       "      <th>Cabin</th>\n",
       "      <th>Embarked</th>\n",
       "    </tr>\n",
       "  </thead>\n",
       "  <tbody>\n",
       "    <tr>\n",
       "      <th>0</th>\n",
       "      <td>1</td>\n",
       "      <td>0</td>\n",
       "      <td>3</td>\n",
       "      <td>Braund, Mr. Owen Harris</td>\n",
       "      <td>male</td>\n",
       "      <td>22.0</td>\n",
       "      <td>1</td>\n",
       "      <td>0</td>\n",
       "      <td>A/5 21171</td>\n",
       "      <td>7.2500</td>\n",
       "      <td>NaN</td>\n",
       "      <td>S</td>\n",
       "    </tr>\n",
       "    <tr>\n",
       "      <th>1</th>\n",
       "      <td>2</td>\n",
       "      <td>1</td>\n",
       "      <td>1</td>\n",
       "      <td>Cumings, Mrs. John Bradley (Florence Briggs Th...</td>\n",
       "      <td>female</td>\n",
       "      <td>38.0</td>\n",
       "      <td>1</td>\n",
       "      <td>0</td>\n",
       "      <td>PC 17599</td>\n",
       "      <td>71.2833</td>\n",
       "      <td>C85</td>\n",
       "      <td>C</td>\n",
       "    </tr>\n",
       "    <tr>\n",
       "      <th>2</th>\n",
       "      <td>3</td>\n",
       "      <td>1</td>\n",
       "      <td>3</td>\n",
       "      <td>Heikkinen, Miss. Laina</td>\n",
       "      <td>female</td>\n",
       "      <td>26.0</td>\n",
       "      <td>0</td>\n",
       "      <td>0</td>\n",
       "      <td>STON/O2. 3101282</td>\n",
       "      <td>7.9250</td>\n",
       "      <td>NaN</td>\n",
       "      <td>S</td>\n",
       "    </tr>\n",
       "    <tr>\n",
       "      <th>3</th>\n",
       "      <td>4</td>\n",
       "      <td>1</td>\n",
       "      <td>1</td>\n",
       "      <td>Futrelle, Mrs. Jacques Heath (Lily May Peel)</td>\n",
       "      <td>female</td>\n",
       "      <td>35.0</td>\n",
       "      <td>1</td>\n",
       "      <td>0</td>\n",
       "      <td>113803</td>\n",
       "      <td>53.1000</td>\n",
       "      <td>C123</td>\n",
       "      <td>S</td>\n",
       "    </tr>\n",
       "    <tr>\n",
       "      <th>4</th>\n",
       "      <td>5</td>\n",
       "      <td>0</td>\n",
       "      <td>3</td>\n",
       "      <td>Allen, Mr. William Henry</td>\n",
       "      <td>male</td>\n",
       "      <td>35.0</td>\n",
       "      <td>0</td>\n",
       "      <td>0</td>\n",
       "      <td>373450</td>\n",
       "      <td>8.0500</td>\n",
       "      <td>NaN</td>\n",
       "      <td>S</td>\n",
       "    </tr>\n",
       "  </tbody>\n",
       "</table>\n",
       "</div>"
      ],
      "text/plain": [
       "   PassengerId  Survived  Pclass  \\\n",
       "0            1         0       3   \n",
       "1            2         1       1   \n",
       "2            3         1       3   \n",
       "3            4         1       1   \n",
       "4            5         0       3   \n",
       "\n",
       "                                                Name     Sex   Age  SibSp  \\\n",
       "0                            Braund, Mr. Owen Harris    male  22.0      1   \n",
       "1  Cumings, Mrs. John Bradley (Florence Briggs Th...  female  38.0      1   \n",
       "2                             Heikkinen, Miss. Laina  female  26.0      0   \n",
       "3       Futrelle, Mrs. Jacques Heath (Lily May Peel)  female  35.0      1   \n",
       "4                           Allen, Mr. William Henry    male  35.0      0   \n",
       "\n",
       "   Parch            Ticket     Fare Cabin Embarked  \n",
       "0      0         A/5 21171   7.2500   NaN        S  \n",
       "1      0          PC 17599  71.2833   C85        C  \n",
       "2      0  STON/O2. 3101282   7.9250   NaN        S  \n",
       "3      0            113803  53.1000  C123        S  \n",
       "4      0            373450   8.0500   NaN        S  "
      ]
     },
     "execution_count": 2,
     "metadata": {},
     "output_type": "execute_result"
    }
   ],
   "source": [
    "df= pd.read_csv(\"titanic.csv\")\n",
    "df.head()"
   ]
  },
  {
   "cell_type": "markdown",
   "id": "623e3198",
   "metadata": {},
   "source": [
    "Como podemos observar no todas las columnas son relevantes para nuestro propósito, por lo que vamos a seleccionar solo los atributos que nos interesan, los cuales son: *Survived, Pclass, Sex, Age, SibSp, Parch* y *Embarked*."
   ]
  },
  {
   "cell_type": "code",
   "execution_count": 3,
   "id": "7599e242",
   "metadata": {},
   "outputs": [
    {
     "data": {
      "text/html": [
       "<div>\n",
       "<style scoped>\n",
       "    .dataframe tbody tr th:only-of-type {\n",
       "        vertical-align: middle;\n",
       "    }\n",
       "\n",
       "    .dataframe tbody tr th {\n",
       "        vertical-align: top;\n",
       "    }\n",
       "\n",
       "    .dataframe thead th {\n",
       "        text-align: right;\n",
       "    }\n",
       "</style>\n",
       "<table border=\"1\" class=\"dataframe\">\n",
       "  <thead>\n",
       "    <tr style=\"text-align: right;\">\n",
       "      <th></th>\n",
       "      <th>Survived</th>\n",
       "      <th>Pclass</th>\n",
       "      <th>Sex</th>\n",
       "      <th>Age</th>\n",
       "      <th>SibSp</th>\n",
       "      <th>Parch</th>\n",
       "      <th>Embarked</th>\n",
       "    </tr>\n",
       "  </thead>\n",
       "  <tbody>\n",
       "    <tr>\n",
       "      <th>0</th>\n",
       "      <td>0</td>\n",
       "      <td>3</td>\n",
       "      <td>male</td>\n",
       "      <td>22.0</td>\n",
       "      <td>1</td>\n",
       "      <td>0</td>\n",
       "      <td>S</td>\n",
       "    </tr>\n",
       "    <tr>\n",
       "      <th>1</th>\n",
       "      <td>1</td>\n",
       "      <td>1</td>\n",
       "      <td>female</td>\n",
       "      <td>38.0</td>\n",
       "      <td>1</td>\n",
       "      <td>0</td>\n",
       "      <td>C</td>\n",
       "    </tr>\n",
       "    <tr>\n",
       "      <th>2</th>\n",
       "      <td>1</td>\n",
       "      <td>3</td>\n",
       "      <td>female</td>\n",
       "      <td>26.0</td>\n",
       "      <td>0</td>\n",
       "      <td>0</td>\n",
       "      <td>S</td>\n",
       "    </tr>\n",
       "    <tr>\n",
       "      <th>3</th>\n",
       "      <td>1</td>\n",
       "      <td>1</td>\n",
       "      <td>female</td>\n",
       "      <td>35.0</td>\n",
       "      <td>1</td>\n",
       "      <td>0</td>\n",
       "      <td>S</td>\n",
       "    </tr>\n",
       "    <tr>\n",
       "      <th>4</th>\n",
       "      <td>0</td>\n",
       "      <td>3</td>\n",
       "      <td>male</td>\n",
       "      <td>35.0</td>\n",
       "      <td>0</td>\n",
       "      <td>0</td>\n",
       "      <td>S</td>\n",
       "    </tr>\n",
       "  </tbody>\n",
       "</table>\n",
       "</div>"
      ],
      "text/plain": [
       "   Survived  Pclass     Sex   Age  SibSp  Parch Embarked\n",
       "0         0       3    male  22.0      1      0        S\n",
       "1         1       1  female  38.0      1      0        C\n",
       "2         1       3  female  26.0      0      0        S\n",
       "3         1       1  female  35.0      1      0        S\n",
       "4         0       3    male  35.0      0      0        S"
      ]
     },
     "execution_count": 3,
     "metadata": {},
     "output_type": "execute_result"
    }
   ],
   "source": [
    "df = df[[\"Survived\", \"Pclass\", \"Sex\", \"Age\", \"SibSp\", \"Parch\", \"Embarked\"]]\n",
    "df.head()"
   ]
  },
  {
   "cell_type": "markdown",
   "id": "13122904",
   "metadata": {},
   "source": [
    "Vemos que tenemos dos atributos no numéricos, por lo que debemos convertirlos para poder utilizar **RandomForestClassifier**. La conversión la podemos hacer con una función de **pandas** que se llama **get_dummies**, **get_dummies** nos devuelve columnas cualitativas convertidas en columnas numéricas con 0 y 1. Esta función recibe como parámetros: el *dataframe*, las columnas sobre las cuales se hará la conversión, a modo de lista, y vamos a mandar verdadero a la variable **drop_first** que es falsa por defecto. Si dejamos **drop_first** como falso tendríamos una columna por cada observación, por ejemplo en el caso de la columna **Sex**, tendríamos una columna llamada *Sex_male* y otra llamada *Sex_female*. En cambio al volver verdadero a **drop_first** vamos a tener una sola columna llamada *Sex_male* donde se usa 1 para hombre y 0 para mujer."
   ]
  },
  {
   "cell_type": "code",
   "execution_count": 4,
   "id": "3bc4c940",
   "metadata": {},
   "outputs": [
    {
     "data": {
      "text/html": [
       "<div>\n",
       "<style scoped>\n",
       "    .dataframe tbody tr th:only-of-type {\n",
       "        vertical-align: middle;\n",
       "    }\n",
       "\n",
       "    .dataframe tbody tr th {\n",
       "        vertical-align: top;\n",
       "    }\n",
       "\n",
       "    .dataframe thead th {\n",
       "        text-align: right;\n",
       "    }\n",
       "</style>\n",
       "<table border=\"1\" class=\"dataframe\">\n",
       "  <thead>\n",
       "    <tr style=\"text-align: right;\">\n",
       "      <th></th>\n",
       "      <th>Survived</th>\n",
       "      <th>Pclass</th>\n",
       "      <th>Age</th>\n",
       "      <th>SibSp</th>\n",
       "      <th>Parch</th>\n",
       "      <th>Sex_male</th>\n",
       "      <th>Embarked_Q</th>\n",
       "      <th>Embarked_S</th>\n",
       "    </tr>\n",
       "  </thead>\n",
       "  <tbody>\n",
       "    <tr>\n",
       "      <th>0</th>\n",
       "      <td>0</td>\n",
       "      <td>3</td>\n",
       "      <td>22.0</td>\n",
       "      <td>1</td>\n",
       "      <td>0</td>\n",
       "      <td>1</td>\n",
       "      <td>0</td>\n",
       "      <td>1</td>\n",
       "    </tr>\n",
       "    <tr>\n",
       "      <th>1</th>\n",
       "      <td>1</td>\n",
       "      <td>1</td>\n",
       "      <td>38.0</td>\n",
       "      <td>1</td>\n",
       "      <td>0</td>\n",
       "      <td>0</td>\n",
       "      <td>0</td>\n",
       "      <td>0</td>\n",
       "    </tr>\n",
       "    <tr>\n",
       "      <th>2</th>\n",
       "      <td>1</td>\n",
       "      <td>3</td>\n",
       "      <td>26.0</td>\n",
       "      <td>0</td>\n",
       "      <td>0</td>\n",
       "      <td>0</td>\n",
       "      <td>0</td>\n",
       "      <td>1</td>\n",
       "    </tr>\n",
       "    <tr>\n",
       "      <th>3</th>\n",
       "      <td>1</td>\n",
       "      <td>1</td>\n",
       "      <td>35.0</td>\n",
       "      <td>1</td>\n",
       "      <td>0</td>\n",
       "      <td>0</td>\n",
       "      <td>0</td>\n",
       "      <td>1</td>\n",
       "    </tr>\n",
       "    <tr>\n",
       "      <th>4</th>\n",
       "      <td>0</td>\n",
       "      <td>3</td>\n",
       "      <td>35.0</td>\n",
       "      <td>0</td>\n",
       "      <td>0</td>\n",
       "      <td>1</td>\n",
       "      <td>0</td>\n",
       "      <td>1</td>\n",
       "    </tr>\n",
       "  </tbody>\n",
       "</table>\n",
       "</div>"
      ],
      "text/plain": [
       "   Survived  Pclass   Age  SibSp  Parch  Sex_male  Embarked_Q  Embarked_S\n",
       "0         0       3  22.0      1      0         1           0           1\n",
       "1         1       1  38.0      1      0         0           0           0\n",
       "2         1       3  26.0      0      0         0           0           1\n",
       "3         1       1  35.0      1      0         0           0           1\n",
       "4         0       3  35.0      0      0         1           0           1"
      ]
     },
     "execution_count": 4,
     "metadata": {},
     "output_type": "execute_result"
    }
   ],
   "source": [
    "df = pd.get_dummies(df, columns=[\"Sex\", \"Embarked\"], drop_first=True)\n",
    "df.head()"
   ]
  },
  {
   "cell_type": "markdown",
   "id": "23cea4eb",
   "metadata": {},
   "source": [
    "Ya que todos nuestros columnas tienen valores numéricos, procedemos a verificar si existen valores nulos. Lo realizamos con la función **info** de **pandas**"
   ]
  },
  {
   "cell_type": "code",
   "execution_count": 5,
   "id": "c02d0409",
   "metadata": {
    "scrolled": true
   },
   "outputs": [
    {
     "name": "stdout",
     "output_type": "stream",
     "text": [
      "<class 'pandas.core.frame.DataFrame'>\n",
      "RangeIndex: 891 entries, 0 to 890\n",
      "Data columns (total 8 columns):\n",
      " #   Column      Non-Null Count  Dtype  \n",
      "---  ------      --------------  -----  \n",
      " 0   Survived    891 non-null    int64  \n",
      " 1   Pclass      891 non-null    int64  \n",
      " 2   Age         714 non-null    float64\n",
      " 3   SibSp       891 non-null    int64  \n",
      " 4   Parch       891 non-null    int64  \n",
      " 5   Sex_male    891 non-null    uint8  \n",
      " 6   Embarked_Q  891 non-null    uint8  \n",
      " 7   Embarked_S  891 non-null    uint8  \n",
      "dtypes: float64(1), int64(4), uint8(3)\n",
      "memory usage: 37.5 KB\n"
     ]
    }
   ],
   "source": [
    "df.info()"
   ]
  },
  {
   "cell_type": "markdown",
   "id": "70126686",
   "metadata": {},
   "source": [
    "En este archivo, tenemos 177 valores nulos, los cuales eliminaremos por practicidad de este ejemplo. Eliminamos los valores nulos con **dropna**."
   ]
  },
  {
   "cell_type": "code",
   "execution_count": 6,
   "id": "6aeb9391",
   "metadata": {},
   "outputs": [
    {
     "name": "stdout",
     "output_type": "stream",
     "text": [
      "<class 'pandas.core.frame.DataFrame'>\n",
      "Int64Index: 714 entries, 0 to 890\n",
      "Data columns (total 8 columns):\n",
      " #   Column      Non-Null Count  Dtype  \n",
      "---  ------      --------------  -----  \n",
      " 0   Survived    714 non-null    int64  \n",
      " 1   Pclass      714 non-null    int64  \n",
      " 2   Age         714 non-null    float64\n",
      " 3   SibSp       714 non-null    int64  \n",
      " 4   Parch       714 non-null    int64  \n",
      " 5   Sex_male    714 non-null    uint8  \n",
      " 6   Embarked_Q  714 non-null    uint8  \n",
      " 7   Embarked_S  714 non-null    uint8  \n",
      "dtypes: float64(1), int64(4), uint8(3)\n",
      "memory usage: 35.6 KB\n"
     ]
    }
   ],
   "source": [
    "df = df.dropna()\n",
    "df.info()"
   ]
  },
  {
   "cell_type": "markdown",
   "id": "63a8ac59",
   "metadata": {},
   "source": [
    "Ahora, ya terminamos de preparar nuestros datos y estamos listos para implementar el bosque aleatorio.\n",
    "\n",
    "Para la construcción de nuestro bosque, vamos a implementar la validación cruzada *k-fold* vista anteriormente, así que importamos nuestras funciones de la validación."
   ]
  },
  {
   "cell_type": "code",
   "execution_count": 7,
   "id": "5826974f",
   "metadata": {},
   "outputs": [],
   "source": [
    "def division(df, k):\n",
    "    datos = []\n",
    "    tamano = int(len(df)/k)\n",
    "    for i in range(k-1):\n",
    "        division = np.array(range(i*tamano, (i+1)*tamano))\n",
    "        datos.append(np.array(division))\n",
    "    datos.append(np.array(range((i+1)*tamano, len(df))))\n",
    "    return datos\n",
    "\n",
    "\n",
    "# se filtran los datos para tener entrenamiento y prueba\n",
    "def conjunto(df, datos, indice):\n",
    "    prueba = df.iloc[datos[indice]]\n",
    "    ind = np.array(range(len(df)))\n",
    "    ind_ent = np.delete(ind, datos[indice])\n",
    "    entrenamiento = df.iloc[ind_ent]\n",
    "    return entrenamiento, prueba"
   ]
  },
  {
   "cell_type": "markdown",
   "id": "55393d8d",
   "metadata": {},
   "source": [
    "Creamos una función en donde ejecutaremos la validación *k-fold* e iremos creando un bosque por cada subconjunto que tengamos, esta función, **crear_bosque**, recibe como parámetros: un *dataframe* **df**, el número de particiones en los que se dividirán los datos **k**, el número de estimadores **estimadores**, el número mínimo de hojas **hojas**, la semilla para el estado aleatorio **semilla** y el nombre de la columna donde se encuentra la salida o variable dependiente **salida**.\n",
    "\n",
    "Dentro de la función, inicializaremos una variable precisión donde iremos sumando la precisión de cada bosque para poder obtener la media, una vez que termine con los diferentes bosques. \n",
    "\n",
    "Posteriormente, llamamos a división para dividir nuestros datos e implementamos un ciclo en el cual, cada iteración corresponderá a un bosque aleatorio. En el ciclo obtenemos los datos de entrenamiento y de prueba, separamos la salida de los demás atributos (requisito para poder usar la clase: RandomForestClassifier), para eliminar una columna de un dataframe usamos la función: drop. \n",
    "\n",
    "Esta función nos permite eliminar filas o columnas: axis=0 para indicar que vamos a eliminar filas y axis=1 para indicar que se trata de columnas. También, hay que mandarle el índice de las filas o el nombre de las columnas a eliminar en forma de lista. \n",
    "\n",
    "Ya que hemos separado la salida de los demás atributos, instanciamos: RandomForestClassifier mandándole como parámetros, el número de estimadores (número de árboles), la semilla para inicializar el estado aleatorio (solo en la construcción del primer árbol) y el número mínimo de hojas de los árboles. Entrenamos el modelo llamando: fit, mandándole los datos de entrenamiento (los atributos y la salida), y finalmente probamos el bosque con los datos de prueba, esto lo hacemos con la función score, la cual recibe como parámetros los datos de prueba y nos devuelve la precisión del árbol como un número entre 0 y 1. Recordemos que por cada subconjunto creado por la validación cruzada “k-fold”, estamos creando un bosque y vamos a retornar el promedio de la precisión de todos."
   ]
  },
  {
   "cell_type": "code",
   "execution_count": 8,
   "id": "a2ab195f",
   "metadata": {},
   "outputs": [],
   "source": [
    "def crear_bosque(df, k, estimadores, hojas, semilla, salida):\n",
    "    # inicializamos la variable de la precisión\n",
    "    precision = 0.0\n",
    "    # hacemos las divisiones del conjunto de datos\n",
    "    datos = division(df, k)\n",
    "    # por cada subconjunto se crea un bosque y luego promediamos la precisión\n",
    "    for i in range(k):\n",
    "        \n",
    "        # obtenemos los datos de entrenamiento y prueba\n",
    "        entrenamiento, prueba = conjunto(df, datos, i)\n",
    "        \n",
    "        # separamos la salida de los demas atributos\n",
    "        entrenamiento_atributos = entrenamiento.drop([salida], axis=1)\n",
    "        entrenamiento_salida = entrenamiento[salida]\n",
    "        prueba_atributos = prueba.drop([salida], axis=1)\n",
    "        prueba_salida = prueba[salida]\n",
    "        \n",
    "        # damos los hiperparámetros del bosque\n",
    "        \n",
    "        # establecemos la semilla en la primera iteración\n",
    "        if i == 0:\n",
    "            bosque = RandomForestClassifier(n_estimators=estimadores, random_state=semilla, min_samples_leaf=hojas)\n",
    "        else:\n",
    "            bosque = RandomForestClassifier(n_estimators=estimadores, min_samples_leaf=hojas)\n",
    "        # entrenamos el bosque\n",
    "        bosque.fit(entrenamiento_atributos, entrenamiento_salida)\n",
    "        # probamos el bosque y sumamos la precision obtenida\n",
    "        precision += bosque.score(prueba_atributos, prueba_salida)\n",
    "    # retornamos el promedio de la precisión obtenida\n",
    "    return round(precision/k, 3)\n",
    "        "
   ]
  },
  {
   "cell_type": "markdown",
   "id": "face3c9d",
   "metadata": {},
   "source": [
    "Ahora, vamos a probar nuestro código y crear bosques con distinto número de árboles, mientras los demás parámetros los mantenemos igual (k, estimadores, semilla, número de hojas, y la salida que se desee)."
   ]
  },
  {
   "cell_type": "markdown",
   "id": "c3f90a8a",
   "metadata": {},
   "source": [
    "Un árbol"
   ]
  },
  {
   "cell_type": "code",
   "execution_count": 9,
   "id": "c2127ee0",
   "metadata": {},
   "outputs": [
    {
     "data": {
      "text/plain": [
       "0.767"
      ]
     },
     "execution_count": 9,
     "metadata": {},
     "output_type": "execute_result"
    }
   ],
   "source": [
    "crear_bosque(df, 5, 1, 8, 1, \"Survived\")"
   ]
  },
  {
   "cell_type": "markdown",
   "id": "336fd6dc",
   "metadata": {},
   "source": [
    "Cinco árboles"
   ]
  },
  {
   "cell_type": "code",
   "execution_count": 10,
   "id": "f4a25f74",
   "metadata": {},
   "outputs": [
    {
     "data": {
      "text/plain": [
       "0.799"
      ]
     },
     "execution_count": 10,
     "metadata": {},
     "output_type": "execute_result"
    }
   ],
   "source": [
    "crear_bosque(df, 5, 5, 8, 1, \"Survived\")"
   ]
  },
  {
   "cell_type": "markdown",
   "id": "bce47df7",
   "metadata": {},
   "source": [
    "Diez árboles"
   ]
  },
  {
   "cell_type": "code",
   "execution_count": 11,
   "id": "a8d1802e",
   "metadata": {},
   "outputs": [
    {
     "data": {
      "text/plain": [
       "0.795"
      ]
     },
     "execution_count": 11,
     "metadata": {},
     "output_type": "execute_result"
    }
   ],
   "source": [
    "crear_bosque(df, 5, 10, 8, 1, \"Survived\")"
   ]
  },
  {
   "cell_type": "markdown",
   "id": "67ed5a20",
   "metadata": {},
   "source": [
    "Como podemos observar, a medida que incrementamos el número de árboles, incrementa la precisión del bosque."
   ]
  }
 ],
 "metadata": {
  "kernelspec": {
   "display_name": "Python 3 (ipykernel)",
   "language": "python",
   "name": "python3"
  },
  "language_info": {
   "codemirror_mode": {
    "name": "ipython",
    "version": 3
   },
   "file_extension": ".py",
   "mimetype": "text/x-python",
   "name": "python",
   "nbconvert_exporter": "python",
   "pygments_lexer": "ipython3",
   "version": "3.9.7"
  }
 },
 "nbformat": 4,
 "nbformat_minor": 5
}
