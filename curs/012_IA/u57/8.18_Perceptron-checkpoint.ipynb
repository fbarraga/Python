{
 "cells": [
  {
   "cell_type": "code",
   "execution_count": null,
   "id": "da846a70",
   "metadata": {},
   "outputs": [],
   "source": [
    "#### 0.0.1 - 2021 - 01 - 01\n",
    "#### Dr. Marco Aceves \n",
    "#### rev en Jupyter Notebook\n",
    "#### Código como ejemplo como parte del libro:\n",
    "#### Inteligencia Artificial para Programadores con Prisa\n",
    "#### 8.18_Perceptron.ipynb\n",
    "# Ejemplo de red simple llamado perceptrón"
   ]
  },
  {
   "cell_type": "markdown",
   "id": "da1a8393",
   "metadata": {},
   "source": [
    "# Perceptrón"
   ]
  },
  {
   "cell_type": "markdown",
   "id": "70b5efa7",
   "metadata": {},
   "source": [
    "El perceptrón es lo que podemos llamar una red neuronal de una sola neurona. En este ejemplo abordaremos como utilizar este modelo como un clasificador.\n",
    "\n",
    "Para ejemplificar el perceptrón, vamos a hacer el comportamiento de la función lógica **OR**. Durante este ejemplo nos vamos a apoyar de la librería **neurolab** que nos permite crear varios modelos de redes neuronales, entre ellos, el perceptrón."
   ]
  },
  {
   "cell_type": "markdown",
   "id": "33691c2b",
   "metadata": {},
   "source": [
    "Importamos librerías de utilidad."
   ]
  },
  {
   "cell_type": "code",
   "execution_count": 35,
   "id": "b7174252",
   "metadata": {},
   "outputs": [],
   "source": [
    "#Importamos librerías\n",
    "import numpy as np\n",
    "import matplotlib.pyplot as plt\n",
    "import neurolab as nl"
   ]
  },
  {
   "cell_type": "markdown",
   "id": "ab9919b0",
   "metadata": {},
   "source": [
    "Creamos nuestros conjuntos (las entradas y salidas que tendrá nuestro perceptrón), donde las entradas son las posibles combinaciones que puede tener la función lógica **OR** y las salidas son el resultado esperado. Como podemos observar tenemos dos neuronas de entrada y una de salida por cada ejemplo."
   ]
  },
  {
   "cell_type": "code",
   "execution_count": 36,
   "id": "e490658f",
   "metadata": {},
   "outputs": [
    {
     "data": {
      "text/plain": [
       "array([[0, 1],\n",
       "       [1, 1],\n",
       "       [0, 0],\n",
       "       [1, 0]])"
      ]
     },
     "execution_count": 36,
     "metadata": {},
     "output_type": "execute_result"
    }
   ],
   "source": [
    "entradas = np.array([[0, 1], [1, 1], [0, 0], [1, 0]])\n",
    "entradas"
   ]
  },
  {
   "cell_type": "code",
   "execution_count": 37,
   "id": "878fec4b",
   "metadata": {},
   "outputs": [
    {
     "data": {
      "text/plain": [
       "array([[1],\n",
       "       [1],\n",
       "       [0],\n",
       "       [1]])"
      ]
     },
     "execution_count": 37,
     "metadata": {},
     "output_type": "execute_result"
    }
   ],
   "source": [
    "salidas = np.array([[1], [1], [0], [1]])\n",
    "salidas"
   ]
  },
  {
   "cell_type": "markdown",
   "id": "ea4944fa",
   "metadata": {},
   "source": [
    "Definimos las dimensiones de nuestras entradas, es decir, el intervalo en el que se encuentran los valores de entrada, en este caso son [0, 1] para ambas entradas."
   ]
  },
  {
   "cell_type": "code",
   "execution_count": 38,
   "id": "08a2b360",
   "metadata": {},
   "outputs": [],
   "source": [
    "dim1_min, dim1_max, dim2_min, dim2_max = 0, 1, 0, 1\n",
    "dim1 = [dim1_min, dim1_max]\n",
    "dim2 = [dim2_min, dim2_max]"
   ]
  },
  {
   "cell_type": "markdown",
   "id": "c6a4b8b1",
   "metadata": {},
   "source": [
    "Definimos el número de capas de salida, en este caso esperamos un solo valor, por lo que será una salida de una sola capa."
   ]
  },
  {
   "cell_type": "code",
   "execution_count": 39,
   "id": "986a2ba6",
   "metadata": {},
   "outputs": [],
   "source": [
    "neu_salida = 1"
   ]
  },
  {
   "cell_type": "markdown",
   "id": "31f10764",
   "metadata": {},
   "source": [
    "Creamos nuestro perceptrón, que es una instancia de la clase **newp**. Para crearlo es necesario enviarle como parámetros las dimensiones de las entradas en forma de lista, y el número de neuronas de salida."
   ]
  },
  {
   "cell_type": "code",
   "execution_count": 40,
   "id": "69d99b78",
   "metadata": {},
   "outputs": [],
   "source": [
    "perceptron = nl.net.newp([dim1, dim2], neu_salida)"
   ]
  },
  {
   "cell_type": "markdown",
   "id": "8850787e",
   "metadata": {},
   "source": [
    "Una vez creado nuestro perceptrón lo entrenamos con la función **train** propia de la clase **newp**, a esta función hay que mandarle, en los parámetros, los datos de entrenamiento, es decir, los datos de entrada y las salidas que se esperan, el número de épocas ***epochs***, que es el número máximo de ciclos de entrenamiento que puede tener la red, ***show*** que imprime por consola el progreso del entrenamiento cada n veces, y la tasa de aprendizaje ***lr (learning rate)***. Además, en nuestro ejemplo vamos a graficar el proceso para hacerlo más visual\n"
   ]
  },
  {
   "cell_type": "code",
   "execution_count": 41,
   "id": "164dcc83",
   "metadata": {},
   "outputs": [
    {
     "name": "stdout",
     "output_type": "stream",
     "text": [
      "Epoch: 1; Error: 1.5;\n",
      "Epoch: 2; Error: 0.5;\n",
      "Epoch: 3; Error: 0.0;\n",
      "The goal of learning is reached\n"
     ]
    },
    {
     "data": {
      "image/png": "[encoded data removed]",
      "text/plain": [
       "<Figure size 432x288 with 1 Axes>"
      ]
     },
     "metadata": {
      "needs_background": "light"
     },
     "output_type": "display_data"
    }
   ],
   "source": [
    "# entrenamos el perceptrón\n",
    "progreso_error = perceptron.train(entradas, salidas, epochs=10, show=1, lr=0.3)\n",
    "# visualizamos el progreso del error\n",
    "plt.figure()\n",
    "plt.plot(progreso_error)\n",
    "plt.xlabel('Numero de épocas')\n",
    "plt.ylabel('Error')\n",
    "plt.title('Progreso del error')\n",
    "plt.grid()\n",
    "plt.show()"
   ]
  },
  {
   "cell_type": "markdown",
   "id": "93d8fa06",
   "metadata": {},
   "source": [
    "Ahora construiremos un conjunto de datos de prueba con el que evaluaremos nuestro perceptrón."
   ]
  },
  {
   "cell_type": "code",
   "execution_count": 33,
   "id": "17d2d0b3",
   "metadata": {},
   "outputs": [],
   "source": [
    "# crear un conjunto de pruebas\n",
    "prueba = np.array([[0, 0], [1, 1], [1, 0], [0, 1]])"
   ]
  },
  {
   "cell_type": "markdown",
   "id": "d0aafc9f",
   "metadata": {},
   "source": [
    "Posteriormente, evaluaremos el perceptrón con su función ***sim***, que recibe los datos de entrada y nos devuelve la salida de acuerdo con el entrenamiento que tuvo la neurona."
   ]
  },
  {
   "cell_type": "code",
   "execution_count": 42,
   "id": "c9febe9a",
   "metadata": {},
   "outputs": [
    {
     "name": "stdout",
     "output_type": "stream",
     "text": [
      "0 OR 0 = [0.]\n",
      "1 OR 1 = [1.]\n",
      "1 OR 0 = [1.]\n",
      "0 OR 1 = [1.]\n"
     ]
    }
   ],
   "source": [
    "for dato in prueba:\n",
    "    salida = perceptron.sim([dato])\n",
    "    print(\"{} OR {} = {}\".format(dato[0], dato[1], salida[0]))"
   ]
  },
  {
   "cell_type": "markdown",
   "id": "4f2e025e",
   "metadata": {},
   "source": [
    "Como podemos observar las predicciones de nuestro perceptrón son correctas."
   ]
  },
  {
   "cell_type": "markdown",
   "id": "4430b2b3",
   "metadata": {},
   "source": [
    "Ahora hagamos la función lógica **XOR**.\n",
    "\n",
    "Definimos los datos de entrenamiento."
   ]
  },
  {
   "cell_type": "code",
   "execution_count": 31,
   "id": "eafc347b",
   "metadata": {},
   "outputs": [
    {
     "data": {
      "text/plain": [
       "array([[0, 1],\n",
       "       [1, 0],\n",
       "       [1, 1],\n",
       "       [0, 0]])"
      ]
     },
     "execution_count": 31,
     "metadata": {},
     "output_type": "execute_result"
    }
   ],
   "source": [
    "entradas = np.array([[0, 1], [1, 0], [1, 1], [0, 0]])\n",
    "entradas"
   ]
  },
  {
   "cell_type": "code",
   "execution_count": 43,
   "id": "d1dd37ac",
   "metadata": {},
   "outputs": [
    {
     "data": {
      "text/plain": [
       "array([[1],\n",
       "       [1],\n",
       "       [0],\n",
       "       [0]])"
      ]
     },
     "execution_count": 43,
     "metadata": {},
     "output_type": "execute_result"
    }
   ],
   "source": [
    "salidas = np.array([[1], [1], [0], [0]])\n",
    "salidas"
   ]
  },
  {
   "cell_type": "markdown",
   "id": "cc13e062",
   "metadata": {},
   "source": [
    "Las dimensiones y el número de neuronas de salida permanecen constantes. Entonces procedemos a crear nuestro perceptrón con estos nuevos datos, lo llamaremos **perceptron1**."
   ]
  },
  {
   "cell_type": "code",
   "execution_count": 30,
   "id": "16315d7e",
   "metadata": {},
   "outputs": [],
   "source": [
    "perceptron1 = nl.net.newp([dim1, dim2], neu_salida)"
   ]
  },
  {
   "cell_type": "markdown",
   "id": "4d1d9b78",
   "metadata": {},
   "source": [
    "Realizamos el proceso de entrenamiento."
   ]
  },
  {
   "cell_type": "code",
   "execution_count": 27,
   "id": "dc9d36af",
   "metadata": {},
   "outputs": [
    {
     "name": "stdout",
     "output_type": "stream",
     "text": [
      "Epoch: 20; Error: 1.0;\n",
      "Epoch: 40; Error: 1.0;\n",
      "Epoch: 60; Error: 1.0;\n",
      "Epoch: 80; Error: 1.0;\n",
      "Epoch: 100; Error: 1.0;\n",
      "The maximum number of train epochs is reached\n"
     ]
    },
    {
     "data": {
      "image/png": "[encoded data removed]",
      "text/plain": [
       "<Figure size 432x288 with 1 Axes>"
      ]
     },
     "metadata": {
      "needs_background": "light"
     },
     "output_type": "display_data"
    }
   ],
   "source": [
    "# entrenamos el perceptrón\n",
    "progreso_error = perceptron1.train(entradas, salidas, epochs=100, show=20, lr=0.01)\n",
    "# visualizamos el progreso del error\n",
    "plt.figure()\n",
    "plt.plot(progreso_error)\n",
    "plt.xlabel('Numero de épocas')\n",
    "plt.ylabel('Error')\n",
    "plt.title('Progreso del error')\n",
    "plt.grid()\n",
    "plt.show()"
   ]
  },
  {
   "cell_type": "markdown",
   "id": "604e826b",
   "metadata": {},
   "source": [
    "Pero ahora observamos que a pesar de ser ejecutado por el máximo de 100 épocas, nuestro error se mantiene en 1.\n",
    "\n",
    "Ejecutando el perceptrón con un *dataset* de prueba, obtenemos los siguientes resultados."
   ]
  },
  {
   "cell_type": "code",
   "execution_count": null,
   "id": "b7d2534b",
   "metadata": {},
   "outputs": [],
   "source": [
    "# crear un conjunto de pruebas\n",
    "prueba = np.array([[1, 0], [0, 0], [1, 1], [0, 1]])"
   ]
  },
  {
   "cell_type": "code",
   "execution_count": 25,
   "id": "cfa0b700",
   "metadata": {},
   "outputs": [
    {
     "name": "stdout",
     "output_type": "stream",
     "text": [
      "1 XOR 0 = [0.]\n",
      "0 XOR 0 = [0.]\n",
      "1 XOR 1 = [0.]\n",
      "0 XOR 1 = [0.]\n"
     ]
    }
   ],
   "source": [
    "for dato in prueba:\n",
    "    salida = perceptron.sim([dato])\n",
    "    print(\"{} XOR {} = {}\".format(dato[0], dato[1], salida[0]))"
   ]
  },
  {
   "cell_type": "markdown",
   "id": "de3dd763",
   "metadata": {},
   "source": [
    "Como podemos observar, nuestro modelo se ha equivocado en un caso, esto se debe a que el perceptrón solo puede clasificar datos que sean linealmente separables y el comportamiento de la función lógica **XOR** no es linealmente separable. Esta es una de las limitaciones que presenta el perceptrón de una sola capa y que puede resolverse con un perceptrón multicapa, comúnmente llamado MLP."
   ]
  },
  {
   "cell_type": "code",
   "execution_count": null,
   "id": "d96af6f6",
   "metadata": {},
   "outputs": [],
   "source": []
  }
 ],
 "metadata": {
  "kernelspec": {
   "display_name": "Python 3 (ipykernel)",
   "language": "python",
   "name": "python3"
  },
  "language_info": {
   "codemirror_mode": {
    "name": "ipython",
    "version": 3
   },
   "file_extension": ".py",
   "mimetype": "text/x-python",
   "name": "python",
   "nbconvert_exporter": "python",
   "pygments_lexer": "ipython3",
   "version": "3.9.7"
  }
 },
 "nbformat": 4,
 "nbformat_minor": 5
}
