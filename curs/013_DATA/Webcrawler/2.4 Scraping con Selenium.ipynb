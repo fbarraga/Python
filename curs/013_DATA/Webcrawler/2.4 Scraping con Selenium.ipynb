{
 "cells": [
  {
   "cell_type": "code",
   "execution_count": 1,
   "metadata": {},
   "outputs": [
    {
     "name": "stdout",
     "output_type": "stream",
     "text": [
      "Collecting selenium"
     ]
    },
    {
     "name": "stderr",
     "output_type": "stream",
     "text": [
      "\n",
      "[notice] A new release of pip available: 22.2.1 -> 22.3.1\n",
      "[notice] To update, run: python.exe -m pip install --upgrade pip\n"
     ]
    },
    {
     "name": "stdout",
     "output_type": "stream",
     "text": [
      "\n",
      "  Downloading selenium-4.7.2-py3-none-any.whl (6.3 MB)\n",
      "     ---------------------------------------- 6.3/6.3 MB 25.2 MB/s eta 0:00:00\n",
      "Collecting trio~=0.17\n",
      "  Downloading trio-0.22.0-py3-none-any.whl (384 kB)\n",
      "     ---------------------------------------- 384.9/384.9 kB ? eta 0:00:00\n",
      "Collecting trio-websocket~=0.9\n",
      "  Using cached trio_websocket-0.9.2-py3-none-any.whl (16 kB)\n",
      "Requirement already satisfied: certifi>=2021.10.8 in c:\\python310\\lib\\site-packages (from selenium) (2022.6.15.1)\n",
      "Requirement already satisfied: urllib3[socks]~=1.26 in c:\\python310\\lib\\site-packages (from selenium) (1.26.12)\n",
      "Collecting exceptiongroup>=1.0.0rc9\n",
      "  Downloading exceptiongroup-1.1.0-py3-none-any.whl (14 kB)\n",
      "Collecting sortedcontainers\n",
      "  Using cached sortedcontainers-2.4.0-py2.py3-none-any.whl (29 kB)\n",
      "Collecting async-generator>=1.9\n",
      "  Using cached async_generator-1.10-py3-none-any.whl (18 kB)\n",
      "Requirement already satisfied: cffi>=1.14 in c:\\python310\\lib\\site-packages (from trio~=0.17->selenium) (1.15.1)\n",
      "Requirement already satisfied: attrs>=19.2.0 in c:\\python310\\lib\\site-packages (from trio~=0.17->selenium) (22.1.0)\n",
      "Requirement already satisfied: sniffio in c:\\python310\\lib\\site-packages (from trio~=0.17->selenium) (1.3.0)\n",
      "Collecting outcome\n",
      "  Downloading outcome-1.2.0-py2.py3-none-any.whl (9.7 kB)\n",
      "Requirement already satisfied: idna in c:\\python310\\lib\\site-packages (from trio~=0.17->selenium) (3.3)\n",
      "Collecting wsproto>=0.14\n",
      "  Downloading wsproto-1.2.0-py3-none-any.whl (24 kB)\n",
      "Collecting PySocks!=1.5.7,<2.0,>=1.5.6\n",
      "  Using cached PySocks-1.7.1-py3-none-any.whl (16 kB)\n",
      "Requirement already satisfied: pycparser in c:\\python310\\lib\\site-packages (from cffi>=1.14->trio~=0.17->selenium) (2.21)\n",
      "Requirement already satisfied: h11<1,>=0.9.0 in c:\\python310\\lib\\site-packages (from wsproto>=0.14->trio-websocket~=0.9->selenium) (0.12.0)\n",
      "Installing collected packages: sortedcontainers, wsproto, PySocks, outcome, exceptiongroup, async-generator, trio, trio-websocket, selenium\n",
      "Successfully installed PySocks-1.7.1 async-generator-1.10 exceptiongroup-1.1.0 outcome-1.2.0 selenium-4.7.2 sortedcontainers-2.4.0 trio-0.22.0 trio-websocket-0.9.2 wsproto-1.2.0\n"
     ]
    }
   ],
   "source": [
    "# Instalación de la librería selenium\n",
    "import sys\n",
    "!{sys.executable} -m pip install -U selenium"
   ]
  },
  {
   "cell_type": "code",
   "execution_count": 2,
   "metadata": {},
   "outputs": [
    {
     "name": "stdout",
     "output_type": "stream",
     "text": [
      "Iniciando Scraper\n"
     ]
    },
    {
     "name": "stderr",
     "output_type": "stream",
     "text": [
      "C:\\Users\\Francesc\\AppData\\Local\\Temp\\ipykernel_2320\\608764971.py:15: DeprecationWarning: executable_path has been deprecated, please pass in a Service object\n",
      "  driver = webdriver.Chrome(\"chromedriver.exe\",options=chromeOptions)\n"
     ]
    },
    {
     "ename": "SessionNotCreatedException",
     "evalue": "Message: session not created exception: Missing or invalid capabilities\n  (Driver info: chromedriver=2.40.565498 (ea082db3280dd6843ebfb08a625e3eb905c4f5ab),platform=Windows NT 10.0.19044 x86_64)\n",
     "output_type": "error",
     "traceback": [
      "\u001b[1;31m---------------------------------------------------------------------------\u001b[0m",
      "\u001b[1;31mSessionNotCreatedException\u001b[0m                Traceback (most recent call last)",
      "Cell \u001b[1;32mIn [2], line 15\u001b[0m\n\u001b[0;32m     13\u001b[0m prefs \u001b[39m=\u001b[39m {\u001b[39m\"\u001b[39m\u001b[39mdownload.default_directory\u001b[39m\u001b[39m\"\u001b[39m : os\u001b[39m.\u001b[39mgetcwd()\u001b[39m+\u001b[39m\u001b[39m\"\u001b[39m\u001b[39m/Resultados Selenium\u001b[39m\u001b[39m\"\u001b[39m} \u001b[39m# Cambiamos la carpeta en la que se descargará el fichero\u001b[39;00m\n\u001b[0;32m     14\u001b[0m chromeOptions\u001b[39m.\u001b[39madd_experimental_option(\u001b[39m\"\u001b[39m\u001b[39mprefs\u001b[39m\u001b[39m\"\u001b[39m,prefs)\n\u001b[1;32m---> 15\u001b[0m driver \u001b[39m=\u001b[39m webdriver\u001b[39m.\u001b[39;49mChrome(\u001b[39m\"\u001b[39;49m\u001b[39mchromedriver.exe\u001b[39;49m\u001b[39m\"\u001b[39;49m,options\u001b[39m=\u001b[39;49mchromeOptions)\n\u001b[0;32m     16\u001b[0m driver\u001b[39m.\u001b[39mget(\u001b[39m'\u001b[39m\u001b[39mhttp://eportal.mapama.gob.es/websiar/SeleccionParametrosMap.aspx?dst=1\u001b[39m\u001b[39m'\u001b[39m) \u001b[39m# Web de la que queremos extraer datos\u001b[39;00m\n\u001b[0;32m     19\u001b[0m value_ccaa\u001b[39m=\u001b[39m\u001b[39m8\u001b[39m \u001b[39m# Comunidad autonoma\u001b[39;00m\n",
      "File \u001b[1;32mc:\\Python311\\Lib\\site-packages\\selenium\\webdriver\\chrome\\webdriver.py:81\u001b[0m, in \u001b[0;36mWebDriver.__init__\u001b[1;34m(self, executable_path, port, options, service_args, desired_capabilities, service_log_path, chrome_options, service, keep_alive)\u001b[0m\n\u001b[0;32m     78\u001b[0m \u001b[39mif\u001b[39;00m \u001b[39mnot\u001b[39;00m service:\n\u001b[0;32m     79\u001b[0m     service \u001b[39m=\u001b[39m Service(executable_path, port, service_args, service_log_path)\n\u001b[1;32m---> 81\u001b[0m \u001b[39msuper\u001b[39;49m()\u001b[39m.\u001b[39;49m\u001b[39m__init__\u001b[39;49m(\n\u001b[0;32m     82\u001b[0m     DesiredCapabilities\u001b[39m.\u001b[39;49mCHROME[\u001b[39m\"\u001b[39;49m\u001b[39mbrowserName\u001b[39;49m\u001b[39m\"\u001b[39;49m],\n\u001b[0;32m     83\u001b[0m     \u001b[39m\"\u001b[39;49m\u001b[39mgoog\u001b[39;49m\u001b[39m\"\u001b[39;49m,\n\u001b[0;32m     84\u001b[0m     port,\n\u001b[0;32m     85\u001b[0m     options,\n\u001b[0;32m     86\u001b[0m     service_args,\n\u001b[0;32m     87\u001b[0m     desired_capabilities,\n\u001b[0;32m     88\u001b[0m     service_log_path,\n\u001b[0;32m     89\u001b[0m     service,\n\u001b[0;32m     90\u001b[0m     keep_alive,\n\u001b[0;32m     91\u001b[0m )\n",
      "File \u001b[1;32mc:\\Python311\\Lib\\site-packages\\selenium\\webdriver\\chromium\\webdriver.py:106\u001b[0m, in \u001b[0;36mChromiumDriver.__init__\u001b[1;34m(self, browser_name, vendor_prefix, port, options, service_args, desired_capabilities, service_log_path, service, keep_alive)\u001b[0m\n\u001b[0;32m    103\u001b[0m \u001b[39mself\u001b[39m\u001b[39m.\u001b[39mservice\u001b[39m.\u001b[39mstart()\n\u001b[0;32m    105\u001b[0m \u001b[39mtry\u001b[39;00m:\n\u001b[1;32m--> 106\u001b[0m     \u001b[39msuper\u001b[39;49m()\u001b[39m.\u001b[39;49m\u001b[39m__init__\u001b[39;49m(\n\u001b[0;32m    107\u001b[0m         command_executor\u001b[39m=\u001b[39;49mChromiumRemoteConnection(\n\u001b[0;32m    108\u001b[0m             remote_server_addr\u001b[39m=\u001b[39;49m\u001b[39mself\u001b[39;49m\u001b[39m.\u001b[39;49mservice\u001b[39m.\u001b[39;49mservice_url,\n\u001b[0;32m    109\u001b[0m             browser_name\u001b[39m=\u001b[39;49mbrowser_name,\n\u001b[0;32m    110\u001b[0m             vendor_prefix\u001b[39m=\u001b[39;49mvendor_prefix,\n\u001b[0;32m    111\u001b[0m             keep_alive\u001b[39m=\u001b[39;49mkeep_alive,\n\u001b[0;32m    112\u001b[0m             ignore_proxy\u001b[39m=\u001b[39;49m_ignore_proxy,\n\u001b[0;32m    113\u001b[0m         ),\n\u001b[0;32m    114\u001b[0m         options\u001b[39m=\u001b[39;49moptions,\n\u001b[0;32m    115\u001b[0m     )\n\u001b[0;32m    116\u001b[0m \u001b[39mexcept\u001b[39;00m \u001b[39mException\u001b[39;00m:\n\u001b[0;32m    117\u001b[0m     \u001b[39mself\u001b[39m\u001b[39m.\u001b[39mquit()\n",
      "File \u001b[1;32mc:\\Python311\\Lib\\site-packages\\selenium\\webdriver\\remote\\webdriver.py:288\u001b[0m, in \u001b[0;36mWebDriver.__init__\u001b[1;34m(self, command_executor, desired_capabilities, browser_profile, proxy, keep_alive, file_detector, options)\u001b[0m\n\u001b[0;32m    286\u001b[0m \u001b[39mself\u001b[39m\u001b[39m.\u001b[39m_authenticator_id \u001b[39m=\u001b[39m \u001b[39mNone\u001b[39;00m\n\u001b[0;32m    287\u001b[0m \u001b[39mself\u001b[39m\u001b[39m.\u001b[39mstart_client()\n\u001b[1;32m--> 288\u001b[0m \u001b[39mself\u001b[39;49m\u001b[39m.\u001b[39;49mstart_session(capabilities, browser_profile)\n",
      "File \u001b[1;32mc:\\Python311\\Lib\\site-packages\\selenium\\webdriver\\remote\\webdriver.py:381\u001b[0m, in \u001b[0;36mWebDriver.start_session\u001b[1;34m(self, capabilities, browser_profile)\u001b[0m\n\u001b[0;32m    379\u001b[0m w3c_caps \u001b[39m=\u001b[39m _make_w3c_caps(capabilities)\n\u001b[0;32m    380\u001b[0m parameters \u001b[39m=\u001b[39m {\u001b[39m\"\u001b[39m\u001b[39mcapabilities\u001b[39m\u001b[39m\"\u001b[39m: w3c_caps}\n\u001b[1;32m--> 381\u001b[0m response \u001b[39m=\u001b[39m \u001b[39mself\u001b[39;49m\u001b[39m.\u001b[39;49mexecute(Command\u001b[39m.\u001b[39;49mNEW_SESSION, parameters)\n\u001b[0;32m    382\u001b[0m \u001b[39mif\u001b[39;00m \u001b[39m\"\u001b[39m\u001b[39msessionId\u001b[39m\u001b[39m\"\u001b[39m \u001b[39mnot\u001b[39;00m \u001b[39min\u001b[39;00m response:\n\u001b[0;32m    383\u001b[0m     response \u001b[39m=\u001b[39m response[\u001b[39m\"\u001b[39m\u001b[39mvalue\u001b[39m\u001b[39m\"\u001b[39m]\n",
      "File \u001b[1;32mc:\\Python311\\Lib\\site-packages\\selenium\\webdriver\\remote\\webdriver.py:444\u001b[0m, in \u001b[0;36mWebDriver.execute\u001b[1;34m(self, driver_command, params)\u001b[0m\n\u001b[0;32m    442\u001b[0m response \u001b[39m=\u001b[39m \u001b[39mself\u001b[39m\u001b[39m.\u001b[39mcommand_executor\u001b[39m.\u001b[39mexecute(driver_command, params)\n\u001b[0;32m    443\u001b[0m \u001b[39mif\u001b[39;00m response:\n\u001b[1;32m--> 444\u001b[0m     \u001b[39mself\u001b[39;49m\u001b[39m.\u001b[39;49merror_handler\u001b[39m.\u001b[39;49mcheck_response(response)\n\u001b[0;32m    445\u001b[0m     response[\u001b[39m\"\u001b[39m\u001b[39mvalue\u001b[39m\u001b[39m\"\u001b[39m] \u001b[39m=\u001b[39m \u001b[39mself\u001b[39m\u001b[39m.\u001b[39m_unwrap_value(response\u001b[39m.\u001b[39mget(\u001b[39m\"\u001b[39m\u001b[39mvalue\u001b[39m\u001b[39m\"\u001b[39m, \u001b[39mNone\u001b[39;00m))\n\u001b[0;32m    446\u001b[0m     \u001b[39mreturn\u001b[39;00m response\n",
      "File \u001b[1;32mc:\\Python311\\Lib\\site-packages\\selenium\\webdriver\\remote\\errorhandler.py:249\u001b[0m, in \u001b[0;36mErrorHandler.check_response\u001b[1;34m(self, response)\u001b[0m\n\u001b[0;32m    247\u001b[0m         alert_text \u001b[39m=\u001b[39m value[\u001b[39m\"\u001b[39m\u001b[39malert\u001b[39m\u001b[39m\"\u001b[39m]\u001b[39m.\u001b[39mget(\u001b[39m\"\u001b[39m\u001b[39mtext\u001b[39m\u001b[39m\"\u001b[39m)\n\u001b[0;32m    248\u001b[0m     \u001b[39mraise\u001b[39;00m exception_class(message, screen, stacktrace, alert_text)  \u001b[39m# type: ignore[call-arg]  # mypy is not smart enough here\u001b[39;00m\n\u001b[1;32m--> 249\u001b[0m \u001b[39mraise\u001b[39;00m exception_class(message, screen, stacktrace)\n",
      "\u001b[1;31mSessionNotCreatedException\u001b[0m: Message: session not created exception: Missing or invalid capabilities\n  (Driver info: chromedriver=2.40.565498 (ea082db3280dd6843ebfb08a625e3eb905c4f5ab),platform=Windows NT 10.0.19044 x86_64)\n"
     ]
    }
   ],
   "source": [
    "#!/usr/bin/env python\n",
    "# -*- coding: utf-8 -*-\n",
    "# Scrapper de las estaciones de la red SIAR\n",
    "\n",
    "print('Iniciando Scraper')\n",
    "import zipfile\n",
    "import os\n",
    "from selenium import webdriver\n",
    "from selenium.webdriver.common.keys import Keys\n",
    "import time\n",
    "\n",
    "chromeOptions = webdriver.ChromeOptions()\n",
    "prefs = {\"download.default_directory\" : os.getcwd()+\"/Resultados Selenium\"} # Cambiamos la carpeta en la que se descargará el fichero\n",
    "chromeOptions.add_experimental_option(\"prefs\",prefs)\n",
    "driver = webdriver.Chrome(\"chromedriver.exe\",options=chromeOptions)\n",
    "driver.get('http://eportal.mapama.gob.es/websiar/SeleccionParametrosMap.aspx?dst=1') # Web de la que queremos extraer datos\n",
    "\n",
    "\n",
    "value_ccaa=8 # Comunidad autonoma\n",
    "value_ccaa_string = str(value_ccaa)\n",
    "string_ccaa = 'select[name=\"ctl00$ContentPlaceHolder1$DropDownListCCAA\"] option[value=\"'+value_ccaa_string+'\"]'\n",
    "desplegable_ccaa = driver.find_element_by_css_selector(string_ccaa)\n",
    "click_desplegable_ccaa = desplegable_ccaa.click()\n",
    "\n",
    "time.sleep(2)\n",
    "\n",
    "value_prov=50 # Provincia\n",
    "value_prov_string = str(value_prov)\n",
    "string_prov = 'select[name=\"ctl00$ContentPlaceHolder1$DropDownListProvincia\"] option[value=\"'+value_prov_string+'\"]'\n",
    "desplegable_prov = driver.find_element_by_css_selector(string_prov)\n",
    "click_desplegable_prov = desplegable_prov.click()\n",
    "\n",
    "time.sleep(2)\n",
    "\n",
    "value_est=2 # Estacion\n",
    "value_est_string = str(value_est)\n",
    "string_est = 'select[name=\"ctl00$ContentPlaceHolder1$DropDownListEstacion\"] option[value=\"'+value_est_string+'\"]'\n",
    "desplegable_est = driver.find_element_by_css_selector(string_est)\n",
    "click_desplegable_est = desplegable_est.click()\n",
    "\n",
    "time.sleep(2)\n",
    "\n",
    "agregar_estacion = driver.find_element_by_css_selector('input[name=\"ctl00$ContentPlaceHolder1$ButtonAgregar\"]')\n",
    "click_agregar_estacion=agregar_estacion.click() # Botón para agregar estación climática\n",
    "\n",
    "time.sleep(0.5)\n",
    "\n",
    "driver.find_element_by_id('txtFechaIni').clear() # Borra la fecha de inicio por defecto\n",
    "\n",
    "time.sleep(0.5)\n",
    "\n",
    "driver.find_element_by_id('txtFechaFin').clear() # Borra la fecha fin por defecto\n",
    "\n",
    "time.sleep(2)\n",
    "\n",
    "inputElement = driver.find_element_by_id(\"txtFechaIni\")\n",
    "inputElement.send_keys('10/11/2018') # Fecha de Inicio\n",
    "\n",
    "time.sleep(2)\n",
    "\n",
    "inputElement = driver.find_element_by_id(\"txtFechaFin\")\n",
    "inputElement.send_keys('15/11/2018') # Fecha de fin\n",
    "\n",
    "time.sleep(2)\n",
    "\n",
    "consultar_datos_button = driver.find_element_by_css_selector('input[name=\"ctl00$ContentPlaceHolder1$btnConsultar\"]')\n",
    "consultar_datos = consultar_datos_button.click() # Botón de consultar datos\n",
    "\n",
    "time.sleep(2)\n",
    "\n",
    "driver.switch_to.window(driver.window_handles[1])\n",
    "exportar_csv_link = driver.find_element_by_css_selector('a[id=\"ContentPlaceHolder1_ExportarCSV\"]')\n",
    "descargar_csv = exportar_csv_link.click() # Botón de exportar csv\n",
    "\n",
    "time.sleep(2)\n",
    "\n",
    "driver.quit() # Cierra el navegador\n",
    "\n",
    "\n",
    "zip_ref = zipfile.ZipFile('Resultados Selenium/InformeDatos.zip', 'r') # Carga el zip de salida guardado en \"Resultados Selenium\"\n",
    "zip_ref.extractall(\"Resultados Selenium/\") # Extrae el fichero csv del zip \n",
    "zip_ref.close()\n",
    "os.remove('Resultados Selenium/InformeDatos.zip') # Borra el archivo 'ImportarDatos.zip'"
   ]
  }
 ],
 "metadata": {
  "kernelspec": {
   "display_name": "Python 3",
   "language": "python",
   "name": "python3"
  },
  "language_info": {
   "codemirror_mode": {
    "name": "ipython",
    "version": 3
   },
   "file_extension": ".py",
   "mimetype": "text/x-python",
   "name": "python",
   "nbconvert_exporter": "python",
   "pygments_lexer": "ipython3",
   "version": "3.10.6"
  },
  "vscode": {
   "interpreter": {
    "hash": "369f2c481f4da34e4445cda3fffd2e751bd1c4d706f27375911949ba6bb62e1c"
   }
  }
 },
 "nbformat": 4,
 "nbformat_minor": 2
}
