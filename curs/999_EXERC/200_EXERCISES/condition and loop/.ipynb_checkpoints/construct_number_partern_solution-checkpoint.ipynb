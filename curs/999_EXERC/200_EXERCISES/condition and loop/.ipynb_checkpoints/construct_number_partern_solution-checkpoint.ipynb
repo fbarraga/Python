{
 "cells": [
  {
   "cell_type": "code",
   "execution_count": 1,
   "metadata": {},
   "outputs": [
    {
     "name": "stdout",
     "output_type": "stream",
     "text": [
      "\n",
      "1\n",
      "22\n",
      "333\n",
      "4444\n",
      "55555\n",
      "666666\n",
      "7777777\n",
      "88888888\n",
      "999999999\n"
     ]
    }
   ],
   "source": [
    "# ---------------------------------------------------------------\n",
    "# python best courses https://courses.tanpham.org/\n",
    "# ---------------------------------------------------------------\n",
    "# Write a Python program to construct the following pattern, using a nested loop number.\n",
    "# 1                                                                                                             \n",
    "# 22                                                                                                            \n",
    "# 333                                                                                                           \n",
    "# 4444                                                                                                          \n",
    "# 55555                                                                                                         \n",
    "# 666666                                                                                                        \n",
    "# 7777777                                                                                                       \n",
    "# 88888888                                                                                                      \n",
    "# 999999999\n",
    "for i in range(10):\n",
    "    print(str(i) * i)\n",
    "\t"
   ]
  }
 ],
 "metadata": {
  "kernelspec": {
   "display_name": "Python 2",
   "language": "python",
   "name": "python2"
  },
  "language_info": {
   "codemirror_mode": {
    "name": "ipython",
    "version": 2
   },
   "file_extension": ".py",
   "mimetype": "text/x-python",
   "name": "python",
   "nbconvert_exporter": "python",
   "pygments_lexer": "ipython2",
   "version": "2.7.13"
  }
 },
 "nbformat": 4,
 "nbformat_minor": 2
}
