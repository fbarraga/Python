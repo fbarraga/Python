{
 "cells": [
  {
   "cell_type": "code",
   "execution_count": 3,
   "metadata": {},
   "outputs": [
    {
     "name": "stdout",
     "output_type": "stream",
     "text": [
      "enter side 1\n",
      "1\n",
      "enter side 2\n",
      "2\n",
      "enter side 3\n",
      "3\n",
      "yes, it can form a degenerated triangle\n"
     ]
    }
   ],
   "source": [
    "# ---------------------------------------------------------------\n",
    "# python best courses https://courses.tanpham.org/\n",
    "# ---------------------------------------------------------------\n",
    "# Write a Python program to check a triangle is valid or not\n",
    "\n",
    "def triangle_check(l1,l2,l3):\n",
    "    if (l1>l2+l3) or (l2>l1+l3) or (l3>l1+l2):\n",
    "        print('No, the lengths wont form a triangle')\n",
    "    elif (l1==l2+l3) or (l2==l1+l3) or (l3==l1+l2):\n",
    "        print('yes, it can form a degenerated triangle')\n",
    "    else:\n",
    "        print('Yes, a triangle can be formed out of it')\n",
    "\n",
    "length1 = int(input('enter side 1\\n'))\n",
    "length2 = int(input('enter side 2\\n'))\n",
    "length3 = int(input('enter side 3\\n'))\n",
    "\n",
    "triangle_check(length1,length2,length3)\n"
   ]
  }
 ],
 "metadata": {
  "kernelspec": {
   "display_name": "Python 2",
   "language": "python",
   "name": "python2"
  },
  "language_info": {
   "codemirror_mode": {
    "name": "ipython",
    "version": 2
   },
   "file_extension": ".py",
   "mimetype": "text/x-python",
   "name": "python",
   "nbconvert_exporter": "python",
   "pygments_lexer": "ipython2",
   "version": "2.7.13"
  }
 },
 "nbformat": 4,
 "nbformat_minor": 2
}
