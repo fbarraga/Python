{
 "cells": [
  {
   "cell_type": "code",
   "execution_count": 4,
   "metadata": {},
   "outputs": [],
   "source": [
    "# Given an array of integers, return indices of the two numbers\n",
    "# such that they add up to a specific target.\n",
    "# You may assume that each input would have exactly one solution\n",
    "\n",
    "# Example:\n",
    "#     Given nums = [2, 7, 11, 15], target = 26,\n",
    "#     Because nums[2] + nums[3] = 11 + 15 = 26,\n",
    "#     return [2, 3]."
   ]
  }
 ],
 "metadata": {
  "kernelspec": {
   "display_name": "Python 3",
   "language": "python",
   "name": "python3"
  },
  "language_info": {
   "codemirror_mode": {
    "name": "ipython",
    "version": 3
   },
   "file_extension": ".py",
   "mimetype": "text/x-python",
   "name": "python",
   "nbconvert_exporter": "python",
   "pygments_lexer": "ipython3",
   "version": "3.6.1"
  }
 },
 "nbformat": 4,
 "nbformat_minor": 2
}
