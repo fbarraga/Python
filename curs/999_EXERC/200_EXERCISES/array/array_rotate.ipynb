{
 "cells": [
  {
   "cell_type": "code",
   "execution_count": 3,
   "metadata": {},
   "outputs": [],
   "source": [
    "# Rotate an array of n elements to the right by k steps.\n",
    "# For example, with n = 7 and k = 3,\n",
    "# the array [1,2,3,4,5,6,7] is rotated to [5,6,7,1,2,3,4].\n",
    "# Note:\n",
    "# Try to come up as many solutions as you can,\n",
    "# there are at least 3 different ways to solve this problem."
   ]
  }
 ],
 "metadata": {
  "kernelspec": {
   "display_name": "Python 3",
   "language": "python",
   "name": "python3"
  },
  "language_info": {
   "codemirror_mode": {
    "name": "ipython",
    "version": 3
   },
   "file_extension": ".py",
   "mimetype": "text/x-python",
   "name": "python",
   "nbconvert_exporter": "python",
   "pygments_lexer": "ipython3",
   "version": "3.6.1"
  }
 },
 "nbformat": 4,
 "nbformat_minor": 2
}
