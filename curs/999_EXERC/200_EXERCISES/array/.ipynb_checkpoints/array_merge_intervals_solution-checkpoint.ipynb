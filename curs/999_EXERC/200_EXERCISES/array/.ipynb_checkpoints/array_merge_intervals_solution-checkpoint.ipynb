{
 "cells": [
  {
   "cell_type": "code",
   "execution_count": 2,
   "metadata": {},
   "outputs": [
    {
     "name": "stdout",
     "output_type": "stream",
     "text": [
      "[[1, 10], [11, 18], [19, 22]]\n"
     ]
    }
   ],
   "source": [
    "# ---------------------------------------------------------------\n",
    "# python best courses https://courses.tanpham.org/\n",
    "\n",
    "\"\"\"\n",
    "Given a collection of intervals which are already sorted by start number, merge all overlapping intervals.\n",
    "For example,\n",
    "Given [[1,3],[2,6],[5,10],[11,16],[15,18],[19,22]],\n",
    "return [[1, 10], [11, 18], [19, 22]]\n",
    "\"\"\"\n",
    "\n",
    "org_intervals = [[1,3],[2,6],[5,10],[11,16],[15,18],[19,22]]\n",
    "\n",
    "i = 0\n",
    "\n",
    "while i < len(org_intervals)-1:\n",
    "#     print(org_intervals[i])\n",
    "    if org_intervals[i+1][0] < org_intervals[i][1]:\n",
    "        org_intervals[i][1]=org_intervals[i+1][1]\n",
    "        del org_intervals[i+1]\n",
    "        i = i - 1\n",
    "    i = i + 1\n",
    "\n",
    "print(org_intervals)"
   ]
  }
 ],
 "metadata": {
  "kernelspec": {
   "display_name": "Python 2",
   "language": "python",
   "name": "python2"
  },
  "language_info": {
   "codemirror_mode": {
    "name": "ipython",
    "version": 2
   },
   "file_extension": ".py",
   "mimetype": "text/x-python",
   "name": "python",
   "nbconvert_exporter": "python",
   "pygments_lexer": "ipython2",
   "version": "2.7.13"
  }
 },
 "nbformat": 4,
 "nbformat_minor": 2
}
