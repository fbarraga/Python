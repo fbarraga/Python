{
 "cells": [
  {
   "cell_type": "code",
   "execution_count": null,
   "metadata": {
    "collapsed": true
   },
   "outputs": [],
   "source": [
    "# Write a Python program to find urls in a string.\n",
    "# \n",
    "# Input\n",
    "# '<p>Contents :</p><a href=\"https://www.w3schools.com/html/\">Python Examples</a><a href=\"http://github.com\">Even More Examples</a>'\n",
    "# \n",
    "# Output\n",
    "# Urls:  ['https://w3resource.com', 'http://github.com']"
   ]
  }
 ],
 "metadata": {
  "kernelspec": {
   "display_name": "Python 3",
   "language": "python",
   "name": "python3"
  },
  "language_info": {
   "codemirror_mode": {
    "name": "ipython",
    "version": 3
   },
   "file_extension": ".py",
   "mimetype": "text/x-python",
   "name": "python",
   "nbconvert_exporter": "python",
   "pygments_lexer": "ipython3",
   "version": "3.6.1"
  }
 },
 "nbformat": 4,
 "nbformat_minor": 2
}
