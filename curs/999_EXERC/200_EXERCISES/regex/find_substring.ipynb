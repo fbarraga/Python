{
 "cells": [
  {
   "cell_type": "code",
   "execution_count": null,
   "metadata": {
    "collapsed": true
   },
   "outputs": [],
   "source": [
    "# Write a Python program to find the occurrence and position of the substrings within a string.\n",
    "# \n",
    "# Input\n",
    "# text = 'Python exercises, PHP exercises, C# exercises'\n",
    "# pattern = 'exercises'\n",
    "# \n",
    "# Output\n",
    "# Found \"exercises\" at 7:16                                                                                     \n",
    "# Found \"exercises\" at 22:31                                                                                    \n",
    "# Found \"exercises\" at 36:45"
   ]
  }
 ],
 "metadata": {
  "kernelspec": {
   "display_name": "Python 3",
   "language": "python",
   "name": "python3"
  },
  "language_info": {
   "codemirror_mode": {
    "name": "ipython",
    "version": 3
   },
   "file_extension": ".py",
   "mimetype": "text/x-python",
   "name": "python",
   "nbconvert_exporter": "python",
   "pygments_lexer": "ipython3",
   "version": "3.6.1"
  }
 },
 "nbformat": 4,
 "nbformat_minor": 2
}
