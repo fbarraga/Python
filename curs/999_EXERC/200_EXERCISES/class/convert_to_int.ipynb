{
 "cells": [
  {
   "cell_type": "code",
   "execution_count": null,
   "metadata": {
    "collapsed": true
   },
   "outputs": [],
   "source": [
    "# Write a Python class to convert a roman numeral to an integer\n",
    "\n",
    "# Sample input\n",
    "# 'MMMCMLXXXVI'\n",
    "# 'MMMM'\n",
    "# 'C'\n",
    "\n",
    "# Sample output\n",
    "# 3986                                                                                                          \n",
    "# 4000                                                                                                          \n",
    "# 100"
   ]
  }
 ],
 "metadata": {
  "kernelspec": {
   "display_name": "Python 3",
   "language": "python",
   "name": "python3"
  },
  "language_info": {
   "codemirror_mode": {
    "name": "ipython",
    "version": 3
   },
   "file_extension": ".py",
   "mimetype": "text/x-python",
   "name": "python",
   "nbconvert_exporter": "python",
   "pygments_lexer": "ipython3",
   "version": "3.6.1"
  }
 },
 "nbformat": 4,
 "nbformat_minor": 2
}
