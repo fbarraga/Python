{
 "cells": [
  {
   "cell_type": "code",
   "execution_count": null,
   "metadata": {
    "collapsed": true
   },
   "outputs": [],
   "source": [
    "# Write a Python program to sort a list of elements using shell sort algorithm.\n",
    "# Note : According to Wikipedia \"Shell sort or Shell's method, is an in-place comparison sort. \n",
    "# It can be seen as either a generalization of sorting by exchange (bubble sort) or sorting by insertion (insertion sort). \n",
    "# The method starts by sorting pairs of elements far apart from each other, then progressively reducing the gap between\n",
    "# elements to be compared. Starting with far apart elements can move some out-of-place elements into position faster than\n",
    "# a simple nearest neighbor exchange.\""
   ]
  }
 ],
 "metadata": {
  "kernelspec": {
   "display_name": "Python 3",
   "language": "python",
   "name": "python3"
  },
  "language_info": {
   "codemirror_mode": {
    "name": "ipython",
    "version": 3
   },
   "file_extension": ".py",
   "mimetype": "text/x-python",
   "name": "python",
   "nbconvert_exporter": "python",
   "pygments_lexer": "ipython3",
   "version": "3.6.1"
  }
 },
 "nbformat": 4,
 "nbformat_minor": 2
}
