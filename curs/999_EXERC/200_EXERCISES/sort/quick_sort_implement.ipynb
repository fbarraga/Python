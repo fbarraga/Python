{
 "cells": [
  {
   "cell_type": "code",
   "execution_count": null,
   "metadata": {
    "collapsed": true
   },
   "outputs": [],
   "source": [
    "# Write a Python program to sort a list of elements using the quick sort algorithm.\n",
    "# Note : According to Wikipedia \"Quicksort is a comparison sort, meaning that it can \n",
    "# sort items of any type for which a \"less-than\" relation (formally, a total order) is defined. \n",
    "# In efficient implementations it is not a stable sort, meaning that the relative order of equal \n",
    "# sort items is not preserved. Quicksort can operate in-place on an array, requiring small additional\n",
    "# amounts of memory to perform the sorting.\""
   ]
  }
 ],
 "metadata": {
  "kernelspec": {
   "display_name": "Python 3",
   "language": "python",
   "name": "python3"
  },
  "language_info": {
   "codemirror_mode": {
    "name": "ipython",
    "version": 3
   },
   "file_extension": ".py",
   "mimetype": "text/x-python",
   "name": "python",
   "nbconvert_exporter": "python",
   "pygments_lexer": "ipython3",
   "version": "3.6.1"
  }
 },
 "nbformat": 4,
 "nbformat_minor": 2
}
