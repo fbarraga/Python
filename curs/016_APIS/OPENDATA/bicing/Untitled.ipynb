{
 "cells": [
  {
   "cell_type": "markdown",
   "id": "2b95e67f",
   "metadata": {},
   "source": [
    "# Exemple de dades obertes"
   ]
  },
  {
   "cell_type": "markdown",
   "id": "2d6a2b57",
   "metadata": {},
   "source": [
    "## Creació d'un mapa amb les parades del bicing de Barcelona"
   ]
  },
  {
   "cell_type": "markdown",
   "id": "7640a496",
   "metadata": {},
   "source": [
    "Importem les llibreries que necessitarem"
   ]
  },
  {
   "cell_type": "code",
   "execution_count": 1,
   "id": "781c2fb6",
   "metadata": {},
   "outputs": [],
   "source": [
    "import csv\n",
    "import pandas as pd\n",
    "import json"
   ]
  },
  {
   "cell_type": "code",
   "execution_count": 2,
   "id": "5708f393",
   "metadata": {},
   "outputs": [],
   "source": [
    "# Importem la llibreria per renderitzar maps desde OpenStreetMaps\n",
    "# Podeu consultar més informació: https://github.com/komoot/staticmap/blob/master/README.md\n",
    "from staticmap import StaticMap, CircleMarker\n"
   ]
  },
  {
   "cell_type": "markdown",
   "id": "5f0fc3d5",
   "metadata": {},
   "source": [
    "### Definim la localització d'on podem trobar el csv amb les localitzacions de les parades de bicing\n",
    "url = 'https://opendata-ajuntament.barcelona.cat/data/dataset/706e7507-7f84-480e-940d-23265bf5d853/resource/98b893c2-ac83-4f34-b40a-19a4911a066b/download/MERCATS_MUNICIPALS.csv'\n",
    "\n"
   ]
  },
  {
   "cell_type": "code",
   "execution_count": null,
   "id": "2af53436",
   "metadata": {},
   "outputs": [],
   "source": []
  },
  {
   "cell_type": "code",
   "execution_count": null,
   "id": "db15ac7b",
   "metadata": {},
   "outputs": [],
   "source": []
  }
 ],
 "metadata": {
  "kernelspec": {
   "display_name": "Python 3 (ipykernel)",
   "language": "python",
   "name": "python3"
  },
  "language_info": {
   "codemirror_mode": {
    "name": "ipython",
    "version": 3
   },
   "file_extension": ".py",
   "mimetype": "text/x-python",
   "name": "python",
   "nbconvert_exporter": "python",
   "pygments_lexer": "ipython3",
   "version": "3.11.1"
  }
 },
 "nbformat": 4,
 "nbformat_minor": 5
}
